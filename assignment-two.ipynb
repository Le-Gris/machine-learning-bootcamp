{
  "nbformat": 4,
  "nbformat_minor": 0,
  "metadata": {
    "accelerator": "GPU",
    "colab": {
      "name": "MAIS202_Assignment2.ipynb",
      "provenance": [],
      "collapsed_sections": []
    },
    "kernelspec": {
      "display_name": "Python 3",
      "name": "python3"
    }
  },
  "cells": [
    {
      "cell_type": "markdown",
      "metadata": {
        "id": "gpWWCpEXiEda"
      },
      "source": [
        "# Assignment 2 ― Classification"
      ]
    },
    {
      "cell_type": "markdown",
      "metadata": {
        "id": "r9UW_dipiFw9"
      },
      "source": [
        "## 0. Introduction\n",
        "\n",
        "In this second assigment, we will explore another cornerstone of machine learning: supervised classification. We will be specifically classifying IMDB movie reviews by their positive (1) or negative (-1) score. To do this, we will first pre-process the raw data by cleaning and turning each review into a vector. Then, we will explore and fine-tune our use of the following learning algorithms for classification: naive Bayes classifiers, support vector machines, and random forests. \n",
        "\n",
        "* [Question 1.1](#scrollTo=m0QxxH3KngAg)\n",
        "* [Question 2.1](#scrollTo=6VWSBN37uXod)\n",
        "* [Question 2.2](#scrollTo=CuW0ahvaJtOt)\n",
        "* [Question 2.3](#scrollTo=co54Ubd5QJDN)\n",
        "* [Question 3.1](#scrollTo=fN-dse1NBQnk)\n",
        "* [Question 3.2](#scrollTo=wfCjr-JrEJya)\n",
        "* [Question 3.3](#scrollTo=l1iGVZtkE5fF)\n",
        "* [Question 4.1](#scrollTo=YKLBuWjmAKoJ)\n",
        "* [Question 5.1](#scrollTo=Myn-42J9ACsH)\n",
        "* [Question 5.2](#scrollTo=1LAqa9be_3vR)\n",
        "* [Question 6.1](#scrollTo=C144CYOeYPca) [Optional] \n",
        "* [Question 6.2](#scrollTo=rnIbpGe-Z52z) [Optional] \n",
        "* [Question 6.3](#scrollTo=W6CdJGpjcK2r) [Optional] \n",
        "\n",
        "\n",
        "\n",
        "$% latex commands for later use$\n",
        "$\\newcommand{\\R}{\\mathbb{R}}$\n",
        "$\\newcommand{\\B}{\\mathbb{B}}$\n",
        "$\\newcommand{\\argmax}{\\operatorname*{arg\\ max}}$\n",
        "$\\newcommand{\\given}{\\; \\vert \\;}$\n",
        "\n"
      ]
    },
    {
      "cell_type": "markdown",
      "metadata": {
        "id": "1GJHuG6PnQ-N"
      },
      "source": [
        "## 1. Importing Libraries and Data\n",
        "\n",
        "For this assignment, we will be using a dataset of IMDB reviews. The data consists of a csv file where the first column is a string containing a user review and the second column specifies whether the review was positve (1) o negative (-1). First, we will import any libraries that we might use.\n",
        "\n",
        "**Note:** You may use any library you would like unless specified otherwise. "
      ]
    },
    {
      "cell_type": "markdown",
      "metadata": {
        "id": "m0QxxH3KngAg"
      },
      "source": [
        "### Question 1.1 Importing Libraries\n",
        "\n",
        "Keep on adding in the section below any modules you use as you are completing the assignment."
      ]
    },
    {
      "cell_type": "code",
      "metadata": {
        "id": "81LFo0NUUIJA"
      },
      "source": [
        "import csv\n",
        "import random\n",
        "### Answer starts here #\n",
        "import re\n",
        "import numpy as np\n",
        "import heapq\n",
        "import sklearn\n",
        "from sklearn import metrics, svm\n",
        "from sklearn.ensemble import RandomForestClassifier, AdaBoostClassifier\n",
        "from sklearn.model_selection import GridSearchCV\n",
        "\n",
        "\n",
        "### Answer ends here ###font"
      ],
      "execution_count": null,
      "outputs": []
    },
    {
      "cell_type": "markdown",
      "metadata": {
        "id": "053rRiUAnsxQ"
      },
      "source": [
        "Let's download the dataset:"
      ]
    },
    {
      "cell_type": "code",
      "metadata": {
        "id": "p4NfIOH0UXUq",
        "colab": {
          "base_uri": "https://localhost:8080/",
          "height": 208
        },
        "outputId": "bdb51eee-063f-47e6-f8b3-a174e3b056b8"
      },
      "source": [
        "!wget https://raw.githubusercontent.com/McGillAISociety/BootcampAssignmentDatasets/master/data/assignment2/train_reviews.csv"
      ],
      "execution_count": null,
      "outputs": [
        {
          "output_type": "stream",
          "text": [
            "--2020-10-18 18:06:06--  https://raw.githubusercontent.com/McGillAISociety/BootcampAssignmentDatasets/master/data/assignment2/train_reviews.csv\n",
            "Resolving raw.githubusercontent.com (raw.githubusercontent.com)... 151.101.0.133, 151.101.64.133, 151.101.128.133, ...\n",
            "Connecting to raw.githubusercontent.com (raw.githubusercontent.com)|151.101.0.133|:443... connected.\n",
            "HTTP request sent, awaiting response... 200 OK\n",
            "Length: 33333854 (32M) [text/plain]\n",
            "Saving to: ‘train_reviews.csv’\n",
            "\n",
            "train_reviews.csv   100%[===================>]  31.79M   107MB/s    in 0.3s    \n",
            "\n",
            "2020-10-18 18:06:08 (107 MB/s) - ‘train_reviews.csv’ saved [33333854/33333854]\n",
            "\n"
          ],
          "name": "stdout"
        }
      ]
    },
    {
      "cell_type": "markdown",
      "metadata": {
        "id": "Q6P_kDBXtpgw"
      },
      "source": [
        "And create a function to print a review:"
      ]
    },
    {
      "cell_type": "code",
      "metadata": {
        "id": "L-fshObCUX1-"
      },
      "source": [
        "def print_review(review, score):\n",
        "  print('--------------- Review with score of {} ---------------'.format(score))\n",
        "  print(review)\n",
        "  print('------------------------------------------------------')\n",
        "  print()"
      ],
      "execution_count": null,
      "outputs": []
    },
    {
      "cell_type": "markdown",
      "metadata": {
        "id": "2V_U9-Iwt0IP"
      },
      "source": [
        "Let's load the data and see what the first 10 reviews look like:\n"
      ]
    },
    {
      "cell_type": "code",
      "metadata": {
        "id": "87qWNsF7U3QO",
        "colab": {
          "base_uri": "https://localhost:8080/",
          "height": 732
        },
        "outputId": "d79f4007-dca9-4faa-9b28-5535ab938c70"
      },
      "source": [
        "with open('train_reviews.csv') as csv_file:\n",
        "  csv_reader = csv.reader(csv_file)\n",
        "  colnames = next(csv_reader)  # skip column names\n",
        "  data = list(csv_reader)\n",
        "\n",
        "for review, score in random.sample(data, 10):\n",
        "  print_review(review, score)"
      ],
      "execution_count": null,
      "outputs": [
        {
          "output_type": "stream",
          "text": [
            "--------------- Review with score of 1 ---------------\n",
            "this is best showing of what i think jesus really was like. most movies show jesus as being effeminate, lobotomized, or tortured. this jesus laughed, played, and was serious when it was necessary. this is the kind of jesus people could be attracted to, not the usually hollywood version.<br /><br />the movie took some liberties, attempting to \"fill in the blanks.\" but the fillers didn't seem impossible, or even improbable. one thing i might argue, was that it never really explained what the romans had against jesus (movie portrayed that the romans were the main driver of jesus' death, not that the jewish authorities were against the idea).<br /><br />it seemed that the movie was researched well. one example was the offhand comment to a teenage boy who was called \"mark.\" it is believed that mark (or john mark) was the boy referred to at the garden of gethsemane whose cloak was pulled off and ran away naked (mark 14:51). i get the feeling that they tried to make the movie as accurate (even in spirit) was much as possible.\n",
            "------------------------------------------------------\n",
            "\n",
            "--------------- Review with score of 1 ---------------\n",
            "***SPOILERS*** All too, in real life as well as in the movies, familiar story that happens to many young men who are put in a war zone with a gun, or rifle, in their hands. The case of young and innocent, in never handling or firing a gun, Jimmy Davis, Franchot Tone, has been repeated thousands of times over the centuries when men, like Jimmy Davis, are forced to take up arms for their country.<br /><br />Jimmy who at first wanted to be kicked out of the US Army but was encouraged to stay, by being belted in the mouth, by his good friend Fred P. Willis, Spencer Tracy, ended up on the front lines in France. With Jimmy's unit pinned down by a German machine gun nest he single handedly put it out of commission picking off some half dozen German soldiers from the safety of a nearby church steeple. It was when Jimmy gunned down the last surviving German, who raised his arms in surrender, that an artillery shell hit the steeple seriously wounding him.<br /><br />Recovering from his wounds at an Army hospital Jimmy fell in love with US Army volunteer nurse Rose Duffy, Gladys George. Rose was really in love with Jimmy's good friend the happy go lucky Fred despite his obnoxious antics towards her. It's when Fred was lost during the fighting on the Western Front that Rose, thinking that he was killed, fell in love and later married Jimmy. When Fred unexpectedly showed up in the French town where Jimmy, now fully recovered from his wounds, was stationed at things got very sticky for both him and Rose who had already accepted Jimmy's proposal of marriage to her!<br /><br />With WWI over and Jimmy marrying Rose left Fred, who's still in love with her, a bitter and resentful young man. It was almost by accident that Fred ran into Jimmy on the streets of New York City and discovered to his shock and surprise that he completely changed from the meek and non-violent person that he knew before he was sent to war on the European Western Front. Smug and sure of himself, and his ability to shoot a gun, Jimmy had become a top mobster in New York City's underworld! Not only that but as Fred later found out his wife Rose had no idea what Jimmy was really involved in with Jimmy telling her that he works as a law abiding and inoffensive insurance adjuster.<br /><br />Jimmy's life of crime came full circle when Rose, after she found out about his secret life, ratted him out to the police to prevent him from executing a \"Valentine Day\" like massacre, with his gang members dressed as cops, of his rival mobsters. While on trial Jimmy came to his senses and admitted his guilt willing to face the music and then, after his three year sentence is up, get his life back together. <br /><br />***SPOILER ALERT*** Hearing rumors from fellow convicts that Rose and his best friend Fred were having an affair behind his back Jimmy broke out of prison ending up a fugitive from the law. It's at Fred's circus, where he works as both manger and barker, that Jimmy in seeing that Rose as well as Fred were true to him that he, like at his trial, had a sudden change of heart. But the thought of going back to prison, with at least another ten years added on to his sentence, was just too much for Jimmy! It was then that Jimmy decided to end it all by letting the police who by then tracked him down do the job, that he himself didn't have the heart to do, for him!\n",
            "------------------------------------------------------\n",
            "\n",
            "--------------- Review with score of -1 ---------------\n",
            "This is one seriously disturbed movie. Even Though the boys deserved some of what they got.....the sadistic gruesome executions were \"slightly\" over the top. The only character showing some conscience early in the hunt was killed off before he could offer some help to the sad plot.<br /><br />At the beginning of the movie, there looked to be some promise of a mediocre affair, but this was just a ploy to lull the viewers into a false sense of security, before the joy of what was to come. <br /><br />The only thing that could have saved the movie for me was if Jack Nicholson had jumped out of the bushes and yelled, \"and, where is the batman?\". Kim Basinger could have screamed. <br /><br />Now that would have been cool!\n",
            "------------------------------------------------------\n",
            "\n",
            "--------------- Review with score of 1 ---------------\n",
            "I happened upon this film by accident, and really enjoyed. Timothy Busfield's character is without redeeming qualities, and at one point, Busfield and star Meloni ogle women as they pass by...Meloni's take on the parade is different from Busfield's. Janel Maloney is terrific...She looks very much like Tea Leone, but the major difference here is that Janel can actually ACT. Some very nice things in this film and well worth your attention when it's on cable.\n",
            "------------------------------------------------------\n",
            "\n",
            "--------------- Review with score of 1 ---------------\n",
            "I was lucky enough to see Zero Day last night. It's an amazing movie. A very disturbing one at that.<br /><br />In a way, Zero Day is very comparable to \"The Blair Witch Project\". It's shot completley with handheld camcorders. It's about 2 kids. Just your average kids. Andre and Calvin. They start a campaign against there High School entitled \"Army of 2\".<br /><br />The whole story is told in Video Diary form, from the 2 kids. It shows there relationships with there parents, amongst other people, showing that these are just normal kids, just like people we know or who have bumped into. We find out The Army of 2's last mission will be entitles Zero Day. They plan to shoot up there High School.<br /><br />You see how they get access to there guns, how they plan it out, everything. They stress that the media has not affected them at all, and there is no reason for doing this. Like I said, this is all told in Video Diary form, and then they store the tapes in a safety deposit box to be seen after Zero Day.<br /><br />The actual shooting is shown through Survillence Cameras throughout the school. Chilling indeed. The movie is very chilling. Some of the things they say, how they plan it out, you'd just have to see it for yourself. One quote that I remember is the only time Calvin is byhimself. He says \"Andre thinks were just gonna leave in some getaway car, doing this to numerous schools across the country. I don't know what he's thinking, but the only way I'm coming out of the school is in a black plastic bag\".<br /><br />I'm probaly not even giving you guys the proper idea of this film. You really need to see it yourself. It's going around festivals right now.<br /><br />A+.\n",
            "------------------------------------------------------\n",
            "\n",
            "--------------- Review with score of -1 ---------------\n",
            "Sorry everyone,,, I know this is supposed to be an \"art\" film,, but wow, they should have handed out guns at the screening so people could blow their brains out and not watch. Although the scene design and photographic direction was excellent, this story is too painful to watch. The absence of a sound track was brutal. The loooonnnnng shots were too long. How long can you watch two people just sitting there and talking? Especially when the dialogue is two people complaining. I really had a hard time just getting through this film. The performances were excellent, but how much of that dark, sombre, uninspired, stuff can you take? The only thing i liked was Maureen Stapleton and her red dress and dancing scene. Otherwise this was a ripoff of Bergman. And i'm no fan f his either. I think anyone who says they enjoyed 1 1/2 hours of this is,, well, lying.\n",
            "------------------------------------------------------\n",
            "\n",
            "--------------- Review with score of -1 ---------------\n",
            "This was a disappointing movie. Considering the material---army life is always good for a laugh---and the stars, this movie should have been a fall down laughfest. It was worth a couple of chuckles, at best. Steve Martin has been much funnier than this and it appears that Dan Ackroyd should stick to dramatic roles, where he might follow Robin Williams' lead and someday win an Oscar.\n",
            "------------------------------------------------------\n",
            "\n",
            "--------------- Review with score of 1 ---------------\n",
            "For a while I was caught in the trap where I found myself watching independent and foreign films and lying to myself that I liked them. Fatty Drives the Bus is the exception. It is the truth. It is the best \"bad\" movie ever.<br /><br />The \"badness\" of this movie seems to come naturally. Halfway through Satan's opening monologue, the word \"Hell\" appears at the bottom of the screen. The glamorous Bridget is an unshaven man in a wig and a thrift store dress. It takes the eccentric couple that keeps trying to kill each other FOREVER to walk down the stairs. Jesus walks to a funk soundtrack.<br /><br />Anyways, Fatty gives the impression that someone lost their tenure for advising a senior's film project. But it's the sincerity of how bad it is that makes it so wonderful. You get the impression the makers knew it was going to be bad, but never forced it.<br /><br />Never to be duplicated in wonder, Fatty delivers. Highly highly recommended.\n",
            "------------------------------------------------------\n",
            "\n",
            "--------------- Review with score of 1 ---------------\n",
            "I enjoyed it. In general, I'm not a fan of comedies and comedians, but I do like Whoopi. I'm also partial to Sci/Fi Fantasy. And the dinosaur craze. I read for pleasure, but when I'm feeling over-stressed or really mind-dead, I watch TV & movies to escape. Theodore Rex enabled me to do so. That makes it a success in my eyes! I didn't even walk away to do something else while it was running. Whether or not it was rated as \"good\" or not doesn't really matter to me. And no, I'm not a juvenile. Nor am I a moron.\n",
            "------------------------------------------------------\n",
            "\n",
            "--------------- Review with score of 1 ---------------\n",
            "A wonderful and gritty war film that focuses on the inner torment of blinded marine Al Schmid. Although it is tough and unpleasant it IS in the end heroic - Schmid's triumph over disability and depression. The battle scene was superb. But one bone to pick. No matter how many .50 bullets they fired I never saw any water or dirt being kicked up by the impacts! It hurt the realism, but I can live with it. Fine performance by Eleanor Parker, again, as his girl friend.\n",
            "------------------------------------------------------\n",
            "\n"
          ],
          "name": "stdout"
        }
      ]
    },
    {
      "cell_type": "markdown",
      "metadata": {
        "id": "D7qKVCAst-kv"
      },
      "source": [
        "## 2. Preprocessing\n",
        " We will be converting our data into a binary bag-of-words representation (Google \"binary bag-of-words\"). To do this, we will perform two steps beforehand."
      ]
    },
    {
      "cell_type": "markdown",
      "metadata": {
        "id": "6VWSBN37uXod"
      },
      "source": [
        "### Question 2.1 Cleaning the train data\n",
        "Create a function called `clean`, which takes a string and then:\n",
        "\n",
        " 1. lower-case all words \n",
        " 2. only keeps letters and spaces\n",
        " \n",
        "\n",
        " We also need to get rid of [HTML tags](https://www.javatpoint.com/html-tags) as they do not hold valuable information for classifying the review. A quick Google search on removing HTML tags with `regular expressions` will show you how to do this! \n",
        "  \n",
        "  For example, the following review...\n",
        "  \n",
        "  >`This was the WORST movie I have EVER SEEN!! <br/>`\n",
        "  \n",
        "  ...will be cleaned to become:\n",
        "  \n",
        "  >`this was the worst movie i have ever seen`\n",
        "  \n",
        "   Of course, you could do more pre-processing steps if you would like, such as lemmatization, stemming, etc... but TOTALLY OPTIONAL! "
      ]
    },
    {
      "cell_type": "code",
      "metadata": {
        "id": "rAje0IKVU2-c"
      },
      "source": [
        "def clean(review):\n",
        "  ### Start of Answer ###\n",
        "  review = review.lower()\n",
        "  review = re.sub('<.*?>','', review)\n",
        "  review = re.sub(r'[^\\w\\s]', '', review)\n",
        "  return review\n",
        "  ### End of Answer ###\n"
      ],
      "execution_count": null,
      "outputs": []
    },
    {
      "cell_type": "markdown",
      "metadata": {
        "id": "DwT4zB4RIodc"
      },
      "source": [
        "Test your function with this example string"
      ]
    },
    {
      "cell_type": "code",
      "metadata": {
        "id": "GBnmJ_jIU27c",
        "colab": {
          "base_uri": "https://localhost:8080/",
          "height": 34
        },
        "outputId": "61ac823a-055d-4f0e-cfef-8148d115c13f"
      },
      "source": [
        "print(clean(\"This was the WORST movie I have EVER SEEN!! <br/> \"))"
      ],
      "execution_count": null,
      "outputs": [
        {
          "output_type": "stream",
          "text": [
            "this was the worst movie i have ever seen  \n"
          ],
          "name": "stdout"
        }
      ]
    },
    {
      "cell_type": "markdown",
      "metadata": {
        "id": "nZ3csQCzI27I"
      },
      "source": [
        "Now, we'll use the function to clean the whole dataset. We'll also turn the scores from strings to integers while we're at it."
      ]
    },
    {
      "cell_type": "code",
      "metadata": {
        "id": "jRkQWUIvYfnO"
      },
      "source": [
        "X_train = []\n",
        "y_train = []\n",
        "for review, score in data:\n",
        "  X_train.append(clean(review))\n",
        "  y_train.append(int(score))"
      ],
      "execution_count": null,
      "outputs": []
    },
    {
      "cell_type": "markdown",
      "metadata": {
        "id": "CuW0ahvaJtOt"
      },
      "source": [
        "### Question 2.2 Picking features\n",
        "\n",
        "We now need to turn each review into vectors. We will pick the 10,000 most recurring words in the train set as features\n",
        "\n",
        "Using those 10,000 features, create a function called `vectorize` which will take a string as an input, and convert it to a vector using the binary bag of words representation.\n",
        "\n",
        "For example, the string `\"This movie made me cry\"` will become a vector of size 10,000 with 5 elements being 1 (assuming each word is part of the 10,000 most common) and 9995 being 0, that it, is i will look something like\n",
        "\n",
        " > `[0, 0, ..., 0, 1, 0, ..., 0, 1, 0..., 0, 1, 0, ..., 0, 1, 0 ..., 0, 1, 0, ..., 0, 0]`\n",
        " \n",
        " In order to accomplish this task, you will\n",
        " \n",
        " 1. write a `get_vocab` function which takes as an argument a list of (cleaned) reviews and the vocabulary size and outputs the a list of size `vocab_size` containing the most common words.\n",
        " 2. write a `vectorize` function which takes as an argument a review and the vocabulary and turns the review into its binary bag of words representation.\n",
        " 3. use the `vectorize` function to create a new variable called `X_train_vect` which will contain the bag-of-words representation of each data point contained in the `X_train` variable rather than its string representation.\n",
        "\n",
        "**Warning**: the last step may take up to 15 minutes depending on your implementation. Despite the execution speed not being evaluated in this assignment, do try your best to have fast and efficient code!"
      ]
    },
    {
      "cell_type": "code",
      "metadata": {
        "id": "Oa0E04tFYf6x"
      },
      "source": [
        "def get_vocab(reviews, vocab_size):\n",
        "  ### Answer starts here ###\n",
        "  reviews_2D = np.array(reviews)\n",
        "  word_list = []\n",
        "  \n",
        "  for review in reviews_2D:\n",
        "    y = review.split()\n",
        "    word_list.extend(y)\n",
        "  \n",
        "  vocab_all = {}\n",
        "\n",
        "  for word in word_list:\n",
        "    if word in vocab_all:\n",
        "      vocab_all[word] += 1\n",
        "    else:\n",
        "      vocab_all[word] = 1\n",
        "  \n",
        "  vocab_most_freq = heapq.nlargest(vocab_size, vocab_all, key=vocab_all.get) #get the n most frequent words\n",
        "\n",
        "  return vocab_most_freq\n",
        "\n",
        "  ### Answer ends here ###"
      ],
      "execution_count": null,
      "outputs": []
    },
    {
      "cell_type": "markdown",
      "metadata": {
        "id": "E38yzbclLXs3"
      },
      "source": [
        "Test your function with the following code. The `vocabulary` variable should have a length of 10,000 and the most common words should be \"the\", \"and\", \"a\", etc."
      ]
    },
    {
      "cell_type": "code",
      "metadata": {
        "id": "WD9Jz8zpYfru",
        "colab": {
          "base_uri": "https://localhost:8080/",
          "height": 72
        },
        "outputId": "cf1992f1-562e-4756-f655-d0de9ea9908a"
      },
      "source": [
        "num_features = 10000\n",
        "vocabulary = get_vocab(X_train, num_features)\n",
        "print(len(vocabulary))\n",
        "print(vocabulary)"
      ],
      "execution_count": null,
      "outputs": [
        {
          "output_type": "stream",
          "text": [
            "10000\n",
            "['the', 'and', 'a', 'of', 'to', 'is', 'in', 'it', 'this', 'i', 'that', 'was', 'as', 'with', 'for', 'movie', 'but', 'film', 'on', 'not', 'are', 'you', 'his', 'have', 'be', 'he', 'one', 'its', 'at', 'all', 'by', 'an', 'they', 'who', 'from', 'like', 'so', 'her', 'or', 'just', 'about', 'has', 'out', 'if', 'some', 'what', 'there', 'good', 'more', 'very', 'when', 'she', 'even', 'up', 'no', 'would', 'my', 'which', 'only', 'time', 'really', 'story', 'their', 'were', 'had', 'see', 'can', 'me', 'than', 'we', 'much', 'been', 'get', 'well', 'will', 'into', 'because', 'people', 'other', 'do', 'also', 'bad', 'great', 'how', 'first', 'most', 'him', 'dont', 'made', 'movies', 'then', 'films', 'make', 'could', 'way', 'them', 'any', 'too', 'after', 'characters', 'think', 'watch', 'two', 'many', 'being', 'seen', 'character', 'never', 'little', 'acting', 'plot', 'where', 'best', 'love', 'did', 'know', 'life', 'show', 'does', 'ever', 'your', 'better', 'over', 'still', 'off', 'end', 'these', 'say', 'man', 'here', 'scene', 'why', 'such', 'scenes', 'while', 'go', 'should', 'something', 'through', 'back', 'those', 'im', 'doesnt', 'real', 'watching', 'years', 'thing', 'actors', 'though', 'didnt', 'new', 'actually', 'makes', 'before', 'nothing', 'now', 'find', 'another', 'work', 'funny', 'few', 'look', 'old', 'going', 'same', 'lot', 'every', 'us', 'part', 'again', 'cant', 'director', 'quite', 'cast', 'want', 'thats', 'pretty', 'things', 'seems', 'young', 'got', 'around', 'fact', 'down', 'world', 'take', 'enough', 'between', 'give', 'may', 'both', 'big', 'horror', 'original', 'thought', 'own', 'however', 'ive', 'without', 'gets', 'always', 'series', 'right', 'isnt', 'long', 'saw', 'come', 'almost', 'times', 'least', 'role', 'point', 'action', 'must', 'interesting', 'whole', 'bit', 'comedy', 'family', 'theres', 'done', 'music', 'script', 'anything', 'might', 'hes', 'last', 'guy', 'feel', 'minutes', 'far', 'since', 'probably', 'performance', 'am', 'kind', 'rather', 'worst', 'away', 'yet', 'sure', 'tv', 'making', 'woman', 'girl', 'each', 'found', 'fun', 'played', 'anyone', 'our', 'comes', 'believe', 'having', 'trying', 'course', 'especially', 'goes', 'day', 'looks', 'shows', 'hard', 'although', 'different', 'put', 'wasnt', 'place', 'book', 'money', 'reason', 'sense', 'main', 'set', 'ending', 'looking', 'worth', 'true', 'once', 'watched', 'everything', 'plays', 'maybe', 'someone', 'job', 'actor', 'seem', 'said', 'takes', 'screen', 'dvd', 'three', 'play', 'together', 'beautiful', 'effects', 'during', 'instead', 'himself', '10', 'later', 'version', '2', 'john', 'left', 'everyone', 'seeing', 'audience', 'special', 'night', 'house', 'american', 'excellent', 'idea', 'wife', 'nice', 'simply', 'shot', 'youre', 'read', 'high', 'completely', 'less', 'black', 'else', 'help', 'kids', 'fan', 'war', 'star', 'used', 'poor', 'second', 'year', 'given', 'father', 'try', 'death', 'friends', 'need', 'rest', 'use', 'home', 'men', 'enjoy', 'mind', 'performances', 'short', 'classic', 'until', 'either', 'truly', 'hollywood', 'boring', 'along', 'half', 'wrong', 'dead', 'tell', 'production', 'line', 'women', 'remember', 'couple', 'came', 'start', 'recommend', 'next', 'understand', 'wonderful', 'full', 'getting', 'mean', 'others', 'stupid', 'let', 'moments', 'playing', 'keep', 'perhaps', 'awful', 'episode', 'camera', 'terrible', 'small', 'gives', 'stars', 'doing', 'often', 'sex', 'video', 'definitely', 'early', 'perfect', 'become', 'name', 'felt', 'face', 'school', 'human', 'supposed', 'couldnt', 'liked', 'lines', 'dialogue', 'piece', 'person', 'itself', 'lost', 'top', 'absolutely', 'case', 'against', 'went', 'entire', 'live', 'shes', 'waste', 'sort', 'certainly', 'head', 'budget', 'written', 'finally', 'style', 'hope', 'problem', 'picture', 'several', 'loved', 'evil', 'yes', 'title', 'worse', 'becomes', 'entertaining', 'cinema', 'mr', 'seemed', 'boy', 'beginning', 'white', 'fans', 'already', 'care', 'wanted', 'id', 'example', 'dark', 'based', 'lives', 'guys', 'killer', 'mother', 'friend', 'direction', 'throughout', 'turn', 'totally', 'wont', 'fine', 'wants', 'children', 'final', 'amazing', 'girls', 'laugh', 'drama', '3', 'guess', 'lead', 'tries', 'humor', 'called', 'youll', 'sound', 'writing', 'low', 'under', 'despite', 'works', 'turns', 'history', 'able', 'enjoyed', 'oh', 'behind', 'theyre', 'past', 'unfortunately', 'michael', 'quality', 'days', 'gave', 'favorite', 'starts', 'son', 'kill', 'game', '1', 'act', 'sometimes', 'town', 'side', 'viewer', 'parts', 'horrible', 'car', 'actress', 'ones', 'child', 'eyes', 'expect', 'soon', 'flick', 'themselves', 'heart', 'art', 'thinking', 'obviously', 'brilliant', 'stories', 'decent', 'genre', 'feeling', 'myself', 'run', 'late', 'directed', 'overall', 'stuff', 'blood', 'fight', 'says', 'close', 'city', 'took', 'heard', 'cannot', 'highly', 'hand', 'leave', 'except', 'killed', 'kid', 'matter', 'ill', 'moment', 'police', 'hell', 'wouldnt', 'extremely', 'roles', 'strong', 'happens', 'particularly', 'hour', 'lack', 'happened', 'involved', 'attempt', 'obvious', 'told', 'chance', 'living', 'wonder', 'etc', 'james', 'violence', 'including', 'complete', 'voice', 'murder', 'coming', 'daughter', 'group', 'looked', 'age', 'save', 'experience', 'type', 'simple', 'alone', 'number', 'exactly', 'slow', 'ago', 'shown', 'happen', 'god', 'interest', 'score', 'whose', 'brother', 'taken', 'none', 'serious', 'usually', 'across', 'cinematography', 'stop', 'hours', 'annoying', 'running', 'somewhat', 'song', 'known', 'opening', 'ends', 'musical', 'usual', 'sad', 'yourself', 'career', 'finds', 'hit', 'wish', 'started', 'released', 'huge', 'relationship', 'gore', 'scary', 'possible', 'lets', 'please', 'order', 'jokes', 'change', 'crap', 'david', 'saying', 'shots', 'reality', 'english', 'ridiculous', 'hilarious', 'episodes', 'novel', 'mostly', 'cool', 'cut', 'body', 'today', 'ok', 'female', 'major', 'seriously', 'opinion', 'talking', 'taking', 'call', 'robert', 'directors', 'strange', 'due', 'important', 'supporting', 'hero', 'knows', 'documentary', 'knew', 'view', 'power', 'events', 'turned', 'husband', 'apparently', 'happy', 'talent', 'clearly', 'songs', 'arent', 'level', 'room', 'british', 'single', 'king', 'tells', 'local', 'easily', 'attention', 'word', 'basically', 'anyway', '5', 'bring', 'problems', 'words', 'cheap', 'silly', 'sequence', 'modern', 'disappointed', 'television', 'light', 'falls', 'sets', 'future', 'four', 'beyond', 'similar', 'country', 'miss', 'five', 'whether', 'needs', '4', 'appears', 'romantic', 'giving', 'jack', 'comic', 'viewers', 'predictable', 'earth', 'upon', 'entertainment', 'talk', 'havent', 'rating', 'whats', 'within', 'paul', 'review', 'feels', 'message', 'george', 'mention', 'nearly', 'enjoyable', 'bunch', 'lady', 'theater', 'animation', 'richard', 'storyline', 'rock', 'actual', 'points', 'surprised', 'middle', 'moving', 'named', 'above', 'theme', 'lots', 'using', 'herself', 'dull', 'mystery', 'begins', 'add', 'ways', 'sequel', 'among', 'fantastic', 'typical', 'showing', 'elements', 'ten', 'york', 'easy', 'comments', 'stay', 'team', 'thriller', 'writer', 'tried', 'clear', 'effort', 'fall', 'certain', 'near', 'hate', 'release', 'french', 'famous', 'means', 'parents', 'tale', 'leads', 'kept', 'straight', 'greatest', 'buy', 'working', 'dialog', 'class', 'somehow', 'soundtrack', 'form', 'general', 'doubt', 'red', 'editing', 'weak', 'brought', 'sister', 'peter', 'figure', 'feature', 'oscar', 'season', 'material', 'hear', 'whos', 'gone', 'filmed', 'particular', 'sorry', 'viewing', 'learn', 'realistic', 'move', 'atmosphere', 'check', 'youve', 'tom', 'reviews', 'decided', 'sequences', 'fast', 'imagine', 'period', 'eventually', 'possibly', 'deal', 'lame', 'became', 'premise', 'follow', 'dance', 'de', 'space', 'stand', 'avoid', 'eye', 'difficult', 'sit', 'lee', 'wait', 'expected', 'poorly', 'forget', 'die', 'zombie', 'sexual', 'indeed', 'japanese', 'writers', 'nature', 'crime', 'surprise', 'third', 'nor', '80s', 'average', 'leaves', 'subject', 'suspense', 'killing', 'stage', 'believable', 'whatever', 'truth', 'needed', 'filmmakers', 'rent', 'screenplay', 'meets', 'meet', 'reading', 'begin', 'boys', 'question', 'romance', 'realize', 'street', 'emotional', 'forced', 'memorable', 'joe', 'dr', 'superb', 'minute', 'write', 'older', 'keeps', 'baby', 'earlier', 'interested', 'weird', 'whom', 'situation', 'footage', 'credits', 'features', 'beauty', 'dramatic', 'disney', 'shame', 'otherwise', 'towards', 'dog', 'previous', 'ask', 'badly', 'crazy', 'brings', 'note', 'hot', 'okay', 'comment', 'male', 'personal', 'worked', 'total', 'plenty', 'incredibly', 'sounds', 'society', 'admit', 'directing', 'perfectly', 'result', 'laughs', 'unless', 'cheesy', 'unique', 'quickly', 'free', 'america', 'deep', 'creepy', 'development', 'leading', 'appear', 'meant', 'brothers', 'return', 'hardly', 'plus', '20', 'hands', 'open', 'casting', 'b', 'effect', 'various', 'remake', 'create', 'imdb', 'mark', 'setting', 'christmas', 'mess', 'scifi', 'battle', 'background', 'forward', 'potential', 'dream', 'monster', 'powerful', 'portrayed', '70s', 'inside', 'business', 'fairly', 'outside', 'ideas', 'manages', 'bill', 'missing', 'fails', 'expecting', 'present', 'political', 'attempts', 'apart', 'deserves', 'twist', 'la', 'secret', 'dumb', 'fire', 'jane', 'fantasy', 'joke', 'fighting', 'air', 'pay', 'gay', 'front', 'masterpiece', 'married', 'rich', 'box', 'reasons', 'copy', 'agree', 'recently', 'nudity', 'break', 'ben', 'acted', 'talented', 'plain', 'success', 'telling', 'cute', 'william', 'western', 'further', 'match', 'villain', 'pure', 'missed', 'incredible', 'odd', 'girlfriend', 'doctor', 'caught', 'crew', 'decides', 'cop', 'large', 'social', 'sadly', 'mentioned', 'waiting', 'sees', 'unlike', 'uses', 'following', 'members', 'flat', 'ended', 'hold', 'popular', 'slightly', 'public', 'wasted', 'considering', 'pace', 'sweet', 'wrote', 'spent', 'suddenly', 'kills', 'entirely', 'compared', 'neither', 'created', 'intelligent', 'rate', 'cause', 'office', 'familiar', 'audiences', 'era', 'convincing', 'tension', 'bored', 'visual', 'escape', 'party', 'clever', 'moves', 'list', 'cartoon', 'biggest', 'revenge', 'laughing', 'credit', 'scott', 'basic', 'fear', 'successful', 'recent', 'gun', 'island', 'positive', 'spirit', 'trouble', 'spend', 'violent', 'consider', 'appreciate', 'books', 'choice', 'cover', 'mary', 'cold', 'water', 'zombies', 'died', 'dancing', 'speak', 'former', 'singing', 'portrayal', 'concept', 'science', 'filled', 'younger', 'value', 'adult', 'state', 'bizarre', 'produced', 'solid', 'common', 'werent', 'focus', 'amount', 'walk', 'exciting', 'ultimately', 'animated', 'effective', 'band', 'showed', 'language', 'german', 'italian', 'amusing', 'producers', 'fit', 'follows', 'runs', 'considered', 'impossible', 'van', 'decide', 'chemistry', 'impressive', 'cat', 'tone', 'store', 'won', 'pointless', 'company', 'depth', 'barely', 'win', 'control', 'situations', 'project', 'mad', 'changed', 'leaving', 'studio', '15', 'college', 'prison', '12', 'force', 'sick', 'respect', '8', 'hair', 'trip', 'somewhere', 'awesome', 'century', 'likes', 'planet', 'longer', 'failed', 'slasher', 'shooting', 'questions', 'involving', 'charming', 'honest', 'surprisingly', 'disturbing', 'trash', 'accent', 'generally', 'images', 'literally', 'starring', 'values', 'immediately', '30', 'tony', 'fake', 'bought', 'south', 'utterly', 'ghost', 'touch', 'recommended', 'pictures', 'steve', 'magic', 'natural', 'west', '7', 'ability', 'glad', 'aspect', 'pathetic', 'sitting', 'adventure', 'adaptation', 'computer', 'thanks', 'culture', 'appearance', 'explain', 'frank', 'normal', 'conclusion', 'fair', 'camp', 'cult', 'tough', 'stick', 'jim', 'alive', 'aside', 'remains', 'rare', 'knowing', 'catch', 'dad', 'thinks', 'appeal', 'meaning', 'army', 'silent', 'genius', 'added', 'terms', 'managed', 'humour', 'detective', 'soldiers', 'taste', 'military', 'garbage', 'sam', 'walking', '100', 'sexy', 'dreams', 'smith', 'twists', 'standard', 'subtle', 'loves', 'beautifully', 'comedies', 'london', 'attack', 'journey', 'personally', 'nowhere', 'yeah', 'honestly', 'woods', 'touching', 'purpose', 'complex', 'likely', 'naked', 'harry', 'pick', 'equally', 'channel', 'wild', 'excuse', 'terrific', 'fully', 'mood', 'master', 'lovely', 'chase', 'narrative', 'plan', 'road', 'cinematic', 'themes', 'central', 'fiction', 'constantly', 'contains', 'surely', 'issues', 'slowly', 'self', 'outstanding', 'week', 'unbelievable', 'nobody', 'brain', 'painful', 'innocent', 'batman', 'presented', 'thrown', 'pass', 'disappointing', 'youd', 'presence', 'date', 'marriage', 'historical', 'animals', 'spoilers', 'thus', 'thank', 'impression', 'stunning', 'places', 'laughable', 'costumes', 'shoot', 'critics', 'hoping', 'makers', 'club', 'mysterious', 'stands', 'details', 'mistake', 'photography', 'justice', 'edge', 'sent', 'indian', 'christopher', 'charm', 'soul', 'chris', 'charles', 'aspects', 'minor', 'door', 'ride', 'finish', 'climax', 'brief', 'exception', 'makeup', 'law', 'heavy', 'manner', 'stewart', 'feelings', 'government', 'suppose', 'color', 'element', 'support', 'vampire', 'mainly', 'expectations', 'boss', 'pieces', 'train', 'festival', 'opportunity', 'scenery', 'gang', 'names', 'filming', 'loud', 'acts', 'paris', 'bother', 'cry', 'victims', 'puts', 'track', 'changes', 'intended', 'serial', 'smart', 'award', 'falling', 'drawn', 'fascinating', 'throw', 'emotions', 'available', 'tired', 'suggest', 'charlie', 'include', 'victim', 'disappointment', 'church', 'blue', 'hasnt', 'hey', 'building', 'rated', 'emotion', 'twice', 'confused', 'likable', 'henry', 'ahead', 'hotel', 'compelling', 'motion', 'appeared', 'followed', '9', 'green', 'developed', 'dies', 'giant', 'image', 'mans', 'pain', 'laughed', 'students', 'lacks', 'gorgeous', 'approach', 'forever', 'besides', 'difference', 'everybody', 'share', 'impact', 'offer', 'hurt', 'million', 'fellow', 'wow', 'bruce', 'fresh', 'bed', '6', 'trailer', 'merely', 'wondering', 'proves', 'kelly', 'happening', 'confusing', 'speaking', 'finding', 'drive', 'moral', 'answer', 'relationships', 'bar', 'helps', 'supposedly', 'adults', 'system', 'funniest', 'shock', 'random', 'notice', 'jerry', 'putting', 'creative', 'key', 'mix', 'delivers', 'numbers', 'murders', 'jones', 'lighting', 'noir', 'christian', 'provides', 'student', 'mediocre', 'paid', 'damn', 'opera', 'born', 'bottom', 'billy', 'addition', 'event', 'negative', 'park', 'zero', 'lived', 'absolute', 'impressed', 'content', 'becoming', 'drug', 'fell', 'thoroughly', 'tragedy', 'gem', 'alien', 'offers', 'flying', 'boyfriend', 'land', 'producer', 'summer', 'lover', 'flicks', 'reminded', 'childhood', 'imagination', 'hospital', 'lose', 'flaws', 'attractive', 'seemingly', 'stuck', 'race', 'ii', 'tragic', 'rented', 'ugly', 'americans', 'extreme', 'standards', 'six', 'shouldnt', 'held', 'nasty', '90', 'holes', 'agent', 'intense', 'ms', 'spot', 'adds', 'page', 'williams', 'rape', 'martin', 'asks', 'beat', 'detail', 'pull', 'hidden', 'afraid', 'artistic', 'faces', 'filmmaker', 'turning', 'folks', 'seconds', 'porn', 'ray', 'games', 'industry', 'collection', 'step', 'arthur', 'affair', 'super', 'states', 'onto', 'shocking', 'latter', 'describe', 'al', 'angry', 'forgotten', 'picked', 'therefore', 'teenage', 'davis', 'alan', 'ready', 'area', 'actresses', 'mom', 'redeeming', 'favourite', 'led', 'design', 'grade', 'deliver', 'wooden', 'count', 'information', 'allowed', 'soldier', 'seven', 'inspired', 'struggle', 'compare', 'thin', 'carry', 'queen', 'dirty', 'personality', 'includes', 'chinese', 'brian', 'willing', 'ground', 'location', 'helped', 'apartment', 'news', 'lord', 'moved', 'bond', 'deeply', 'fashion', 'animal', 'wars', 'desperate', 'intelligence', 'martial', 'wonderfully', 'allen', 'quick', 'listen', 'direct', 'uncle', 'member', 'criminal', 'food', 'began', 'cliché', 'professional', 'grace', 'stephen', 'captain', 'scientist', 'castle', 'cops', 'jason', 'creature', 'todays', 'clothes', 'mental', 'rarely', 'introduced', 'double', 'cgi', 'worthy', 'phone', 'plane', 'humans', 'theatre', 'necessary', 'wearing', 'comedic', 'independent', 'realized', 'spoiler', 'anymore', 'tears', 'don', 'commentary', 'drugs', 'fox', 'apparent', 'trust', 'provide', 'physical', 'dying', 'superior', 'energy', 'allow', 'technical', 'wall', 'epic', 'treat', 'continue', 'desire', 'sky', 'ship', 'nightmare', 'remarkable', 'arts', 'filmmaking', 'sight', 'mouth', 'unusual', '60s', 'stone', 'accident', 'returns', 'limited', 'powers', 'scared', 'station', 'bloody', 'reminds', 'heroes', 'engaging', 'whatsoever', 'accept', 'ring', 'witch', 'pleasure', 'holds', 'suspect', 'douglas', 'wedding', 'danny', 'search', 'actions', 'hated', 'teacher', 'intriguing', 'brutal', 'build', 'tim', 'surprising', 'machine', 'wanting', 'asked', 'disaster', 'academy', 'sleep', 'russian', 'clichés', 'unnecessary', 'constant', 'vision', 'grand', 'finished', 'pacing', 'fred', 'bits', 'ie', 'sat', 'process', 'suicide', 'absurd', 'religious', 'artist', 'passion', 'nicely', 'extra', 'normally', 'lies', 'legend', 'johnny', 'anywhere', 'warning', 'monsters', 'roll', 'gotten', 'blame', 'lovers', 'anybody', 'media', 'killers', 'suit', 'faith', 'growing', 'explanation', 'deserve', 'joy', 'joan', 'watchable', 'instance', 'dangerous', 'toward', 'ladies', 'met', 'ed', 'players', 'memory', 'villains', 'winning', 'andy', 'unknown', 'skip', 'quiet', 'torture', 'hadnt', 'heads', '40', 'higher', 'smile', 'capture', 'accurate', 'eddie', 'pilot', 'jump', 'somebody', 'cars', 'hopes', 'heaven', 'according', 'jr', 'fail', 'community', 'river', 'creating', 'nick', 'exist', 'jeff', 'friendship', 'guns', 'responsible', 'fights', 'teen', 'record', 'featuring', 'vs', 'saved', 'kevin', 'moon', 'pulled', 'england', 'originally', 'worlds', 'dick', 'superman', 'months', 'understanding', 'terribly', 'taylor', 'lowbudget', 'starting', 'explained', 'european', 'keeping', 'dressed', 'manage', 'treated', 'whilst', 'kinda', 'reviewers', 'memories', 'jesus', 'radio', 'adam', 'hits', 'mixed', 'numerous', 'finest', 'prince', '50', 'judge', 'knowledge', 'loving', 'tarzan', 'officer', 'issue', 'lacking', 'player', 'private', 'unfunny', 'discover', 'delightful', 'pop', 'bland', 'jackson', 'sucks', 'deserved', 'prove', 'horse', 'vhs', 'fat', 'eat', 'price', 'forces', 'whenever', 'loose', 'floor', 'screaming', 'peoples', 'japan', 'psychological', 'streets', 'regular', 'pretentious', 'ordinary', 'witty', 'loss', 'included', 'field', 'jean', 'sign', 'spanish', 'drunk', 'opposite', 'heroine', 'broken', 'driving', 'portray', 'cable', 'empty', 'dated', 'conflict', 'humanity', 'loses', 'weve', 'bright', 'skills', 'noticed', 'mike', 'opens', 'locations', 'cuts', 'gene', 'bigger', 'talents', 'breaks', 'cage', 'aware', 'calls', 'discovered', 'saving', 'continues', 'partner', 'international', 'deals', 'wind', 'mine', 'heres', 'humorous', 'captured', 'morning', 'dealing', 'scream', 'blonde', 'ball', 'curious', 'visit', 'golden', 'length', 'werewolf', 'youth', 'fate', 'theyve', 'c', 'plots', 'gags', 'connection', 'traditional', 'magnificent', 'soap', 'gold', 'nonsense', 'results', 'perspective', 'rubbish', 'concerned', 'genuine', 'miles', 'current', 'received', 'naturally', 'murdered', 'realism', 'debut', 'allows', 'shallow', 'advice', 'fathers', 'learned', 'versions', 'satire', 'sing', 'kate', 'below', 'genuinely', 'occasionally', 'behavior', 'blind', 'bank', 'bob', '1950s', 'proved', 'grew', '90s', 'jimmy', 'kong', 'lesson', 'mission', 'stock', 'national', 'context', 'revealed', 'essentially', 'corny', 'anthony', 'ultimate', 'visuals', 'cameo', 'sheer', 'washington', 'unexpected', 'sean', 'vampires', 'morgan', 'unable', 'mrs', 'santa', 'develop', 'underrated', 'shop', 'formula', 'remembered', 'favor', 'steal', 'visually', 'frankly', 'owner', 'study', 'reach', 'luck', 'ages', 'ford', 'efforts', 'finale', 'cross', 'jennifer', 'references', 'identity', 'window', 'sudden', 'decade', 'keaton', 'albert', 'harris', 'sea', 'village', 'gonna', 'strength', 'program', 'survive', 'brilliantly', 'discovers', 'passed', 'segment', 'awkward', 'wise', 'singer', 'sisters', 'gary', 'crappy', 'spectacular', 'desert', 'majority', 'logic', 'welles', 'existence', 'sake', 'candy', 'awards', 'gangster', 'ice', 'board', 'types', 'leader', 'delivered', 'ann', 'reaction', 'creates', 'standing', 'stereotypes', 'flashbacks', 'bet', 'relate', 'lake', 'insane', 'utter', 'caused', 'sucked', 'gratuitous', 'graphic', 'ran', 'rob', 'meeting', 'pair', 'grant', 'trek', 'daughters', 'relief', 'dreadful', 'emotionally', 'painfully', 'foreign', 'speed', 'lucky', 'boat', 'fault', 'edited', 'practically', 'families', 'travel', 'described', 'devil', 'pleasant', 'author', 'freedom', 'eric', 'failure', 'decision', 'endless', 'robin', 'technology', 'site', 'reviewer', 'comparison', 'native', 'combination', 'assume', 'ancient', 'seasons', 'overly', 'portrays', 'feet', 'aka', 'thomas', 'rules', 'president', 'test', 'attitude', 'anime', 'hearing', 'proper', 'vehicle', 'portraying', 'foot', 'twenty', 'stopped', 'wide', 'asking', 'eating', 'commercial', 'sell', 'range', 'choose', 'dan', 'treatment', 'parody', 'learns', 'chosen', 'executed', 'laughter', 'marry', 'howard', 'uk', 'brown', 'believes', 'bear', 'capable', 'simon', 'steven', 'buddy', 'excited', 'largely', 'involves', 'gory', 'classics', 'fill', 'tape', 'hitler', 'produce', 'evening', 'barbara', 'recall', 'grow', 'lynch', 'wood', 'religion', 'broadway', 'product', 'wit', 'unrealistic', 'contrived', 'levels', 'entertained', 'luke', 'center', 'sheriff', 'round', 'anna', 'model', 'halloween', 'clue', 'drew', 'theatrical', 'ruined', 'theaters', 'kick', '50s', 'irritating', 'rescue', 'depressing', 'strongly', 'haunting', 'contrast', 'costs', 'sequels', 'claim', 'suffering', 'built', 'handsome', 'appealing', 'sympathetic', 'individual', 'research', 'destroy', 'sports', 'heck', 'd', 'generation', 'r', 'protagonist', 'captures', 'appropriate', 'extras', 'embarrassing', 'disgusting', 'shakespeare', 'talks', 'rise', 'rose', 'clean', 'hill', '1010', 'evidence', 'losing', 'dry', 'fame', 'tend', 'facts', 'victor', 'chick', 'parker', 'post', 'cares', 'chief', 'joseph', 'hunter', 'asian', 'matters', 'hanging', 'naive', 'daniel', 'grown', 'woody', 'football', 'bringing', 'voices', 'relatively', 'nevertheless', 'scare', 'thoughts', 'exploitation', 'walks', 'roy', '11', 'training', 'horribly', 'costume', 'freddy', 'canadian', 'matt', 'france', 'virtually', 'obsessed', 'correct', 'fits', 'creatures', 'priest', 'spoil', 'steals', 'haunted', 'convinced', 'promise', 'mask', 'teenagers', 'frame', 'insult', 'safe', 'saturday', 'teenager', 'excitement', 'crowd', 'vote', 'cost', 'dogs', 'fly', 'bomb', 'initial', 'till', 'lousy', 'halfway', 'cash', 'pity', 'satisfying', 'remain', 'dubbed', 'send', 'depicted', 'ryan', 'patrick', 'amateurish', 'alex', 'psycho', '1970s', 'influence', 'europe', 'winner', 'hide', 'holding', 'united', 'tiny', 'lower', 'soft', 'germany', 'tedious', 'contemporary', 'texas', 'louis', 'gordon', 'substance', 'asleep', 'unfortunate', 'jackie', 'cowboy', 'angel', 'unlikely', 'bodies', 'circumstances', 'nominated', 'oliver', 'touches', 'weekend', 'danger', 'presents', 'baseball', 'hopefully', 'flesh', 'lewis', 'australian', 'lawyer', 'closer', 'trilogy', 'max', 'viewed', 'witness', 'continuity', 'provided', 'serves', 'drag', 'marie', 'walter', 'f', 'handled', 'suffers', 'fool', 'weeks', 'amateur', 'cartoons', 'meanwhile', 'structure', 'shocked', 'cinderella', 'source', 'fare', 'category', 'reporter', 'plans', 'ruin', 'surreal', 'sons', 'repeated', 'brave', 'refreshing', 'nancy', 'chose', 'offensive', 'politics', 'hunt', 'fu', 'latest', 'accidentally', 'display', 'africa', 'seat', 'supernatural', 'pile', 's', 'warm', 'overthetop', 'roger', 'claims', 'deaths', 'market', 'angles', 'promising', 'studios', 'wayne', 'north', 'speaks', 'previously', 'target', 'qualities', 'robot', 'realizes', 'colors', 'anne', 'surprises', 'bugs', 'deadly', 'experiences', 'storytelling', 'factor', 'accents', 'adventures', 'harsh', 'convince', 'artists', 'designed', 'covered', 'hall', 'lesbian', 'speech', 'believed', 'skin', 'wouldve', 'service', 'draw', 'recognize', 'welcome', 'movement', 'professor', 'mainstream', 'rental', 'highlight', 'degree', 'hat', 'occasional', 'mistakes', 'uninteresting', 'sinatra', 'routine', 'victoria', 'propaganda', 'columbo', 'rain', 'directly', 'struggling', 'guilty', 'minds', 'aliens', 'walked', 'universal', 'twisted', 'magical', 'explains', 'friday', 'veteran', 'kinds', 'downright', 'focused', 'breaking', 'massive', 'combined', 'nude', 'invisible', 'inner', 'print', 'paper', 'princess', 'committed', 'teens', 'sympathy', 'section', 'edward', 'moore', 'offered', 'narration', 'remotely', 'ass', 'gritty', 'prime', 'sorts', 'j', 'suspenseful', 'treasure', 'peace', 'experienced', 'enemy', 'irish', 'featured', 'express', 'multiple', 'lonely', 'atrocious', 'reveal', 'regret', 'execution', 'universe', 'sharp', 'whoever', '1980s', 'legendary', 'kim', 'frightening', 'spends', 'insight', 'dollars', 'performed', 'reputation', 'figures', 'exact', '25', 'figured', 'hong', 'abuse', 'variety', 'birth', 'passing', 'rings', 'surface', 'prior', 'fictional', 'forgettable', 'false', 'anger', 'path', 'stolen', 'bothered', 'abandoned', 'theory', 'hired', 'ghosts', 'enter', 'forest', 'pulls', 'core', 'fairy', 'conversation', 'crash', 'subtitles', 'crying', 'spy', 'darkness', 'statement', 'paced', 'reveals', 'anderson', 'paint', 'erotic', 'russell', 'granted', 'melodrama', 'security', 'required', 'donald', 'dozen', 'powell', 'stays', 'blow', 'effectively', 'terror', 'trapped', 'stayed', 'drop', 'significant', 'cutting', 'hed', 'mountain', 'wilson', 'urban', 'worthwhile', 'paying', 'gas', 'crude', 'eight', 'demons', 'slapstick', 'proud', 'focuses', 'grim', 'von', 'rights', 'mere', 'buying', 'african', 'quest', 'spite', 'lights', 'beach', 'grave', 'account', 'wear', 'mgm', 'necessarily', 'forth', 'heavily', 'jobs', '14', 'listening', 'scale', 'scares', 'unconvincing', 'delivery', 'department', 'destroyed', '13', 'bmovie', 'emma', 'childrens', '1930s', 'clichéd', 'sir', 'everywhere', 'afternoon', 'amazed', 'network', 'andor', 'rule', 'desperately', 'metal', 'vietnam', 'imagery', 'caine', 'facial', 'driven', 'favorites', 'aint', 'scenario', 'bus', 'device', 'sounded', 'sensitive', 'flashback', 'matrix', 'dean', 'idiot', 'fabulous', 'changing', 'reminiscent', 'julia', 'mature', 'position', 'belief', 'faithful', 'skill', 'titanic', 'junk', 'cruel', 'revolution', 'placed', 'mothers', 'settings', 'novels', 'code', 'extraordinary', 'blockbuster', 'murphy', 'forgot', 'suffer', 'mexican', 'clark', 'closing', 'beloved', 'lifetime', 'campy', 'happiness', 'deeper', 'ron', 'jon', 'greater', 'musicals', 'stereotypical', 'interview', 'views', 'driver', 'angle', 'california', 'sunday', 'achieve', 'renting', 'criminals', 'prefer', 'ignore', 'helping', 'court', 'sleeping', 'pitt', 'dude', 'notorious', 'inept', 'san', 'understood', 'beast', 'learning', 'mexico', 'alright', 'league', 'depiction', 'rolling', 'amazingly', 'sitcom', 'bourne', 'pregnant', 'teeth', 'seek', 'raw', 'couldve', 'examples', 'breathtaking', 'blah', 'convey', 'jungle', 'bore', 'encounter', 'picks', 'disbelief', 'midnight', 'lisa', 'format', 'china', 'purely', 'table', 'entertain', 'dennis', 'cultural', 'quirky', 'kung', 'mildly', 'rough', 'answers', 'description', 'critical', 'fourth', 'calling', 'expert', 'indie', 'decades', 'complicated', 'starred', 'initially', 'summary', 'prepared', 'murderer', 'throws', 'serve', 'status', 'rip', 'pacino', 'underground', 'touched', 'julie', 'throwing', 'join', 'appreciated', 'dragon', 'friendly', 'drinking', 'productions', 'sarah', 'burns', 'honor', 'basis', 'funnier', 'subplot', 'comical', 'carries', 'regarding', 'everyday', 'expression', 'via', 'raised', 'arms', 'protect', 'introduction', 'base', 'freeman', 'blown', 'succeeds', 'task', 'alice', 'ned', 'suck', 'intellectual', 'susan', 'bollywood', 'criticism', 'thankfully', 'extent', 'fallen', 'wears', 'kiss', 'larry', 'leslie', 'caring', 'dress', 'racist', 'usa', 'brad', 'cabin', 'causes', 'inspiration', 'regard', 'brooks', 'environment', 'raise', 'truck', 'moviethe', 'carried', 'carrying', 'shadow', 'flight', 'handle', 'socalled', 'rachel', 'choices', 'attempting', 'tales', 'originality', 'sword', 'lazy', 'challenge', 'protagonists', 'praise', 'cases', 'foster', 'notable', 'ted', 'cell', 'ripoff', 'embarrassed', 'charge', 'ludicrous', 'enjoying', 'sinister', 'spoof', 'itthe', 'writerdirector', 'related', 'warned', 'weapons', 'johnson', 'shut', 'locked', 'turkey', 'maria', 'gruesome', 'ironic', 'hoffman', 'experiment', 'southern', 'replaced', 'rogers', 'properly', 'adding', 'breath', 'angels', 'determined', 'lie', 'escapes', 'x', 'nowadays', 'daily', 'sun', 'wins', 'pet', 'westerns', 'obnoxious', 'interpretation', 'aunt', 'screening', 'amongst', 'sleazy', 'clips', 'interviews', 'bbc', 'tradition', 'remote', 'jail', 'obsession', 'wave', 'sold', 'st', 'blair', 'exists', 'tight', 'strangely', 'reference', 'served', 'u', 'arrives', 'jumps', 'scripts', 'chilling', 'essential', 'hardy', 'contain', 'stops', 'navy', 'trick', 'burt', 'remind', 'claire', 'attacked', 'lugosi', 'punch', 'warner', 'elizabeth', 'goofy', 'successfully', 'dollar', 'laura', 'hills', 'michelle', 'graphics', 'jessica', 'frequently', 'hitchcock', 'ashamed', 'established', 'marvelous', 'timing', 'rival', 'nonexistent', 'drives', 'term', 'sum', 'flow', 'revolves', 'o', 'india', 'refuses', 'balance', 'authentic', 'jewish', 'oscars', 'flawed', '810', 'risk', 'mindless', 'mirror', 'stylish', 'warn', 'mentally', 'busy', 'legs', 'upset', 'struggles', 'manager', 'comedian', 'horrific', 'albeit', 'sidney', 'suspects', 'sides', 'nation', 'hood', 'delight', 'titles', 'overcome', 'tree', 'shower', 'hence', 'par', 'che', 'greatly', 'intensity', 'wishes', 'retarded', 'cynical', 'inspector', 'lane', 'spoken', 'riding', 'mansion', 'tense', 'gods', 'lesser', 'guard', 'attacks', 'bridge', 'mob', 'stomach', 'poignant', 'roberts', 'stanley', 'lion', 'bitter', 'intentions', 'presentation', 'wealthy', 'madness', 'andrews', 'buck', 'expressions', 'toy', 'controversial', 'topic', 'fbi', 'personalities', 'husbands', 'confusion', 'thousands', 'cooper', 'wasting', 'demon', 'medical', 'glimpse', 'technically', 'philip', 'bette', 'stranger', 'thrilling', 'suffered', 'stupidity', 'vacation', 'internet', 'opened', 'chan', 'pride', 'scientists', 'storm', 'dinner', 'ratings', 'alas', '30s', 'eg', 'guessing', 'bound', 'hundreds', 'broke', 'chair', 'happily', 'adapted', 'corner', 'patient', 'courage', 'shorts', 'mass', 'holmes', 'perform', 'shines', 'hint', 'dislike', 'seeking', 'uncomfortable', 'nazi', 'separate', 'text', 'advantage', 'lessons', 'chases', 'filmthe', 'infamous', 'miscast', 'contact', 'needless', 'countries', 'performers', 'sings', 'gross', 'trite', 'horses', 'physically', 'mouse', '2006', 'dubbing', 'innocence', 'trial', 'shape', 'east', 'letting', 'suggests', 'credible', 'atmospheric', 'rocks', 'credibility', 'thief', 'reed', 'jay', 'reunion', 'womans', 'cameos', 'glass', 'millions', 'whereas', 'hundred', 'consists', '2000', 'gripping', 'hole', 'lucy', 'sexuality', 'elvis', 'cook', 'tied', 'tracy', 'noble', '1960s', 'pool', 'portrait', 'crisis', 'technique', 'miller', 'sin', 'develops', 'ensemble', 'steps', 'troubled', 'curse', 'lovable', '110', 'concert', 'grey', 'bears', 'enjoyment', 'noted', 'oneliners', 'saves', 'holiday', 'idiotic', 'lying', 'racism', 'hanks', 'wwii', 'proof', 'gain', 'exceptional', 'meaningful', 'neat', 'torn', 'oddly', 'stretch', 'catholic', 'sentimental', 'weapon', 'accepted', 'screenwriter', 'bo', 'drink', 'plastic', 'franchise', 'searching', 'attraction', 'hiding', 'shed', 'connected', 'vincent', 'dialogs', 'lincoln', 'imaginative', 'fish', 'host', '710', 'belongs', 'dig', 'thrillers', 'unforgettable', 'entry', 'bettie', 'sends', 'solve', 'aired', 'flaw', 'concerns', 'annoyed', 'hoped', 'spots', 'kurt', 'helen', 'christ', 'ralph', 'card', 'succeed', 'guts', 'repeat', 'nine', 'nonetheless', 'fortunately', 'achieved', 'assistant', 'endearing', 'arm', 'sandler', 'irony', 'closely', 'object', 'virgin', 'appearances', 'worry', 'crimes', 'redemption', 'bag', 'nights', 'hearts', 'fortune', 'eerie', 'homeless', 'encounters', 'equal', 'profound', 'andrew', 'cousin', 'n', 'striking', 'dealt', 'aged', 'battles', 'believing', 'teach', 'complaint', 'checking', 'segments', 'tribute', 'sutherland', 'library', 'italy', 'neighborhood', 'videos', 'ha', 'snow', 'dragged', 'factory', 'covers', 'persons', 'ourselves', 'hunting', 'colorful', 'tune', 'quote', 'oil', 'dentist', 'h', 'miniseries', 'civil', 'thousand', 'essence', 'bucks', 'bat', 'hang', 'hooked', 'nelson', 'lucas', 'slight', 'pointed', 'jake', 'widmark', 'dancer', 'laid', 'charisma', 'mst3k', 'split', 'strikes', 'baker', 'countless', 'tour', 'glory', 'expensive', 'pat', 'knife', 'shoots', 'rush', 'cheese', 'stanwyck', 'pack', 'hamlet', 'colour', 'dare', 'dear', 'surrounded', 'dorothy', 'cube', 'competent', 'condition', 'zone', 'attempted', 'appearing', 'surrounding', 'stood', 'spending', 'workers', 'charismatic', '1st', 'incoherent', 'health', 'pitch', 'stronger', 'specific', 'chasing', 'intention', 'stealing', 'crafted', 'theyd', '18', 'massacre', 'catherine', '2001', 'attached', 'grows', 'unintentionally', 'aforementioned', 'lloyd', 'ripped', 'terrifying', 'chances', 'horrendous', 'easier', 'messages', 'setup', 'stunts', 'reactions', 'fx', '80', 'associated', 'shall', 'iti', 'hip', 'individuals', 'trade', 'rushed', 'curtis', 'seagal', 'rochester', 'requires', 'elsewhere', 'sexually', 'perfection', 'month', 'tricks', 'birthday', 'tons', 'moviei', 'beating', 'university', 'burning', 'creators', 'magazine', 'arnold', 'wing', 'sullivan', 'corrupt', 'guilt', 'wake', 'kings', 'gift', 'nose', 'homage', 'drags', 'goal', 'le', 'guest', 'noise', 'identify', 'revelation', 'dropped', 'stated', 'gag', 'matthau', 'stunt', 'silver', 'forgive', 'increasingly', 'exercise', 'represents', 'jeremy', 'overrated', 'allowing', 'importance', 'boredom', 'per', 'cats', 'neck', 'fired', 'dramas', 'camerawork', 'wanna', 'cardboard', 'vague', 'dawn', 'spike', 'stan', 'importantly', 'painting', 'performing', 'commit', 'instantly', 'contract', 'enters', 'kidnapped', 'walls', 'hype', 'briefly', 'killings', 'kane', 'faced', 't', 'gotta', '17', 'strictly', 'reynolds', 'medium', 'kicks', 'loser', 'weight', 'fitting', 'virus', 'pushed', 'disagree', 'techniques', 'row', 'carefully', 'fifteen', 'pie', 'basement', 'handful', 'chuck', '24', 'sophisticated', 'branagh', 'gothic', 'horrors', 'barry', 'winter', 'godfather', 'denzel', 'packed', 'notch', 'pleased', 'typically', 'wonders', 'realise', 'ian', 'brand', 'bobby', 'relevant', 'doors', 'nuclear', 'chaplin', 'partly', 'reallife', 'plague', 'presumably', 'letter', 'mustsee', 'shining', 'persona', 'admire', 'continued', 'acceptable', 'flash', 'marks', 'occurs', 'overlooked', 'silence', 'jesse', 'talked', 'britain', 'tremendous', 'korean', 'pleasantly', 'frustrated', 'toilet', 'resolution', 'heat', 'wondered', 'superhero', 'hitting', '45', 'hudson', 'comics', 'buried', 'fears', 'worthless', 'evident', 'breasts', 'destruction', 'inevitable', 'bride', 'arrested', 'executive', 'secretary', 'iii', 'boll', 'prevent', 'lab', 'listed', 'thumbs', 'competition', 'strip', 'fatal', 'accused', 'flawless', 'larger', 'superbly', 'canada', 'bush', 'projects', 'press', 'spell', 'beings', 'boxing', 'eva', 'derek', 'stiff', 'admittedly', 'guide', 'digital', 'attracted', 'investigation', 'bible', 'subplots', 'bullets', 'opposed', 'brando', 'estate', 'shy', '40s', 'masters', 'strike', 'struck', 'jumping', 'appalling', 'carol', 'genres', 'los', 'walken', 'root', 'clues', 'nazis', 'citizen', 'outrageous', 'menacing', 'spiritual', 'closeups', 'directorial', 'someones', 'planning', 'creation', 'luckily', 'union', 'returning', 'brilliance', 'splendid', 'sally', 'mild', 'sole', 'relative', 'subsequent', 'slightest', '2005', 'lacked', 'uninspired', 'logical', 'afterwards', 'inspiring', 'ambitious', 'cup', 'suits', 'dvds', 'mafia', '3d', 'thrills', 'jamie', 'precious', 'remaining', 'revealing', 'useless', 'glover', 'doc', 'watches', 'neighbor', 'pulling', 'repetitive', 'raped', 'installment', 'ward', 'souls', 'characterization', 'elderly', 'reasonably', 'depression', 'documentaries', 'aimed', 'convoluted', 'dire', 'savage', 'blob', 'curiosity', 'notably', 'spooky', 'twin', 'morality', 'hire', 'francisco', 'melodramatic', 'con', '911', 'picking', 'failing', 'poverty', 'rid', 'minimal', 'non', 'conspiracy', 'insulting', 'drunken', 'push', 'draws', 'territory', 'intrigued', 'response', 'overdone', 'repeatedly', 'theyll', 'photographed', 'border', 'cox', 'smooth', 'burn', 'notes', 'wannabe', 'screams', 'providing', 'cared', 'jerk', 'achievement', 'wicked', 'spoiled', 'accomplished', 'cia', 'ticket', 'wes', 'duke', 'generous', 'mile', 'shadows', 'reduced', 'explore', 'psychiatrist', 'adams', 'timeless', 'ken', 'corpse', 'blows', 'futuristic', 'samurai', 'karloff', 'forbidden', 'bleak', 'alike', 'flynn', 'darker', 'distant', 'tea', 'streisand', 'hatred', 'jealous', 'mid', 'heston', '310', '20th', 'argument', 'spring', 'meat', 'loosely', 'sticks', 'timothy', 'tall', 'mel', 'captivating', 'goldberg', 'reasonable', 'piano', 'manhattan', 'intent', 'wells', 'ritter', 'nurse', 'thirty', 'shell', 'laurel', 'outcome', 'motivation', 'burton', 'unbelievably', 'gentle', 'em', 'elaborate', 'mitchell', 'beaten', 'obscure', 'trap', 'highlights', 'grandmother', 'definite', 'rap', 'gradually', 'absence', 'ignored', 'misses', 'emily', 'improved', 'doctors', 'disease', 'childish', 'farce', 'discussion', 'huh', 'carpenter', 'stole', '910', 'shoes', 'beer', 'psychotic', 'et', 'explicit', 'cruise', 'ad', 'cried', 'pushing', 'miserably', 'connect', 'resembles', 'tortured', 'tunes', 'spielberg', 'indians', 'concerning', 'cole', 'davies', 'hardcore', 'blend', 'temple', 'spin', 'norman', 'knock', 'extended', 'reached', 'horrid', 'builds', 'affected', 'string', 'dancers', 'worried', 'spirits', 'fancy', 'neil', 'brazil', 'shortly', 'throat', 'returned', 'liberal', 'warrior', 'ranks', 'exaggerated', 'vicious', 'regardless', 'threat', 'displays', 'turner', 'cameras', 'sloppy', 'complain', 'purple', 'threw', 'prom', 'consequences', 'idiots', 'monkey', 'subjects', 'craig', 'pretend', 'arrive', 'eve', 'ought', 'demands', 'sacrifice', 'danes', 'wreck', 'waters', 'fisher', 'houses', 'enjoys', 'alltime', 'shark', 'distance', 'website', 'swedish', 'triumph', 'broad', 'drivel', 'smoking', 'harder', 'duo', 'currently', 'hysterical', 'dave', 'sunshine', 'lou', 'receive', 'ridiculously', 'carter', 'blank', 'overacting', 'diamond', 'elvira', 'alexander', 'poster', 'photographer', 'farm', 'restaurant', 'australia', 'conversations', 'groups', 'movements', 'dynamic', 'progress', 'drawing', 'size', 'argue', 'areas', 'officers', 'burned', 'landscape', 'eyre', 'modesty', 'beats', 'heroic', 'fever', 'comfortable', 'selfish', 'exposed', '410', 'daring', 'styles', 'matthew', 'brains', 'trio', 'scientific', 'staying', 'involvement', 'scripted', 'ironically', 'upper', 'investigate', 'ruth', 'murderous', 'load', 'smoke', 'selling', 'incident', 'annie', 'broadcast', 'empire', 'engaged', 'devoted', 'glenn', 'commercials', 'dignity', 'differences', 'robots', 'popcorn', 'buddies', 'fay', 'warren', 'superficial', 'occur', 'jet', 'critic', 'vivid', 'proceedings', 'existed', 'bands', 'kenneth', 'offering', 'aging', 'recognized', 'kudos', 'hollow', 'dinosaurs', 'couples', 'escaped', 'mountains', 'machines', 'newspaper', 'titled', 'swear', 'orders', 'rural', 'cusack', 'threatening', 'ireland', 'producing', 'kitchen', 'apes', 'panic', 'symbolism', 'rage', 'secrets', 'uneven', 'discovery', 'merit', 'deliberately', '2004', 'innovative', 'winters', 'lips', 'contrary', 'explaining', 'bathroom', 'journalist', 'block', 'detailed', 'translation', 'ex', 'bite', 'tame', '60', 'cagney', 'greek', 'brosnan', 'choreography', 'carrey', 'lily', 'imagined', 'relies', 'lighthearted', 'unpleasant', 'wealth', 'mate', 'folk', 'removed', 'staff', 'occurred', 'editor', 'juvenile', 'dawson', 'unbearable', 'possibility', 'web', 'adequate', 'holy', '2nd', 'intrigue', 'nearby', 'felix', 'hollywoods', 'signs', 'ingredients', 'versus', 'gray', 'soviet', 'causing', 'birds', 'thugs', 'chain', 'generic', 'combat', 'maker', '16', 'onscreen', 'abilities', 'margaret', 'craft', 'damage', 'conventional', 'pays', '2003', 'sidekick', 'overwhelming', 'abc', 'sadistic', 'meaningless', 'population', 'mildred', 'focusing', 'resemblance', 'nightmares', 'sadness', 'grab', 'primary', 'defeat', 'audio', 'travels', 'catches', 'astaire', 'joey', 'bell', 'eccentric', 'implausible', 'headed', 'lawrence', 'composed', 'portion', 'dialogues', 'stiller', 'narrator', 'itll', 'bin', 'lifestyle', 'passes', 'trees', 'hurts', 'explosion', 'disturbed', 'twelve', 'flies', 'perry', 'pulp', 'ships', 'hugh', 'liking', 'afford', 'devoid', 'highest', 'clumsy', 'exotic', 'giallo', 'settle', 'backdrop', 'financial', 'glorious', 'dozens', 'dracula', 'banned', 'clothing', 'chaos', 'discuss', 'winds', 'unintentional', 'primarily', 'hates', 'antics', 'react', 'falk', 'enormous', 'kirk', 'hitman', 'explored', 'official', 'leg', 'thrill', 'coherent', 'beneath', 'blatant', '2002', 'represent', 'doomed', 'surviving', 'reaches', 'shine', 'mixture', 'consistently', 'scheme', 'survival', 'urge', 'cameron', 'g', 'decisions', 'w', 'models', 'clint', 'undoubtedly', 'bird', 'smaller', 'remarkably', '1990s', 'roman', 'kapoor', 'karen', 'maggie', 'fond', 'carl', 'rank', 'mistaken', 'fighter', 'altogether', 'mickey', 'bold', 'jeffrey', 'disjointed', 'disc', 'neighbors', 'errors', 'unwatchable', 'describes', 'distracting', 'odds', 'slap', 'outer', 'notion', 'hints', 'dutch', 'careers', 'clown', 'cheating', 'benefit', 'butt', 'desperation', 'influenced', 'senseless', 'blew', 'props', 'seventies', 'kennedy', 'trailers', 'atlantis', 'everyones', 'contained', 'garden', 'heartwarming', 'topless', 'spare', 'bedroom', 'freak', 'sport', 'brady', 'yesterday', 'impress', 'drops', 'thick', 'dances', 'survivors', 'ideal', 'hideous', 'tap', 'vast', 'advance', 'instant', 'dating', 'uwe', 'offended', 'toys', 'monkeys', 'directs', 'richards', 'gangsters', 'possessed', 'brooklyn', 'cuba', 'explosions', 'weakest', 'florida', 'relations', 'backgrounds', 'tommy', 'wallace', 'classes', 'dedicated', 'awake', 'adorable', 'rebel', 'tear', '0', 'countryside', 'flop', 'jazz', 'voight', 'matches', 'specifically', 'guessed', 'gandhi', 'stellar', 'ups', 'montage', 'ties', 'loads', 'performer', 'april', 'whale', 'revolutionary', '3rd', 'ego', 'walker', 'frustration', 'commented', 'introduces', 'simplistic', 'wolf', 'lasted', 'linda', 'hal', 'tender', 'suited', 'rooms', 'occasion', 'depressed', 'coffee', 'judging', 'crush', 'practice', 'developing', 'saga', 'emphasis', 'principal', 'bare', 'politically', 'arrogant', 'shelf', 'rambo', 'ruthless', 'honesty', 'soccer', 'succeeded', 'philosophy', 'immensely', 'justify', 'illogical', 'doll', 'passionate', 'subtlety', 'hammer', 'satan', 'miserable', 'involve', 'mysteries', 'claimed', 'sellers', 'forms', 'motives', 'unfolds', 'similarities', 'link', 'disappeared', 'transformation', 'endure', 'hank', 'funeral', 'angeles', 'trashy', 'bone', 'kicked', 'amy', 'planned', 'interaction', 'tad', 'considerable', 'destiny', 'staged', 'solely', 'severe', 'loyal', 'avoided', 'circle', 'cary', 'endings', 'edie', 'command', 'stress', 'lust', 'outfit', 'method', 'measure', 'tracks', 'recorded', 'melting', 'chorus', 'disappear', 'leonard', 'wore', 'cards', 'facing', 'realizing', 'menace', 'aid', 'traveling', 'displayed', 'consistent', 'paulie', 'companion', 'isolated', 'stereotype', 'peters', 'hamilton', 'corruption', 'wrestling', 'synopsis', 'authority', 'todd', 'buffs', 'eastwood', 'agrees', 'thoughtful', 'ease', 'chased', 'blake', 'blues', 'photos', 'treats', 'cure', 'quotes', 'anyways', 'represented', 'celluloid', 'swimming', 'kidding', '1999', 'formulaic', 'yellow', 'divorce', 'dolls', 'waited', 'jonathan', 'report', 'purchase', 'inventive', 'possibilities', 'grasp', 'embarrassment', 'dickens', 'eighties', 'madefortv', 'satisfied', 'switch', 'goodness', 'taught', 'orson', 'hbo', 'lyrics', 'sits', 'preview', 'helicopter', 'enemies', 'riveting', 'ginger', 'surfing', 'colonel', 'defend', 'duty', 'snl', 'hunters', 'handed', 'unsettling', 'rick', 'ears', 'wished', 'nervous', 'cg', 'donna', 'carrie', 'delivering', 'e', 'harvey', 'widow', 'moody', 'onedimensional', 'march', 'comparing', 'relation', 'promised', 'myers', 'behave', 'improve', 'celebrity', 'tongue', 'voiceover', 'vegas', 'enterprise', 'holly', 'cliff', 'philosophical', '1980', 'oz', 'combine', 'pages', 'buildings', 'suitable', 'fix', 'horrifying', 'judy', 'crack', 'closet', 'valuable', 'blond', 'disappoint', 'parent', 'stinker', 'chess', 'terrorist', 'ignorant', 'diane', 'lemmon', 'bonus', 'solo', 'wives', 'prostitute', 'unhappy', 'hook', 'user', '1996', 'shirley', 'rocket', 'reads', 'buff', 'godzilla', 'waves', 'painted', 'kingdom', 'inane', 'scores', 'conflicts', 'corporate', 'closest', 'artificial', 'maintain', 'agents', 'tonight', 'engage', 'affect', 'elegant', 'online', 'l', 'humble', 'scottish', 'global', 'destroying', 'blacks', 'stooges', 'mario', 'ellen', 'reflect', 'sappy', 'snake', 'hart', 'education', 'faster', 'thru', 'racial', 'germans', 'lately', 'miracle', 'slave', 'rotten', 'motivations', 'fooled', 'sentence', 'wed', 'pretending', 'scope', 'stinks', 'useful', 'furthermore', 'understandable', 'coach', 'reaching', 'abysmal', 'transfer', 'seed', 'staring', 'letters', 'secretly', 'safety', 'amanda', 'similarly', 'plant', 'shake', 'airplane', 'museum', 'potentially', 'access', 'charlotte', 'centers', 'armed', 'stevens', 'questionable', 'remarks', 'earned', 'jumped', 'alongside', 'womens', 'iron', 'blade', 'inferior', 'intentionally', 'wet', 'arguably', 'poetic', 'dub', 'exploration', 'wandering', 'bullet', 'concern', 'americas', 'purchased', 'depicts', 'dinosaur', 'faults', 'amounts', 'advise', 'filmi', 'blunt', 'rex', 'yelling', 'elephant', 'alcoholic', 'provoking', 'brutally', 'francis', 'finger', 'airport', 'guarantee', 'nicholson', 'lay', 'tiresome', 'scarecrow', 'nostalgic', 'hung', 'communist', 'survived', 'civilization', 'virginia', 'trained', 'miike', 'arrived', 'punk', 'robbery', 'patients', 'homosexual', 'slick', 'showcase', 'campbell', 'splatter', 'floating', 'channels', 'vulnerable', 'rising', 'understated', 'beliefs', 'lengthy', 'greedy', 'proceeds', 'porno', 'nomination', 'spoke', 'bath', 'lees', 'tie', 'diana', 'joined', 'edgar', 'convincingly', 'advanced', 'plight', 'illegal', 'namely', 'troops', 'rendition', 'mini', 'steel', 'pig', 'wizard', '70', 'abusive', 'cleverly', 'confidence', 'grinch', 'terry', 'willis', 'familys', 'beatty', 'cinematographer', 'ah', 'downhill', 'nonstop', 'relatives', 'wrapped', 'ballet', 'fascinated', 'spread', 'balls', 'visits', '2007', 'm', 'lena', 'mall', 'sub', 'resort', 'september', 'bottle', 'species', '3000', 'cake', 'advertising', 'attitudes', 'streep', 'carradine', 'dimensional', 'ape', 'designs', 'construction', 'agreed', 'stilted', 'gadget', 'pokemon', 'damon', 'morris', 'complexity', 'intimate', 'compelled', 'pops', 'frequent', 'taxi', '1972', 'june', 'wound', 'lit', '1940s', 'latin', 'classical', 'simplicity', 'foul', 'demented', 'babe', 'disneys', 'chicago', 'berlin', 'capturing', 'satisfy', 'edition', 'lowest', 'cave', 'recognition', 'sandra', 'shirt', 'witches', 'careful', 'cities', 'transition', 'christians', 'heartbreaking', 'niro', 'catchy', 'copies', 'limits', 'ruby', 'worker', 'macy', 'aids', 'nyc', 'hopper', 'eager', 'opinions', 'parallel', 'raising', 'mars', 'grandfather', 'illness', 'chicks', 'li', 'akshay', 'lively', 'tends', 'alternate', 'lone', 'inappropriate', 'sue', 'losers', 'cheated', 'challenging', '1990', 'prisoner', 'hilariously', 'robinson', 'exceptionally', 'equivalent', 'madonna', 'junior', 'accompanied', 'devils', 'dreary', 'bang', 'fonda', 'prequel', 'wellknown', 'jenny', 'khan', 'mundane', 'manipulative', 'cinemas', 'ethan', 'incomprehensible', 'nonsensical', 'misery', 'seeks', 'olivier', 'conservative', 'wishing', 'nostalgia', 'writes', 'opportunities', 'paltrow', 'crucial', 'rat', 'choreographed', 'scooby', 'montana', 'witnesses', 'eaten', 'boot', '1968', 'prisoners', 'chooses', 'ocean', 'daddy', 'suspicious', 'awe', 'widely', 'v', 'twilight', 'tomatoes', 'homer', 'georges', 'poetry', 'del', 'chest', 'pursuit', 'der', 'overlook', 'smiling', 'pearl', 'gundam', 'demand', 'schools', 'molly', 'capital', 'remakes', 'crocodile', 'suspend', 'kicking', 'appreciation', 'elm', 'wisdom', 'awfully', 'belong', 'constructed', 'enthusiasm', 'vengeance', 'signed', 'nicholas', 'da', 'paranoia', 'basketball', 'resources', 'desired', 'plausible', 'progresses', 'phantom', 'domestic', 'laws', 'excessive', 'vaguely', 'methods', 'calm', '210', 'likewise', 'restored', 'lol', 'invasion', 'nations', 'messed', 'literature', 'square', 'legal', 'sincere', 'dalton', 'experiments', 'shelley', 'ya', 'performs', 'blowing', 'royal', 'incompetent', 'prize', 'bumbling', 'bakshi', 'unit', 'assault', 'franco', 'masterful', 'trademark', 'showdown', 'climactic', 'borrowed', 'generations', 'promises', 'assigned', 'responsibility', 'creativity', 'robbins', 'distinct', 'randomly', 'resist', 'instinct', '1983', 'simmons', 'petty', 'richardson', 'doubts', 'mentions', 'masterpieces', 'polished', 'mechanical', 'wacky', 'recording', 'feed', 'arrival', 'icon', 'leo', 'mummy', 'tag', 'nuts', 'landscapes', 'introduce', 'mayor', 'descent', 'viewings', 'mann', 'map', 'operation', 'witnessed', 'solution', 'stones', 'parties', 'justin', 'spirited', 'simpson', 'raymond', 'improvement', 'punishment', 'bela', 'cd', 'gifted', 'wholly', 'strangers', 'fields', 'scrooge', 'ruins', 'earl', 'receives', 'dust', 'underlying', 'terrorists', 'greed', 'resident', 'pit', 'craven', 'sneak', 'heights', 'conceived', 'mighty', 'attorney', 'attend', 'sink', 'fury', 'unaware', 'bacall', 'gerard', 'jaws', 'assumed', 'rangers', 'visible', '1973', 'poem', 'marty', 'laughably', 'irrelevant', 'chapter', 'edgy', 'warmth', 'wounded', 'slaughter', 'quit', 'pot', 'troubles', 'activities', 'muslim', 'expressed', 'mentioning', 'businessman', 'contest', 'louise', 'gabriel', 'testament', 'warriors', 'acid', 'property', 'straightforward', 'educational', 'waitress', 'females', 'willie', 'closed', 'inevitably', 'historically', 'unoriginal', 'iran', 'kay', 'loaded', 'iraq', 'popularity', 'teaching', '13th', 'imitation', 'tiger', 'rats', 'swim', 'household', 'overlong', 'exposure', 'voiced', 'wouldbe', 'survivor', 'hello', 'alert', 'pink', 'rocky', 'mistress', 'tooth', 'depicting', 'fashioned', 'ashley', 'omen', 'minimum', 'catching', 'middleaged', 'button', 'keith', 'stunned', 'twins', 'equipment', 'merits', 'grabs', 'rolled', 'brenda', 'bull', 'christy', 'metaphor', 'peak', 'spain', 'uplifting', 'supported', 'suggested', 'unreal', 'tribe', 'lumet', 'timon', 'confrontation', 'garbo', 'alfred', 'boom', 'cannibal', 'randy', 'accuracy', 'exchange', 'whoopi', '35', 'significance', 'rabbit', 'championship', 'cringe', 'astonishing', 'fought', 'bergman', 'compassion', 'domino', 'pamela', 'interests', 'definition', 'integrity', 'invented', 'rubber', 'stale', 'unseen', 'ramones', 'doom', 'heartfelt', 'palace', 'empathy', 'roots', 'standout', 'masses', 'pressure', 'landing', 'resulting', 'shaky', 'despair', 'valley', 'psychic', 'marketing', 'moronic', 'sid', 'resemble', 'phony', 'disliked', 'eugene', 'noone', 'betty', 'bay', 'sounding', 'retired', 'loyalty', 'wendy', 'ambiguous', 'greg', 'verhoeven', 'analysis', 'stretched', 'feelgood', 'shaw', 'subjected', 'teachers', 'wifes', 'trail', 'lackluster', 'austin', 'creep', 'romero', 'comfort', 'biography', 'simultaneously', 'fulci', 'wretched', 'immediate', 'abraham', 'sopranos', 'inability', 'patience', 'defense', 'unexpectedly', 'pants', 'cliche', 'gather', 'package', 'checked', 'monk', 'kubrick', 'watson', 'fascination', 'pierce', 'suffice', 'distribution', 'angela', 'unpredictable', 'adaptations', 'butler', 'defined', 'directions', 'josh', 'reflection', 'dolph', 'remained', 'expedition', 'orleans', 'confess', '1984', 'stumbled', 'drake', 'furious', 'ollie', 'album', 'spock', 'technicolor', 'difficulties', 'hears', 'hopeless', 'reel', 'companies', 'stargate', 'polanski', 'closeup', 'newly', 'musicians', 'deceased', 'roommate', 'phil', 'firm', 'israel', 'kyle', 'refused', 'travesty', 'require', 'nicole', 'sums', 'costar', 'objective', 'seldom', 'raises', 'roth', 'eastern', 'nail', 'unfair', 'rave', 'mankind', 'primitive', 'frightened', 'victory', 'creator', 'legacy', 'claus', 'grayson', 'blast', 'sixties', 'frustrating', 'bud', 'dee', 'remade', 'replace', 'tastes', 'unlikable', 'interactions', 'dixon', 'experimental', 'favour', 'stark', 'awhile', 'composer', 'vulgar', 'precisely', 'rates', 'farrell', 'respected', 'quietly', 'glasses', 'deranged', 'clip', 'flair', 'subpar', 'dreck', 'underneath', 'christianity', 'desires', 'casts', 'screens', 'conditions', '1971', 'shanghai', 'dimension', 'kissing', 'scotland', 'raines', 'joins', 'darren', 'passable', 'owen', 'buffalo', 'presenting', 'maid', 'daniels', 'milk', 'discovering', 'abused', 'meryl', 'teaches', 'wakes', 'rises', 'pan', 'coast', 'pal', 'photo', 'softcore', 'reid', 'maniac', '1933', 'andre', 'spacey', 'encourage', 'examination', 'dresses', 'rude', 'amused', 'dysfunctional', 'provocative', 'tank', 'exposition', 'joel', 'electric', 'prepare', 'amitabh', 'graham', 'literary', 'assassin', 'warming', 'widescreen', 'lands', 'othello', 'ninja', 'muddled', 'yard', 'behaviour', 'fingers', 'secondly', 'framed', 'inexplicably', 'gender', 'matched', 'rely', 'walsh', 'specially', 'nerd', 'barrymore', 'comedians', 'alcohol', 'adopted', 'brutality', 'lundgren', 'dose', 'positively', 'pg13', 'deaf', 'shared', '1987', 'sunny', 'credited', 'lock', 'aspiring', 'nathan', 'complaining', 'karl', 'parade', 'automatically', '1993', 'purposes', 'choppy', 'grotesque', 'mode', 'amusement', 'preposterous', 'filling', 'alternative', 'correctly', 'invites', 'ordered', 'appropriately', 'phrase', 'visiting', 'frankenstein', 'sharon', 'generated', 'knocked', 'premiere', 'wildly', 'julian', 'fest', 'tacky', 'senses', 'sentiment', 'alec', 'tomorrow', 'teams', 'bunny', 'wrap', 'referred', 'emperor', 'musician', 'shoddy', 'chicken', 'charged', 'femme', 'griffith', 'masks', 'paradise', 'roof', 'shouldve', 'connery', 'rifle', 'absent', 'reeves', 'marshall', 'hopkins', 'sentinel', 'marion', 'posters', 'fantasies', 'relax', 'ladder', 'tube', 'morbid', 'topnotch', 'counts', 'respective', 'romp', 'babies', 'citizens', 'gentleman', 'items', 'murdering', 'stuart', 'accomplish', 'translated', 'downey', 'abrupt', 'spark', 'sissy', 'vice', 'carell', 'poison', 'tracking', 'vance', 'hopelessly', 'greatness', 'hackneyed', 'guests', 'releases', 'refer', 'cattle', 'ross', 'preston', 'mclaglen', 'ustinov', 'demise', 'insurance', 'realised', 'uncut', 'loneliness', 'les', 'unfold', 'hawke', 'yearold', 'ignorance', 'thoughtprovoking', 'realm', 'costars', 'infected', 'deserted', 'glowing', 'eternal', 'affection', 'wellwritten', 'challenges', 'misleading', 'russia', 'naughty', 'shoulders', 'kansas', 'towns', 'weakness', '75', 'bernard', 'invited', 'pitiful', 'youngest', 'additional', 'trend', 'mtv', 'corpses', 'complaints', 'absurdity', 'gambling', 'shares', 'celebration', 'bargain', 'function', 'ensues', 'skull', 'biko', 'silliness', 'nephew', 'indication', 'swing', 'leon', 'antwone', '1995', 'regarded', 'rooney', 'objects', 'imaginable', 'beverly', 'harm', 'hyde', 'pun', 'caricatures', 'singers', 'region', 'sung', 'accepts', '19th', 'sabrina', 'laurence', 'asylum', 'wang', 'macarthur', 'handling', 'fi', 'drove', 'receiving', 'devices', 'active', 'reflects', 'admirable', 'recycled', 'cruelty', 'iconic', 'pro', 'threatens', 'oldest', 'dana', 'lush', 'wilderness', '1986', 'cope', 'prey', 'phillips', 'secondary', 'grief', 'jews', 'fed', 'address', 'respectively', 'noises', 'promote', 'servant', 'conveys', 'nod', 'chills', 'coincidence', '1997', 'hitlers', 'puppet', 'owners', 'skits', 'ho', 'chainsaw', 'partners', 'minded', 'crystal', 'heros', 'hammy', 'palance', 'din', 'muppets', 'canyon', 'records', 'understands', 'disappears', 'prejudice', 'kumar', 'strongest', 'outing', 'heading', 'stores', 'weaknesses', 'squad', 'authors', 'obligatory', 'conscience', '1970', 'portrayals', 'occasions', 'acclaimed', 'posted', 'mill', 'reluctant', 'acceptance', 'belushi', 'sympathize', 'visited', 'cassidy', 'freaks', 'alicia', 'investigating', 'severely', 'crawford', 'rejected', 'industrial', 'recommendation', 'insipid', 'burst', 'hk', 'affairs', 'standup', 'lifted', 'nolan', 'underworld', 'tyler', 'aim', 'conventions', 'outfits', 'forty', 'baldwin', '1936', 'depending', 'conviction', 'damme', 'venture', 'sci', 'deniro', '2008', 'filler', 'profanity', 'suitably', 'previews', 'priceless', 'difficulty', '1989', 'policeman', 'designer', 'predict', 'sketch', 'redeem', 'heist', 'demonstrates', 'dates', 'guaranteed', '1978', 'evidently', 'bros', 'fiancé', 'frankie', 'hughes', 'shakespeares', 'murray', 'explores', 'phenomenon', 'rita', 'terrified', 'ear', 'selection', 'suspension', 'steady', 'thread', 'locals', 'emerges', 'elses', 'morally', 'fog', 'tripe', '1979', '73', 'tasteless', 'shades', 'patricia', 'entitled', 'inconsistent', 'studying', 'malone', 'attract', 'darn', 'labor', 'psychology', 'misguided', 'ants', 'stages', 'paramount', 'muppet', 'caliber', 'mccoy', 'fishing', 'physics', 'vital', 'prominent', 'michaels', 'feminist', 'marries', 'kungfu', 'lois', 'billed', 'slimy', 'hapless', 'banal', 'sooner', 'cue', 'conclude', 'shouting', 'anticipation', 'snakes', 'reign', 'programs', 'hers', 'clock', 'eats', 'vibrant', 'betrayal', 'beatles', 'spinal', 'soup', 'reader', 'sht', 'forcing', 'marvel', 'diehard', 'gems', 'palma', 'representation', 'communicate', 'despicable', 'clarke', 'worn', 'firstly', 'orange', 'harmless', 'hippie', 'cream', 'alison', 'vein', 'filth', 'bridget', 'commander', 'basinger', 'insists', 'sending', 'iv', 'visions', 'cancer', 'deleted', 'agenda', 'kolchak', 'unexplained', 'bread', 'rod', 'guitar', 'clueless', 'el', 'welldone', 'slice', 'claustrophobic', 'pg', 'studies', 'tierney', 'shootout', 'housewife', 'transformed', 'rhythm', 'champion', 'renaissance', 'harold', 'immature', 'assuming', 'claiming', 'rome', 'buster', 'tempted', 'blatantly', 'flowers', 'danish', 'clan', 'mirrors', 'soso', 'delicate', 'route', 'jacksons', 'befriends', 'considerably', 'mentality', 'dud', 'minus', 'discussing', 'comparisons', 'option', 'depends', 'biased', 'ingenious', 'pounds', 'circus', 'crazed', 'ratso', 'moreover', 'bike', 'vader', 'wwe', 'springer', 'knight', 'sox', 'fido', 'casual', 'recognizable', 'shortcomings', 'exploring', 'bacon', 'gear', 'height', 'agency', 'co', 'glamorous', 'inhabitants', 'beside', 'nicolas', 'kitty', 'hokey', 'wellmade', 'ethnic', 'tail', 'symbolic', 'detectives', 'fluff', 'nemesis', 'smiles', 'addicted', 'quinn', 'riot', 'repeating', 'dressing', 'dukes', 'edit', 'limit', 'drivein', 'inexplicable', 'challenged', 'stumbles', 'connections', 'voted', 'remove', 'meg', 'gregory', 'millionaire', 'cannon', 'campaign', 'historic', 'boston', 'adolescent', 'iq', 'schlock', 'unrelated', 'grainy', 'sassy', 'flashy', 'towers', 'wings', 'paxton', 'defeated', 'legends', 'fontaine', 'grudge', 'lifeless', 'departure', 'paintings', 'handles', 'someday', 'minority', 'outright', 'shopping', 'exceptions', 'childs', 'tunnel', 'static', 'offbeat', 'backs', 'novak', 'bend', 'continually', 'independence', 'trials', 'token', 'uniformly', 'chuckle', 'fifty', 'ambition', 'feeding', 'disgusted', '1000', 'vocal', 'thompson', 'praised', 'computers', 'disguise', 'ton', 'firing', 'surgery', 'bars', 'institution', 'coupled', 'martha', 'rapist', 'screwed', 'assassination', 'satirical', 'keen', 'stairs', 'partially', 'coup', 'couch', 'gina', 'pete', 'penny', 'controlled', 'trivia', 'foxx', 'melody', 'charms', 'las', 'sorely', 'hangs', 'parsons', 'shoulder', 'threatened', 'cheer', 'hilarity', 'girlfriends', 'camcorder', 'newer', 'deserving', 'preferred', 'macho', 'dylan', '1981', 'disastrous', 'employed', 'centre', 'preachy', 'bowl', 'commenting', 'bully', 'destroys', 'thrilled', 'neurotic', 'pacific', 'earn', 'dirt', 'accurately', 'firmly', 'debate', 'feat', 'natives', 'sugar', 'artsy', 'gate', 'artwork', 'posey', 'arthouse', 'nails', 'northern', 'altman', 'serving', 'boxer', 'duck', 'hearted', 'audrey', 'bondage', 'outdated', 'hack', 'farfetched', 'wax', 'messy', '23', 'kathryn', 'sirk', 'swept', 'bates', '1988', 'ace', 'mercy', 'yeti', 'organized', 'rukh', 'ripping', 'allens', 'cartoonish', 'inspire', 'europa', 'info', 'leigh', 'mutual', 'freddys', 'predecessor', 'speeches', 'toronto', 'completed', 'demonic', 'unlikeable', '1976', 'triangle', 'excess', 'sharing', 'doo', 'hides', 'melissa', 'steele', 'kidman', 'obtain', 'marlon', 'subtly', 'bridges', 'windows', 'stalker', 'elite', 'vile', 'brooding', 'strings', 'rooting', 'insightful', 'curly', 'vain', 'interestingly', 'males', 'layers', 'boasts', 'disorder', 'suggestion', 'uma', 'describing', 'healthy', 'topics', 'concepts', 'liners', 'garner', 'harrison', 'mayhem', 'boyle', 'evolution', 'bent', 'audition', 'refuse', 'centered', 'destined', 'pole', 'screenwriters', 'entered', 'neatly', '1969', 'esther', 'lindsay', 'fuller', 'winchester', 'duration', 'brendan', 'sleeps', 'fade', 'originals', 'refers', 'sincerely', 'skit', 'stopping', 'helpless', 'fist', 'colin', 'seedy', '4th', 'newman', 'knightley', 'weaker', 'deny', 'raj', 'guards', 'reruns', 'containing', 'traffic', 'tip', 'punches', 'undead', 'mannerisms', 'norm', 'readers', 'affects', 'woo', 'gal', 'shaking', 'saint', 'cassavetes', 'weather', 'kline', 'leaders', 'hires', '22', 'rope', 'dazzling', 'masterfully', 'injured', 'charlton', 'des', 'anyones', 'mesmerizing', 'hungry', '1945', 'wig', 'elevator', 'exquisite', 'damaged', 'helpful', 'chavez', 'engrossing', 'rendered', 'relentless', 'christine', 'ta', 'bulk', 'applaud', 'authorities', 'sometime', 'wanders', 'politician', 'bogus', 'zombi', 'exploits', 'restrained', 'tower', 'akin', 'unsuspecting', 'lasting', 'proving', 'rides', 'statue', 'racing', 'emerge', 'item', 'jess', 'min', 'bow', 'hugely', 'alley', 'quaid', 'activity', 'error', 'cbs', 'critique', 'motive', 'internal', 'crashes', 'contempt', 'publicity', 'users', 'triple', 'fifties', 'boris', 'frances', 'galaxy', 'luis', 'jared', 'myth', 'lifes', 'owes', 'detract', 'breed', 'gained', 'behold', 'preparing', 'duvall', 'residents', 'excellently', 'stare', 'fastpaced', 'scariest', 'dudley', 'backwards', 'storys', 'stack', 'carey', 'wheres', 'passengers', 'shorter', 'cliches', 'hulk', 'advertised', 'candidate', 'chronicles', 'anton', 'demanding', 'lift', 'carla', 'nut', 'genie', 'startling', 'profession', 'tarantino', 'tenant', 'strengths', 'hartley', 'compete', '1939', 'wardrobe', 'expertly', 'located', 'suburban', 'net', 'factors', 'grounds', '1991', 'mail', 'heels', 'mixing', 'casino', 'origin', 'justified', 'insults', 'tops', 'misfortune', 'banter', 'breakfast', 'eleven', 'gimmick', 'origins', 'approaches', 'modest', '21st', 'insights', 'vastly', 'minister', 'sleaze', 'mutant', 'stunningly', 'confront', 'kent', 'gillian', 'spree', 'bitch', 'netflix', 'youthful', 'servants', 'disguised', 'inaccurate', 'label', 'poker', 'conrad', 'promptly', 'votes', 'buys', 'cracking', 'convinces', 'authenticity', 'rapidly', 'confronted', 'dubious', 'globe', 'giants', 'carmen', 'miami', 'choosing', 'insanity', 'highway', 'fools', 'joker', 'radical', 'jaw', 'cerebral', 'abruptly', 'realities', 'entering', 'macabre', 'ingrid', 'limitations', 'goodbye', 'lasts', 'belt', 'dropping', 'contribution', 'dj', 'referring', 'tokyo', 'stallone', '1977', 'sf', 'depths', 'supply', 'approaching', 'antonio', 'biblical', 'lend', 'definitive', 'differently', 'landed', 'endlessly', 'derivative', 'tossed', 'perception', 'jarring', 'sticking', 'unsure', 'sinking', 'nope', 'interact', 'expects', 'reward', 'salt', 'undeniably', 'growth', 'puppets', 'dandy', 'salvation', 'tormented', 'jordan', 'formed', 'pale', 'accessible', 'homes', 'principals', 'gates', 'owns', 'heavyhanded', 'guinness', 'grateful', 'lukas', 'eventual', 'incidentally', 'bitten', 'rampage', 'fords', 'phillip', 'wander', 'beware', 'lowkey', 'painter', 'braveheart', 'confident', 'underwater', 'colours', 'inherent', 'lauren', 'ol', 'alexandre', 'vividly', 'alvin', 'cents', 'convicted', 'repulsive', 'conan', 'nina', 'rookie', 'mitch', 'bachelor', 'soylent', 'mol', 'austen', 'thunderbirds', 'puerto', 'eternity', 'incapable', 'concentrate', 'flashes', 'fifth', 'nominations', 'published', 'sniper', 'bruno', 'devastating', 'runner', 'barrel', 'stranded', 'evelyn', 'altered', 'bronson', 'glued', 'outline', 'immortal', 'dismal', 'spies', 'exploit', 'caricature', 'adore', 'flimsy', 'zane', 'letdown', 'gere', 'identical', 'survives', 'dragons', 'unattractive', 'homicide', 'depict', 'damned', 'vehicles', 'screw', 'exit', 'continuing', 'cries', 'sale', 'meandering', 'fatale', 'hats', 'overblown', 'mice', 'siblings', 'ham', 'angst', 'playboy', 'ally', 'judd', 'goodlooking', 'decidedly', 'jedi', 'wendigo', 'godawful', 'assured', 'buzz', 'photographs', 'exterior', 'conveyed', 'monty', 'regards', 'janes', 'energetic', '300', 'sensible', 'frames', 'separated', 'attenborough', 'cemetery', 'repressed', 'yokai', 'pray', 'ariel', 'respectable', 'intricate', 'cultures', 'homosexuality', 'enhanced', 'crossing', 'handheld', 'crippled', 'fragile', 'walt', 'simpsons', 'crisp', 'unimaginative', 'toni', 'pc', 'appeals', 'characteristics', 'butch', 'reviewing', 'enthusiastic', 'owned', 'cecil', 'heavens', 'pleasing', 'possess', 'colleagues', 'hindi', 'nerves', 'oldfashioned', 'psychopath', 'uniform', 'judgment', 'arguing', 'swallow', 'payoff', 'reports', 'contribute', 'principle', 'reminder', 'dread', 'jules', '1950', 'cleaning', 'ensure', 'reliable', 'sublime', 'divine', 'demonstrate', 'terminator', 'penn', '1985', 'imo', 'bones', 'bmovies', 'niece', 'sg1', 'inspirational', 'africanamerican', 'quantum', 'ohara', 'improbable', 'butcher', 'subway', 'chopped', 'promoted', 'filthy', 'delicious', 'addict', 'decline', 'stalking', 'entirety', 'severed', 'combines', 'ebert', 'irene', 'rivers', 'papers', 'antonioni', 'arab', 'tapes', 'randolph', 'election', 'witchcraft', 'implied', 'disgrace', 'longest', 'farmer', 'pattern', 'peck', 'accounts', 'expose', 'disabled', 'wisely', 'assembled', 'loretta', 'excruciatingly', 'drinks', 'creek', 'bloom', 'ronald', 'volume', 'moe', 'mermaid', 'divorced', 'kidnapping', 'switched', 'ominous', 'natalie', 'p', 'sidewalk', 'cushing', 'juliet', 'timberlake', 'wagner', 'senior', 'experiencing', 'collect', 'distract', 'remembering', '28', 'whining', 'wonderland', 'attacking', 'aided', 'nightclub', 'holocaust', 'sentimentality', 'budgets', 'ny', 'missile', 'habit', '1974', 'parallels', 'email', 'fairbanks', '1994', 'reeve', 'pirate', 'immense', 'absorbing', 'lester', 'hippies', 'soderbergh', 'leather', 'ultimatum', 'jacket', '1920s', 'lex', '200', 'lighter', 'tremendously', 'mobile', 'popping', 'steam', 'scarface', 'escaping', 'errol', 'vanessa', 'harriet', 'embrace', 'deer', 'itthis', 'answered', 'mathieu', 'scratch', 'pursue', 'rainy', 'packs', 'zizek', 'astounding', 'beowulf', 'lance', 'resolved', 'dustin', 'whiny', 'tara', 'bsg', 'mitchum', 'tendency', 'youtube', '95', 'morals', 'bug', 'pickup', 'estranged', 'selected', 'followup', 'wellacted', 'brainless', 'clara', 'rounded', 'jaded', 'ps', 'theories', 'chill', 'subtext', 'pin', 'werewolves', 'deliberate', 'corporation', 'alleged', 'noticeable', 'voyage', 'postwar', 'resulted', 'glaring', 'begging', 'magician', 'lola', 'victorian', 'peaceful', 'downs', 'aiming', 'disgust', 'forgiven', 'ghetto', 'approached', 'rescued', 'reviewed', 'longing', 'copied', 'conveniently', 'sergeant', 'spectacle', 'rebellious', 'collective', 'earnest', 'miranda', 'asia', 'virtual', 'unsatisfying', 'amazon', 'polly', 'whites', 'cheaply', 'sucker', 'goldblum', 'demonstrated', 'seymour', 'lavish', 'isolation', 'wire', 'denis', 'crown', 'contestants', 'updated', 'literal', 'gentlemen', 'havoc', 'adrian', 'clash', 'knocks', 'sophie', 'bach', 'christie', 'turmoil', 'amrita', 'stardom', 'seeming', 'paula', 'sought', 'sand', 'exorcist', 'classy', 'marc', 'dame', 'ritchie', 'fills', 'peculiar', 'cyborg', 'yours', 'messing', 'dashing', 'kurosawa', 'dilemma', 'expectation', 'garland', 'gunga', 'boyer', 'longtime', 'stewarts', 'grass', 'quentin', 'revolt', 'quarter', 'coat', 'admired', 'sydney', 'arriving', 'poses', 'contributed', 'dump', 'celebrated', '19', 'bills', 'wilder', 'frontier', 'odyssey', 'dealer', 'snuff', 'aussie', 'karate', 'settled', 'vanilla', 'scotts', 'indiana', 'bw', 'enhance', 'goods', 'bittersweet', 'taped', 'deliverance', 'liu', 'define', 'affleck', 'canceled', 'addiction', 'pocket', 'spit', 'jealousy', 'pickford', 'bombs', 'trains', 'skilled', 'debt', 'vince', 'foolish', 'slapped', 'arc', 'wartime', 'crashing', 'climb', 'liveaction', 'planets', 'dramatically', 'accepting', 'vega', 'establish', 'rehash', '1959', 'swearing', 'laurie', 'acquired', 'suspected', 'bravo', 'casper', 'hackman', 'wounds', 'christina', 'diverse', 'potter', 'plotting', 'achieves', 'excuses', 'salman', 'judged', 'valentine', 'traits', 'avoiding', 'pad', 'slaves', 'morons', 'slip', 'spaghetti', 'pirates', 'executives', 'serials', 'thieves', 'rear', 'mystical', 'lightning', 'span', 'commits', 'nolte', 'kellys', 'borders', 'tourist', 'worms', 'burke', 'rowlands', 'gamera', 'stella', 'feast', 'ritual', 'predictably', 'horny', 'sarcastic', 'bounty', 'lunch', 'unsympathetic', 'headache', 'ranch', 'pumbaa', 'breakdown', 'cookie', 'exploding', 'cape', 'commitment', 'suggesting', 'posing', 'mum', 'defies', 'comprehend', 'graveyard', 'seductive', 'cuban', 'overboard', 'delightfully', 'leap', 'populated', 'ultra', 'rewarding', 'strict', 'wiped', 'furniture', 'insist', 'planes', 'readily', 'moron', 'fluid', 'pause', 'covering', 'hayworth', 'attending', 'immigrant', 'pedestrian', 'introducing', 'circles', '1944', 'redundant', 'flavor', 'samantha', 'romeo', 'remembers', 'delighted', 'wtf', 'courtroom', 'tool', 'mason', 'races', 'europeans', 'psychologist', 'spice', 'nbc', 'anil', 'tax', 'intentional', 'dads', 'relentlessly', 'truman', 'axe', 'seasoned', 'phenomenal', 'explosive', 'cher', 'informed', 'cheek', 'juliette', 'cliffhanger', 'jersey', 'novelty', '21', 'deliciously', 'drab', 'korea', 'underwear', 'romances', 'inmates', 'gable', 'expense', 'tolerable', 'taboo', 'jodie', 'loy', 'spencer', 'firstrate', 'slugs', 'corbett', 'scoop', 'vanity', 'legitimate', 'logan', 'freaky', 'tonys', 'mouths', 'lends', 'trace', 'franklin', 'stroke', 'mysteriously', 'festivals', 'wider', 'encountered', 'pans', 'sells', 'optimistic', 'bachchan', 'newcomer', 'carnage', 'cigarette', 'groundbreaking', 'debbie', 'parking', 'attended', 'consist', 'mins', 'clive', 'deanna', 'wine', 'precode', 'themthe', 'ricky', 'poe', 'shockingly', 'instincts', 'yawn', 'apply', 'incorrect', 'clerk', 'politicians', 'deciding', 'medieval', 'barbra', 'gielgud', '1953', 'respects', 'cliched', 'hepburn', 'polish', 'cypher', 'produces', 'ira', 'slide', 'vintage', 'pushes', 'arrest', 'jacques', 'beg', 'establishing', 'wastes', 'gilbert', 'thirties', 'possession', 'dominated', 'timethe', 'liam', 'awakening', 'stylized', 'anxious', 'mortal', 'shepherd', 'cal', 'phase', 'nuances', 'cohen', 'lean', 'caron', 'lethal', 'tongueincheek', '99', 'counter', 'toby', 'likeable', 'melvyn', 'consideration', 'kinnear', 'arranged', 'possesses', 'symbol', 'robbers', 'pilots', 'foundation', 'passage', 'redneck', 'pound', 'einstein', 'unusually', 'incidents', 'abandon', 'scored', 'sarandon', 'misunderstood', 'anthology', 'indicate', 'anticipated', 'exploited', 'btw', 'verdict', 'preminger', 'obsessive', 'motions', 'keys', 'sgt', 'en', 'longoria', 'aftermath', 'jury', 'pursued', 'erika', 'duel', 'informative', 'porter', 'keatons', 'sources', 'mute', 'rejects', 'serum', 'ordeal', 'controlling', 'breathing', 'hateful', 'viewpoint', 'invention', 'xfiles', 'flock', 'queens', 'rational', 'unanswered', 'huston', 'screwball', 'begs', 'compliment', 'feminine', 'neglected', '1975', 'degrees', 'jewel', 'hop', 'distracted', 'psyche', 'uh', 'distress', 'freaking', 'jill', 'anytime', 'clone', 'tactics', 'stabbed', 'mens', 'routines', 'yep', 'armstrong', 'obstacles', 'explodes', 'lucille', 'feeble', 'dumbest', 'turd', 'horrified', 'session', 'embarrassingly', 'document', 'daisy', 'sparks', 'blandings', 'stephanie', 'bye', 'invite', 'excruciating', 'sixth', 'tickets', 'stating', 'hybrid', 'daylewis', 'haines', 'july', 'crosby', 'pfeiffer', 'dumped', 'indifferent', 'reverse', 'guinea', 'gypo', 'milo', 'olivia', 'daylight', 'thelma', 'roughly', 'pathos', 'cannes', 'convention', 'monologue', 'alot', '1940', 'meantime', 'otto', 'gwyneth', 'rambling', 'translate', 'frantic', 'instances', 'verbal', 'niven', 'enigmatic', 'freeze', '34', 'void', 'grandma', 'corman', 'afterward', 'puzzle', 'belly', 'forties', 'flower', 'hannah', 'uncanny', 'marilyn', 'noteworthy', 'gloria', 'mormon', 'distraction', 'salesman', 'arguments', 'grabbed', 'rosemarys', 'upcoming', 'narrow', 'meal', 'depictions', 'martian', 'warns', 'biopic', 'ches', 'varied', 'arty', 'sickening', 'aggressive', 'whore', 'agony', 'spiderman', 'amidst', 'cindy', 'inaccuracies', 'pointing', 'bubble', 'sanders', 'stations', 'tvs', 'goals', 'participants', 'thurman', 'targets', 'cooking', 'kathy', 'basket', 'mama', 'sundance', 'gangs', 'products', 'busey', 'veterans', 'regularly', '1998', 'columbia', 'iranian', 'mythology', 'darth', 'centuries', 'predator', 'un', 'rider', 'fright', 'relevance', 'charlies', 'pixar', 'generate', 'corn', 'q', 'adaption', 'casablanca', 'murky', 'brides', 'mcqueen', 'glance', 'services', 'sunrise', 'paths', 'realistically', 'juan', 'starters', '1982', 'seats', 'intro', 'parks', 'lurking', 'overbearing', 'masterson', 'eagerly', 'tcm', 'employee', 'kidnap', 'deed', 'relating', 'manners', 'flames', 'august', 'hoot', 'click', 'paints', '1948', 'begun', 'lip', 'midst', 'tuned', 'fishburne', 'fanatic', 'mates', 'jose', 'inclusion', 'nerve', 'coffin', 'funding', 'tomei', 'county', 'realization', 'anyhow', 'carpenters', 'shifts', 'battlestar', 'jolie', 'debra', 'shift', 'admitted', 'replies', 'policy', 'exclusively', 'stance', 'arquette', 'statements', 'spine', 'combs', 'glimpses', 'grip', 'motorcycle', 'phones', 'swinging', 'dismiss', 'minnelli', 'blamed', 'angie', 'releasing', 'intensely', 'forgetting', 'criticize', 'economic', 'discussed', 'controversy', 'herbert', 'jenna', 'rounds', 'resembling', 'upside', 'dynamics', 'scorsese', 'launch', 'herman', 'corey', 'suspicion', 'lowe', 'followers', 'ambitions', 'plodding', 'traps', 'diary', 'denise', 'sang', 'moss', 'bogart', 'gallery', 'hadley', 'berkeley', 'skinny', 'substantial', 'sweden', 'enchanted', 'evans', 'goldie', 'capacity', 'idol', 'fleshed', 'reunite', 'platform', 'kazan', 'comeback', 'z', 'snowman', 'periods', 'offscreen', 'branaghs', 'maintains', 'apt', 'selfindulgent', '1934', 'maureen', 'gap', 'dumber', 'sketches', 'scripting', 'ample', 'applies', 'sentences', 'avid', 'chamber', 'scenarios', 'saloon', 'popped', 'cycle', 'hinted', 'imaginary', 'gloomy', 'bosses', 'shore', 'consequence', 'frontal', 'deputy', 'lionel', 'stalked', 'hines', 'uniforms', 'ignores', 'angelina', 'qualify', 'haunt', 'widowed', 'itit', 'reiser', 'surroundings', 'sondra', 'smash', 'extensive', 'gigantic', 'murderers', 'necessity', 'penelope', 'gestures', 'ambiguity', 'factual', 'educated', 'abortion', 'shepard', 'pains', 'naschy', 'moms', 'foil', 'biker', 'foremost', 'knights', 'hyped', 'frog', 'assignment', 'dreamy', 'narrated', 'warden', 'stiles', 'ignoring', 'scarecrows', 'applied', 'fried', 'linked', 'rewarded', 'reflected', 'campus', 'envy', 'claude', 'wong', 'backed', 'sterling', 'syndrome', 'mabel', 'edith', 'denouement', 'gooding', 'ruining', 'smell', 'anita', 'october', 'bleed', 'witnessing', 'pornography', 'tones', 'rodriguez', 'arkin', 'frozen', '101', 'sights', 'nuanced', 'valid', 'invested', 'lions', 'observe', 'stereotyped', 'alliance', 'israeli', 'gus', 'moviegoers', 'protest', 'assure', 'sheets', 'stream', 'clay', 'delirious', 'reunited', 'unfolding', 'medicine', 'investigator', 'momentum', 'curiously', 'homicidal', 'babes', 'safely', 'sins', 'schedule', 'kathleen', 'collins', 'rips', 'mick', 'resume', 'blaise', 'gaps', 'bonnie', 'eli', 'precise', 'slim', 'georgia', 'unstable', 'cap', 'cheadle', 'benefits', 'revival', 'cunningham', 'repeats', 'bikini', 'soprano', 'robertson', 'muslims', 'diner', 're', 'sailor', 'biting', 'cab', 'daytime', 'therapy', 'beckinsale', 'intact', 'replacement', 'breast', 'insomnia', 'characterizations', 'array', 'zorro', 'trier', 'clunky', 'dominic', 'acknowledge', 'arrow', 'tho', 'harlow', 'paranoid', 'kris', 'bats', 'islands', 'resistance', 'graduate', 'wheel', 'blockbusters', 'schneider', '1992', 'characterisation', 'pose', 'laputa', 'moviemaking', 'troma', 'phantasm', 'kubricks', 'miyazaki', 'jacks', 'du', 'kells', 'dillinger', 'shaggy', 'entrance', 'displaying', 'hysterically', 'chamberlain', 'retelling', 'commanding', 'sensibility', 'artistry', 'sour', 'shotgun', 'famed', 'sherlock', 'collette', 'steer', 'russ', 'consequently', 'joking', 'tomb', 'spider', 'seduce', 'talky', 'fleet', 'mustve', 'marked', 'studied', 'rosario', 'gathering', 'sufficient', 'similarity', 'tire', 'cow', 'rebels', 'balanced', 'bc', 'networks', 'omar', 'bauer', 'sitcoms', 'pegg', 'landmark', 'sarcasm', 'needing', 'supreme', 'enchanting', 'raging', 'villainous', 'stadium', 'childlike', 'interrupted', '1967', 'revolving', 'playwright', 'bait', 'abound', 'inadvertently', 'skeptical', 'snipes', 'admits', 'clooney', 'sheen', 'customers', 'bias', 'weekly', 'johns', 'prophecy', 'meteor', 'boundaries', 'reserved', 'hooker', 'coke', 'iturbi', 'waking', 'fundamental', 'offend', 'additionally', 'wayans', 'detroit', 'parrot', 'realises', 'thereby', 'fuzzy', 'fortunate', 'brooke', 'colored', 'crushed', 'deemed', 'shocks', 'relying', 'stern', 'rightly', 'hayes', 'laboratory', 'questioning', 'silverman', 'baddies', 'chiba', 'substitute', 'samuel', 'criticized', 'fruit', '85', 'ala', 'janet', 'spotlight', 'progressed', 'evokes', 'courtesy', 'marisa', 'ernie', 'chew', 'enduring', 'northam', 'vargas', 'maximum', 'epics', 'beckham', 'hardened', 'announced', 'cheerful', 'handicapped', 'trauma', 'diversity', 'stake', 'addressed', 'finishing', 'visitor', 'unnatural', 'puppy', 'observations', 'pivotal', 'arrogance', 'disco', 'confined', 'reluctantly', 'understandably', 'rupert', 'scheming', 'shred', 'hitchcocks', 'charges', 'olsen', 'unclear', 'bust', 'commendable', 'convent', 'district', 'interviewed', 'psychedelic', 'sly', 'despise', 'lynchs', 'boogie', 'stumble', 'rolls', 'ww2', 'truths', 'gackt', 'geisha', 'um', 'awareness', 'subgenre', 'finishes', 'smug', 'sincerity', 'divided', 'lunatic', 'sunset', 'forgets', 'jude', 'wash', 'complications', 'nauseating', 'shameless', 'coworker', 'trivial', 'vignettes', 'rice', 'determination', 'caretaker', 'phoenix', 'drowned', 'worldwide', 'penned', 'sammo', 'fuel', 'boots', 'egyptian', 'interior', 'madeleine', 'upstairs', 'lopez', 'heath', 'professionals', 'washed', 'favourites', 'unfamiliar', 'fairytale', 'controls', 'demille', 'itbut', 'quintessential', 'sweat', 'howling', 'hostel', 'lil', 'unhinged', 'galactica', 'sebastian', 'sonny', 'lens', 'burial', 'backstory', 'kindly', 'roses', 'accompanying', 'whimsical', 'composition', 'olds', 'whod', 'outlandish', '1963', 'targeted', 'chaotic', 'earliest', 'injury', 'blackandwhite', 'laying', 'guardian', 'titular', 'recover', 'celebrities', 'programme', 'sanity', 'hiphop', 'affecting', 'shannon', 'verge', 'bonds', 'monotonous', 'orchestra', 'thrust', 'gut', 'wholesome', 'relaxed', 'randall', 'interpretations', 'cain', 'fart', 'kirsten', 'owl', 'harrowing', 'brat', 'license', 'hunted', 'bonanza', 'semblance', 'chuckles', 'brett', 'meadows', 'monks', 'magically', 'antagonist', 'hostile', 'camping', 'gorilla', 'cutter', 'fassbinder', 'perverted', 'update', 'yell', 'temper', '1943', 'annoy', 'surround', 'participate', 'hallmark', 'devotion', 'republic', 'summed', 'captivated', 'reminding', 'traditions', 'flows', 'considers', 'martians', 'allthe', 'thailand', '1951', 'testing', 'clouds', 'file', 'convenient', 'transparent', 'mccarthy', 'tide', 'bakshis', 'infinitely', 'python', 'deeds', 'colleague', 'cameraman', 'carlos', 'brent', 'accidental', 'characteristic', 'sylvia', 'explode', 'beard', 'entries', 'mandy', 'unnecessarily', 'johansson', 'obscurity', 'comparable', 'resolve', 'madsen', 'inserted', 'seth', 'occult', 'destination', 'fascist', 'krueger', 'admission', 'ghastly', 'salvage', 'implies', 'slashers', 'dynamite', 'dragging', 'almighty', 'filmit', 'robbed', 'ugh', 'underdeveloped', 'hostage', 'flashing', 'committing', 'nightmarish', 'recreate', 'blazing', 'sholay', 'preaching', 'dahmer', 'turkish', 'sporting', 'excels', 'distributed', 'borrow', 'rampant', 'elephants', 'pigs', 'clarity', 'se', 'searched', 'protection', 'whove', 'achievements', 'taut', 'bearing', 'kinski', 'coma', 'complained', 'sane', 'compensate', 'portuguese', 'nun', 'wright', 'article', 'pizza', 'inclined', 'remark', 'exploitative', 'scoobydoo', 'engine', 'thunder', 'subsequently', 'philo', 'toxic', 'melancholy', 'intend', 'vivian', 'plate', 'crossed', 'elsa', 'mei', 'dangerously', 'deathtrap', 'crosses', 'spoiling', 'stepmother', 'variation', 'dallas', 'novelist', 'adapt', 'aesthetic', 'drift', 'baron', 'unappealing', 'toned', 'insert', 'understatement', 'wherever', 'jagger', 'misty', 'wrestler', 'satisfaction', 'macdonald', 'communication', 'battlefield', 'elliott', 'drowning', 'counting', 'mister', 'openly', 'adele', 'avoids', 'stuffed', 'cancelled', 'rivals', 'cocaine', 'fetish', 'listened', 'gypsy', 'winners', 'awaiting', 'herd', 'faded', 'judges', 'sunk', 'finney', 'sales', 'creasy', 'suzanne', 'myrna', 'outrageously', 'scarlett', 'caprica', 'flag', 'cena', 'rea', 'constraints', 'takashi', 'chong', 'motel', 'marcel', 'incestuous', 'hooper', 'miikes', 'timmy', 'vomit', 'upbeat', 'crooks', 'sho', 'dafoe', 'transport', 'permanent', 'hawn', 'palm', 'impending', 'deepest', 'avenge', 'betrayed', 'creations', 'henchmen', 'nutshell', 'practical', 'fritz', 'distinction', 'ss', 'ajay', 'conductor', 'fairness', 'observation', 'screened', 'prop', 'assumes', 'stabbing', '1932', 'enormously', 'cheering', 'ghostly', 'proceed', 'frat', 'oblivious', 'juice', 'bashing', 'facility', 'lennon', 'restraint', 'sergio', 'apocalypse', 'warrant', 'vcr', 'serbian', 'movieit', 'coolest', 'vapid', 'cmon', 'celebrate', 'riff', 'desk', 'circa', 'drivers', 'lookalike', 'courageous', 'burnt', 'spiral', 'remainder', 'confuse', 'shoe', 'fires', 'manipulation', 'fashions', 'aunts', 'sinks', 'uneasy', 'locke', 'encouraged', 'voyager', 'watcher', 'seattle', 'mock', 'overtones', 'sexist', 'hometown', 'awarded', 'evoke', 'mentor', 'classmates', 'excellence', 'rendering', 'overshadowed', 'beers', 'ruled', 'contestant', 'sections', 'advised', 'pretends', 'presidential', 'glossy', 'robotic', 'progression', '26', 'traumatic', 'admiration', 'dwight', 'cedric', 'walmart', 'absorbed', 'grin', 'sophia', 'unconventional', 'climbing', 'shah', 'wesley', 'voodoo', 'sharks', 'jar', 'clad', 'orphan', 'garfield', 'duh', 'raunchy', 'tools', 'wheelchair', 'dreaming', 'aaron', 'zodiac', 'bernsen', 'isabelle', 'abundance', 'slower', 'epitome', 'senator', 'battling', 'mole', 'banks', 'satanic', 'plug', 'miraculously', 'smiths', 'chops', 'submarine', 'capote', 'defending', 'employees', 'jj', 'qualifies', 'rivalry', 'ambiance', 'hobgoblins', 'distinctive', '1966', 'masked', 'electronic', 'meyer', 'warehouse', 'organization', 'shameful', 'storythe', 'bimbo', 'candle', 'fades', 'dc', 'superstar', 'choir', 'boobs', 'caper', 'noting', 'auto', 'screenplays', 'dominate', 'incest', 'everett', 'beforehand', 'incidental', 'meek', 'demeanor', 'notices', 'joining', 'carlitos', 'sheep', 'labeled', 'unleashed', 'rourke', 'sickness', 'ealing', 'greene', 'eagle', 'goat', 'respond', 'transforms', 'failures', 'prologue', 'diego', 'paz', 'espionage', 'theodore', 'solved', 'shaped', 'garage', 'riders', 'brazilian', 'effortlessly', 'selfcentered', 'conveying', 'apple', 'gig', 'irritated', 'hum', 'colony', 'moores', 'giovanna', 'cursed', 'deadpan', 'linear', 'experts', 'magazines', 'stab', 'chloe', 'secure', 'somethings', 'reported', 'bout', 'razor', 'convict', 'blondell', 'gilliam', 'fraud', 'carpet', 'ernest', 'marijuana', 'doug', 'quaint', 'spontaneous', 'principles', 'priests', 'runaway', 'peggy', 'automatic', 'jackman', 'raid', 'meredith', 'stardust', 'pursuing', 'je', 'projected', 'plotline', 'suave', '1958', 'assistance', 'roller', 'macmurray', 'buttons', 'cons', 'informer', 'feinstone', 'occupied', 'slater', 'coburn', 'myrtle', 'brashear', 'uncertain', 'middleclass', 'conscious', 'admirer', 'ongoing', 'spoofs', 'torment', 'gena', 'cheech', 'jigsaw', 'antihero', 'pros', 'sober', 'mills', 'prostitution', 'detached', 'bless', 'disappearance', 'rebellion', 'dreyfuss', 'worrying', 'cells', 'discipline', 'frost', 'playful', 'ram', 'prostitutes', 'geek', 'prank', 'badness', 'fiend', 'combining', 'vigilante', 'pompous', 'ninety', 'sandy', 'associate', 'lampoon', 'bloodbath', 'edges', 'monroe', 'lifelong', 'economy', 'symbols', 'highschool', 'signature', 'informs', 'barnes', 'closure', 'tended', 'budding', 'madison', 'dunst', 'sensual', 'ads', 'annoyance', 'strung', 'blames', 'manipulated', 'lara', 'artemisia', 'crashed', 'theatres', 'sites', 'predecessors', 'timei', 'confines', 'influential', 'socially', 'weirdness', 'saints', 'yells', 'davids', 'chip', 'reject', 'nest', 'slept', 'gretchen', 'tolerance', 'mae', 'policemen', 'responds', 'woefully', 'offense', 'tits', 'marines', 'shahid', 'clyde', 'inform', 'filmography', 'englund', 'govinda', 'ideals', 'sensitivity', 'snap', 'sustain', 'joint', 'motivated', 'officially', 'influences', 'patty', 'disregard', 'turtle', 'bean', 'slavery', 'switching', 'bodyguard', 'tackle', 'investment', 'travis', 'interiors', 'managing', 'clinic', 'doyle', 'jo', 'tashan', 'outset', 'cohesive', 'fiancée', 'warhols', 'harron', 'farmers', 'obrien', 'tech', 'croc', 'ferrell', 'bennett', 'ninjas', 'pornographic', 'abomination', 'pauline', 'benjamin', 'busby', 'shrek', 'starship', 'boards', 'mustache', 'digging', 'diving', 'concentration', 'midget', 'paycheck', 'functions', 'dern', 'stabs', 'grating', 'idealistic', 'flowing', 'pressed', 'vincenzo', 'directtovideo', 'parodies', 'criticisms', 'bites', 'surrender', 'malden', 'cannibals', 'norris', 'echoes', 'throwaway', 'rewrite', 'standpoint', 'shoved', '1946', 'fixed', 'russo', 'dictator', 'acclaim', 'sailors', 'nearest', 'marine', 'spade', 'lingering', 'damsel', 'cody', 'cheers', 'val', 'counterparts', 'dish', 'blessed', 'warners', 'cracks', 'cringing', 'drawings', 'padding', 'sacrifices', 'consciousness', 'scratching', 'berenger', 'vet', 'liberty', 'programming', 'protective', 'identified', 'polar', 'believability', 'asset', 'advances', 'depend', 'manic', 'fabric', 'jewelry', 'animations', 'pairing', 'groove', 'egg', 'forgiveness', 'barney', 'tolerate', 'existing', 'lays', 'scriptwriter', 'marrying', 'justification', 'sensational', 'peers', 'spaceship', 'framing', 'forrest', 'happenings', 'division', '1955', 'varying', 'superfluous', 'perverse', 'gadgets', 'gruff', 'unravel', 'anguish', 'mythical', 'mines', 'lurid', 'reagan', 'waynes', 'cravens', 'breathe', 'determine', 'irving', 'transported', 'seriousness', 'connie', 'himthe', 'fodder', 'shootouts', 'goodman', 'lindy', 'waythe', 'tramp', 'crowded', 'pen', 'collector', 'chans', 'holt', 'mixes', 'inconsistencies', 'morse', 'reasoning', 'captive', 'merry', 'perspectives', 'ang', 'seuss', 'maintaining', 'spelling', 'palmas', 'burgess', 'interplay', 'theirs', 'distorted', 'boyfriends', 'britney', 'collapse', 'brandon', 'peril', 'stink', 'inexperienced', 'cunning', 'dim', 'gershwin', 'awry', 'emphasize', 'hallucinations', 'imitate', 'conclusions', 'griffiths', 'shield', 'slam', 'beetle', 'bert', 'troopers', 'cowardly', 'drummer', 'elected', 'officials', 'halfhour', 'heap', 'bastard', 'staging', 'gasp', 'portions', 'identities', 'switches', 'lifts', 'censorship', 'gathered', 'temptation', 'buffy', 'mobster', 'henchman', 'hairy', 'profoundly', 'rousing', 'downfall', 'plagued', 'inhabit', 'faint', 'tightly', 'borrows', 'bartender', 'locale', 'sammy', 'steaming', 'villa', 'marvin', 'representing', 'slut', 'mack', 'allan', 'grossly', 'paired', 'monologues', 'representative', 'filmthis', 'outlaw', 'torturing', 'locate', 'lords', 'spelled', 'hardboiled', 'strained', 'ostensibly', 'tsui', 'duchovny', 'federal', 'examine', 'reese', 'tess', 'overwrought', 'genetic', 'simons', 'gandolfini', 'er', 'categories', 'continuously', 'liberties', 'dedication', 'monica', 'stares', 'lo', 'yarn', 'heroines', 'uptight', 'showcases', 'entertains', 'disappoints', 'thereafter', 'coward', 'transplant', 'decency', 'jan', 'egypt', 'fiery', 'confronts', 'gibson', 'flew', 'regime', 'ali', 'trigger', 'coworkers', 'sorrow', 'subtitled', 'russians', 'jurassic', 'widower', 'flavia', 'denying', 'romania', 'manga', 'pals', 'abu', 'deck', 'engineer', 'melbourne', 'dash', 'kidnaps', 'earns', 'vertigo', 'grease', 'czech', 'opposition', 'luxury', 'surf', 'graces', 'structured', 'drastically', 'weary', 'butchered', 'brush', 'reckless', 'animators', 'lightweight', 'revolver', 'dom', 'replacing', 'loren', 'keanu', 'shelter', 'depardieu', 'communism', 'sensibilities', 'han', 'pierre', 'placement', 'stoned', 'k', 'airing', 'altmans', 'amid', 'orlando', 'foreboding', 'cloak', 'mcadams', 'contributes', 'mercifully', 'marcus', 'derived', 'cages', 'radiation', 'systems', 'cousins', 'hartleys', 'gino', 'underused', 'accomplishment', 'boost', 'lars', 'fence', 'allies', 'optimism', 'ensue', 'alter', 'modernday', 'methe', 'preferably', 'intellectually', 'boogeyman', 'natali', 'impressions', 'dealers', 'glow', 'knocking', 'brit', 'undercover', 'sensation', 'significantly', 'massey', 'abstract', 'condemned', 'threads', 'satisfactory', 'latino', 'alarm', 'shrill', 'prefers', 'billing', '20s', 'intelligently', 'emmy', 'anchors', 'shelves', 'aircraft', 'stirring', 'thug', 'straighttovideo', 'register', 'crooked', 'geoffrey', 'dreamlike', 'romanian', 'sweeping', 'confirmed', 'lds', 'ledger', 'hans', 'consumed', 'retirement', 'wielding', 'fierce', 'rapes', 'tricked', '150', 'subdued', 'apollo', 'faye', 'languages', 'sykes', 'distinctly', 'anti', 'defy', 'funky', 'movieits', 'correctness', 'owe', 'prolific', 'snowy', 'ceiling', 'cockney', 'fewer', 'geniuses', 'developments', 'tasty', 'freed', 'establishment', 'rockets', 'imho', 'gently', 'ebay', 'ceremony', 'client', 'downbeat', 'aura', 'injustice', 'seduction', 'shiny', 'expresses', 'surgeon', 'transitions', 'scattered', 'atrocity', 'chemical', 'capitalism', 'byron', 'nora', 'loner', 'shaun', 'sucking', 'knees', 'cloth', 'grandpa', 'clarence', 'conniving', 'spells', 'adultery', 'fuss', 'clutter', 'supportive', 'mira', 'hypnotic', 'collaboration', 'golf', 'bleeding', 'visconti', 'edison', 'increase', 'pleasures', 'muni', 'youngsters', 'eyed', 'eh', 'madman', 'illusion', 'clockwork', 'haha', 'oscarwinning', 'sophistication', 'benny', 'nuns', 'supermarket', 'echo', 'edmund', 'zu', 'mediocrity', 'liotta', 'fanning', 'sasquatch', 'virtue', 'ewoks', 'spotted', 'uninspiring', 'deservedly', 'rogue', 'icons', 'hurry', 'lawn', 'sleeper', 'dodgy', 'belle', 'travolta', 'illustrate', 'taime', 'sara', 'engagement', 'darkly', 'premiered', 'booth', 'drum', 'aboard', 'atlantic', 'loony', 'laser', 'bothers', 'puzzled', 'colman', 'crypt', 'pia', 'katie', 'presume', 'coop', 'ogre', 'hanzo', 'fighters', 'analyze', 'shout', 'data', 'barton', 'willingly', 'bon', 'maturity', 'extraordinarily', 'sleepy', 'thereof', 'fleeting', 'scarier', 'romeros', 'grisly', 'trendy', 'cynicism', 'hugo', 'astronauts', 'gladiator', 'lorre', 'exgirlfriend', 'lesbians', 'elder', 'maurice', 'retrieve', 'manipulate', 'roommates', 'promoting', 'comprised', 'amoral', 'harilal', 'christensen', 'redford', 'rant', 'kilmer', 'proudly', 'grandparents', 'doris', 'imprisoned', 'protecting', 'leaps', 'bloke', 'breakthrough', '1957', 'simpler', 'fetched', 'farrah', 'deborah', 'fulfilling', 'fellini', 'relates', 'mutants', 'launched', 'proportions', 'limp', 'armor', 'mishmash', 'potent', 'abroad', 'fulfill', 'shocker', 'brick', 'strain', 'henderson', 'operating', 'bs', 'lists', 'nerdy', 'attic', 'mastermind', 'roads', 'zany', 'associates', 'predicted', 'lure', 'oneill', 'defining', 'countrys', 'electricity', 'imply', 'unwilling', 'backdrops', 'attendant', 'rhyme', 'godard', 'luthor', 'blackmail', 'photograph', 'icy', 'chevy', 'behaving', 'brennan', 'operate', 'ravishing', 'autobiography', 'pepper', 'myra', 'slaughtered', 'denver', 'robbing', 'slips', 'dunne', 'verhoevens', 'cowrote', 'notwithstanding', '700', 'applause', 'legion', 'alexandra', 'oprah', 'kalifornia', 'forbes', 'judgement', 'conflicted', 'forsythe', 'rapid', 'prone', 'perceived', '51', 'il', 'appalled', '250', 'movieand', 'tina', 'bitchy', 'censors', 'traveled', 'goldsworthy', 'lawyers', 'anxiety', 'rodney', 'trusted', 'heartless', 'overtly', 'grendel', 'wrongly', 'drain', 'freaked', 'pecker', 'kristofferson', 'succession', 'fur', 'cradle', 'cinematographic', 'muriel', 'flamboyant', 'muscular', 'baddie', 'governments', 'astonishingly', 'ursula', '1964', 'zhang', 'vaughn', 'peterson', 'taker', 'predictability', 'nifty', 'slowmotion', 'shady', 'mud', 'reportedly', 'fleeing', 'plummer', 'artistically', 'springs', 'della', 'darius', 'encourages', 'preacher', 'mockery', 'zelah', 'supports', 'alcoholism', 'sematary', 'visceral', 'arnie', 'knives', 'bart', 'lindsey', 'daria', 'lt', 'sibling', 'behaves', 'virginity', 'hunky', 'compassionate', 'liar', 'nutty', 'chop', 'kareena', 'bliss', 'unnerving', 'crass', 'prolonged', 'ridden', 'passions', 'bloodshed', 'interspersed', 'needlessly', 'civilians', 'inhabited', 'mcdermott', 'treating', 'continuous', 'largest', 'borderline', 'recovering', 'patriotic', 'jolly', 'heavenly', '98', '010', 'irresistible', 'increasing', 'quirks', 'mandatory', 'worship', 'jam', 'stumbling', 'cheat', '27', 'relaxing', 'inducing', 'wee', 'gusto', 'notions', 'wrath', 'gravity', 'unconscious', 'irresponsible', 'enthralling', 'hale', 'temporary', 'herrings', 'upbringing', 'throne', 'overwhelmed', 'replay', 'dive', 'elisha', 'lansbury', 'antichrist', 'overused', 'fagin', 'fitzgerald', 'wwi', 'ballroom', 'cassie', 'imitating', 'dukakis', 'attributes', 'concentrated', 'pour', 'fiasco', 'vibe', 'fastforward', 'supremacy', 'dangers', 'feared', 'diaz', 'bombed', 'ecstasy', 'sixteen', 'scarlet', 'eastwoods', 'moderately', 'athletic', 'padded', 'semi', 'tables', 'hector', 'confession', 'expressing', 'curtain', 'redgrave', 'heather', 'recurring', 'tango', 'helmet', 'levy', 'innuendo', 'urgency', 'castro', 'expand', 'natasha', 'pertwee', 'shawn', 'ossessione', 'illustrated', 'tourists', 'steamy', 'aztec', 'gays', 'brunette', 'superiors', 'flame', 'assortment', 'disasters', 'happier', 'clubs', 'archer', 'placing', 'peaks', 'distinguished', 'bullies', 'missions', 'cheung', 'shamelessly', 'auteur', 'itd', 'management', 'sheridan', 'overacts', 'destructive', 'bigfoot', 'doses', 'immigrants', 'glenda', 'burden', 'pistol', 'hilton', 'shatner', 'violently', 'vaudeville', 'prejudices', 'observed', 'harbor', 'giggle', 'benoit', 'booker', 'seventh', 'payne', 'tacked', 'neverending', 'counted', 'alienation', 'jerky', 'denial', 'heir', 'recreation', 'scandal', 'wolves', 'climbs', 'rudd', 'hazzard', 'terrorism', 'sammi', 'tobe', 'climate', 'sore', 'reno', 'tasks', 'miyazakis', 'gardens', 'unlucky', 'cheesiness', 'dwarf', 'dillon', 'marx', 'counterpart', 'academic', 'kenny', 'dodge', 'swords', 'ranger', 'kornbluth', 'poke', 'chandler', 'coal', 'ratio', 'consisted', 'vulnerability', 'princes', 'vienna', 'gimmicks', 'annoyingly', 'grady', 'stalks', 'liz', 'beth', 'casually', 'enhances', 'richly', 'aniston', 'penis', 'inherited', 'existential', 'intellect', 'dreadfully', 'concludes', 'darling', 'featurelength', 'cocktail', 'sack', 'stupidest', 'everybodys', 'lubitsch', 'chocolate', 'coverage', 'opponents', 'melt', 'lowbrow', 'spitting', 'meyers', 'lang', 'compositions', 'posh', 'disappearing', 'celine', 'yearning', 'btk', 'firsttime', 'bishop', 'embarrass', 'traumatized', 'aweigh', 'percent', 'rko', 'companions', 'crowds', 'psychiatric', 'seal', 'concentrates', 'nailed', 'ma', 'goofs', 'custody', 'joshua', 'montages', 'vets', 'stretches', 'afghanistan', 'practices', 'dani', 'gosh', 'hopeful', 'bursts', 'idiocy', 'purse', 'screamed', 'discernible', 'alienate', 'hesitate', 'neglect', 'stripper', 'penalty', 'pond', 'dickinson', 'spinning', 'improvised', 'expanded', 'roach', 'farnsworth', 'stereotyping', 'cortez', 'thumb', 'outs', 'versa', 'slew', 'worm', 'torch', 'footsteps', 'rapture', 'valerie', 'swiss', 'midler', 'whip', 'luzhin', 'prices', 'rusty', 'martino', 'coppola', 'mindset', 'bothering', 'drugged', 'sessions', 'sm', 'honeymoon', 'buildup', 'gannon', 'flipping', 'anonymous', 'approximately', 'exwife', 'bald', 'customs', 'muted', 'hmmm', 'knack', 'lastly', 'y', 'finely', 'frenzy', 'sinatras', 'relied', 'holland', 'reincarnation', 'collecting', 'theo', 'perceive', 'nerds', 'keitel', 'meanings', 'unemployed', 'truthful', 'mechanic', 'incompetence', 'restless', 'camps', 'elevate', 'awfulness', 'volumes', 'hmm', 'skipping', 'monday', 'bonding', 'disdain', 'midway', 'profile', 'poet', 'regrets', 'lin', 'irrational', 'lecture', 'vault', 'thorn', 'dogma', 'neeson', 'hustler', 'prophet', 'mcdowell', 'zabriskie', 'paragraph', 'maguire', 'herethe', 'alba', 'honey', 'rotting', 'guru', 'woke', 'coaster', 'astronaut', 'fallon', '48', 'marathon', 'crenna', 'whipped', 'smarmy', 'izzard', 'contemplate', 'connor', 'transformers', 'segal', 'adequately', 'architecture', 'efficient', 'fable', 'pub', 'dopey', 'bing', 'elmer', 'billion', 'azumi', 'noam', 'palestinian', 'sarne', 'braindead', 'chock', 'hug', 'slipped', '1938', 'daphne', 'chapters', 'healing', 'immersed', 'hitchhiker', 'wisecracking', '2009', 'diabolical', '1949', 'assist', 'conquest', '500', 'duryea', 'dyke', 'creeps', 'saddest', 'metropolis', 'citys', 'strikingly', 'preteen', 'apartheid', 'fatherson', 'tensions', 'daisies', 'sparse', 'farewell', 'thankful', 'norton', 'lyrical', 'flip', 'murphys', 'walters', 'fulllength', 'marred', 'ripoffs', 'rosenstrasse', 'mourning', 'alternately', 'pranks', 'premises', 'looney', 'shootings', 'kerr', 'suspended', 'profit', 'revive', 'babysitter', 'coleman', 'sloane', 'limbs', 'postmodern', 'islam', 'insanely', 'caution', 'slows', 'victorias', 'subtleties', 'locales', 'lange', 'choke', 'stepped', 'bury', 'backwoods', 'durbin', 'fanatics', 'ella', 'versatile', 'throats', 'snippets', 'listing', 'surpasses', 'grain', 'believer', 'thatll', 'harlem', 'acknowledged', 'adopt', 'guided', 'jock', 'goers', 'bombing', 'shaolin', 'chewing', 'goodthe', 'rebecca', 'rests', 'undeveloped', 'oddball', 'submit', 'gi', 'bolivia', 'planted', 'stature', 'zealand', 'sleuth', 'graves', 'passenger', 'plants', 'pauses', 'brink', 'suggestive', 'impeccable', 'association', 'vengeful', 'architect', 'corridors', 'micheal', 'tenants', 'weaver', 'cowritten', 'squeeze', 'welcomed', 'supporters', 'prevented', 'apologize', 'penguin', 'regain', 'insects', 'waits', 'maverick', 'january', 'december', 'garnered', 'converted', 'recipe', 'lightly', 'eliminate', 'explanations', 'conception', 'delve', 'balloon', 'lung', 'snappy', 'harrys', 'shakespearean', 'candidates', 'downtown', 'naval', 'dusty', 'compromise', 'bucket', 'mostel', 'rizzo', 'rehearsal', 'spectacularly', 'rushes', 'monstrous', 'kramer', 'barbarian', 'tested', 'empathize', 'betrays', 'bash', 'proverbial', 'rack', 'italians', 'condescending', 'conduct', 'wipe', 'loop', 'elliot', 'insignificant', 'continent', '1931', 'albums', 'moviethis', 'uncredited', 'atomic', 'corbin', 'dental', 'keeler', 'documents', 'regal', 'outrage', 'discussions', 'lovingly', 'kiddie', 'mold', 'apprentice', 'adventurous', 'cocky', 'oppressive', 'capt', 'gage', 'wits', 'examined', 'smarter', '18th', 'prevalent', '400', 'collar', 'bearable', 'friendships', 'lucio', 'melinda', 'horn', 'vera', 'rico', 'maiden', 'branch', 'confronting', 'democracy', 'stoic', 'callahan', 'fugitive', 'floriane', 'platoon', 'sentenced', 'dimwitted', 'insulted', 'assassins', 'toss', 'spectrum', 'distributors', 'telly', 'achieving', 'smoothly', 'comicbook', 'sciencefiction', 'glee', 'philadelphia', 'voiceovers', 'mischievous', 'variations', 'harmony', 'equals', 'connecting', 'holidays', 'cillian', 'lizard', 'grips', 'societies', 'carnival', 'practicing', 'obscene', 'tucker', 'presumed', 'granger', 'wondrous', 'backyard', 'darkest', 'retain', 'hardest', 'mocking', 'swamp', 'gesture', 'exposing', 'janitor', 'rugged', 'duties', 'allison', 'expertise', 'stubborn', 'duff', 'locks', 'organs', 'admirably', 'lineup', 'revelations', 'nineties', 'universally', 'palette', 'jessie', 'sacrificed', 'exhibit', 'millennium', 'entertainer', 'tedium', 'partial', 'render', 'garcia', 'guevara', 'evolved', 'wheels', 'allegedly', 'mining', 'gamut', 'stimulating', 'connolly', 'soulless', 'joanna', 'benson', 'vanishing', 'grumpy', 'andersons', 'eponymous', 'anchor', 'desolate', 'kinky', 'matching', 'witless', 'hockey', 'carson', 'chore', 'intruder', 'welch', 'hurting', 'heroin', 'disgruntled', 'gen', 'fireworks', 'prototype', 'november', 'smitten', 'moonstruck', 'administration', 'cathy', 'sorvino', 'unborn', 'episodic', 'gaining', 'overt', 'spielbergs', 'mutated', 'strangest', 'lotr', 'irs', 'rainer', 'kindness', 'haired', 'kentucky', 'requisite', 'straw', 'hungarian', 'snatch', 'cheaper', 'cloud', 'intestines', 'satellite', 'seinfeld', 'misplaced', 'illiterate', 'ahmad', 'oriental', 'rollercoaster', 'bets', 'thatthe', 'cruella', 'pita', 'hating', 'celebrating', 'shouts', 'dense', 'illustrates', 'til', 'prehistoric', 'layered', 'switzerland', 'nuance', 'rightfully', 'ash', 'ranging', 'norwegian', 'woven', 'rigid', 'psychologically', 'plotted', 'amok', 'untrue', 'flee', 'lamas', 'caroline', 'forgivable', 'undertaker', 'outtakes', 'edits', 'hisher', 'kaufman', 'batwoman', 'outta', 'singin', 'villagers', 'hoods', 'hispanic', 'confirm', 'goodnatured', 'barker', 'classified', 'recalls', 'carlito', 'weirdo', 'unimpressive', 'casted', 'marquis', 'therein', 'pauls', 'interpreted', 'carole', 'shack', 'culkin', 'overseas', 'floors', 'norma', 'surrogate', 'hogan', 'siege', 'surfers', 'morgana', 'austens', 'blaxploitation', 'twodimensional', 'undertones', 'participation', 'logo', 'napoleon', 'exhausted', 'spoton', 'secluded', 'usage', 'patch', 'grounded', 'goo', 'dripping', 'extremes', 'cbc', 'exudes', 'voters', 'greta', 'lieutenant', 'ensuing', 'exceedingly', 'll', 'monstrosity', 'unfairly', 'colourful', 'weaves', 'clumsily', 'coarse', 'unsuccessful', 'spaces', 'pursues', 'shakes', 'alli', 'operas', 'draft', 'bgrade', 'chat', 'malcolm', 'miracles', 'emerged', 'redeemed', 'handy', 'brits', 'deathstalker', 'wills', 'stir', 'hawaii', 'jackass', 'retrospect', 'breathless', 'blink', 'badass', 'texture', 'indulge', 'soles', 'addressing', 'inch', 'hiring', 'smalltown', 'employ', 'olympic', 'capitalize', 'gee', 'drums', 'existent', 'chains', 'crop', 'poppins', 'pokes', 'orphanage', 'streisands', 'spreading', 'lap', 'bravery', 'owning', 'sacred', 'answering', 'hosts', 'faux', 'orgy', 'polite', 'documented', 'unnamed', 'insisted', 'integrated', 'drifter', 'preserved', 'tepid', 'irwin', 'capsule', 'puzzling', 'monastery', 'frenchman', 'criminally', 'hedy', 'unfinished', 'request', 'instruments', 'smallest', 'prevents', 'gilligans', 'supplies', 'stills', 'dw', 'bathing', 'swat', 'booze', 'flamenco', 'inc', 'bogdanovich', 'gladly', 'stripped', 'hamill', 'ounce', 'itits', 'directorwriter', 'honorable', 'beau', 'helena', 'bonham', 'portman', 'voting', 'transform', 'acquire', 'viggo', 'atrocities', 'jew', 'pavarotti', 'forum', 'rerun', 'aiello', 'jed', 'crawl', 'adapting', 'ferry', 'transcends', 'corky', 'allied', 'attributed', 'kisses', 'mac', 'thisthe', 'hammerhead', 'affections', 'lambs', 'rewatch', 'arizona', 'underdog', 'culminating', 'tasteful', 'gifts', 'itchy', 'interpret', 'slowmoving', 'praying', 'shrink', 'sans', 'badthe', 'imdbs', 'anchorman', 'aims', 'wicker', 'chef', 'positions', 'teddy', 'pets', 'leia', 'onesided', 'marvellous', 'slug', 'aristocrat', 'campers', 'deception', 'swift', 'bruckheimer', 'shadowy', 'employs', 'wb', 'addresses', 'consisting', 'hardships', 'historians', 'dane', '1942', 'rabid', 'zatoichi', 'wellthe', 'geeks', 'phyllis', 'bryan', 'pam', 'schemes', 'motif', 'spears', 'decapitated', 'unrated', 'behalf', 'societal', 'skimpy', 'onethe', 'tearjerker', 'monumental', 'exposes', 'transferred', 'stealth', 'mj', 'crow', 'kingsley', 'streak', 'compound', 'cracker', 'plantation', 'alligator', 'darkman', 'mastroianni', 'mamet', 'caruso', 'pronounced', 'occurring', 'diver', 'rewind', 'jovi', 'greats', 'menu', 'retains', 'raping', 'textbook', 'pacinos', 'choreographer', 'beef', 'eggs', 'virgins', 'showtime', 'mpaa', 'complains', 'conceit', 'fulcis', 'seduced', 'adored', 'somber', 'heritage', 'bicycle', 'osullivan', 'pinup', 'minions', 'uniquely', 'talentless', 'abominable', 'actorsactresses', 'blessing', 'shoestring', 'warped', 'slash', 'joyous', 'upsetting', 'cos', 'misfire', 'recreated', 'yourselves', 'revolting', 'blends', 'onenote', 'departments', 'fleming', 'cowriter', 'visitors', 'sealed', 'scriptwriters', 'uneducated', 'michel', 'drained', 'awakens', '510', 'kerry', 'tigerland', 'crook', 'shenanigans', 'stable', 'mismatched', 'sabu', 'stretching', 'tanks', 'staple', 'enthralled', 'heshe', 'marginally', 'halt', 'astonished', 'turgid', 'hg', 'iowa', 'reanimator', 'fantastically', 'delia', 'virtues', 'heiress', 'defines', 'hesitation', 'stalwart', 'teamed', 'boyish', 'perfected', 'olympia', 'backing', 'toro', 'tent', 'radar', 'risks', 'reception', 'runofthemill', 'technological', 'dreamed', 'maintained', 'lampoons', 'nielsen', 'historian', '1965', 'crummy', 'giggles', 'guarded', 'oblivion', 'horizon', 'allegory', 'renders', 'blackie', 'speechless', 'insecure', 'masturbation', 'grieving', 'downward', 'chairman', 'travelling', 'basil', 'dares', 'liza', 'vivah', 'ate']\n"
          ],
          "name": "stdout"
        }
      ]
    },
    {
      "cell_type": "code",
      "metadata": {
        "id": "gKBRgc4UYfjf"
      },
      "source": [
        "def vectorize(review_string, vocab):\n",
        "  ### Answer starts here ###\n",
        "  words = review_string.split()\n",
        "  word_vector = []\n",
        "  \n",
        "  for word in vocab:\n",
        "    if word in words:\n",
        "      word_vector.append(1)\n",
        "    else:\n",
        "      word_vector.append(0)\n",
        "  \n",
        "  return word_vector\n",
        "\n",
        "  ### Answer ends here ###"
      ],
      "execution_count": null,
      "outputs": []
    },
    {
      "cell_type": "markdown",
      "metadata": {
        "id": "A7UHbv8SLiz7"
      },
      "source": [
        "Test your function with the following input. The vector should have four \"1\"s."
      ]
    },
    {
      "cell_type": "code",
      "metadata": {
        "id": "7ohyWmFCeknM",
        "colab": {
          "base_uri": "https://localhost:8080/",
          "height": 72
        },
        "outputId": "1cc7724e-e6d7-4839-ec5b-4a43e05afae0"
      },
      "source": [
        "vector = vectorize(\"the and a of zyxw\", vocabulary)\n",
        "print(vector)\n",
        "print(sum(vector))"
      ],
      "execution_count": null,
      "outputs": [
        {
          "output_type": "stream",
          "text": [
            "[1, 1, 1, 1, 0, 0, 0, 0, 0, 0, 0, 0, 0, 0, 0, 0, 0, 0, 0, 0, 0, 0, 0, 0, 0, 0, 0, 0, 0, 0, 0, 0, 0, 0, 0, 0, 0, 0, 0, 0, 0, 0, 0, 0, 0, 0, 0, 0, 0, 0, 0, 0, 0, 0, 0, 0, 0, 0, 0, 0, 0, 0, 0, 0, 0, 0, 0, 0, 0, 0, 0, 0, 0, 0, 0, 0, 0, 0, 0, 0, 0, 0, 0, 0, 0, 0, 0, 0, 0, 0, 0, 0, 0, 0, 0, 0, 0, 0, 0, 0, 0, 0, 0, 0, 0, 0, 0, 0, 0, 0, 0, 0, 0, 0, 0, 0, 0, 0, 0, 0, 0, 0, 0, 0, 0, 0, 0, 0, 0, 0, 0, 0, 0, 0, 0, 0, 0, 0, 0, 0, 0, 0, 0, 0, 0, 0, 0, 0, 0, 0, 0, 0, 0, 0, 0, 0, 0, 0, 0, 0, 0, 0, 0, 0, 0, 0, 0, 0, 0, 0, 0, 0, 0, 0, 0, 0, 0, 0, 0, 0, 0, 0, 0, 0, 0, 0, 0, 0, 0, 0, 0, 0, 0, 0, 0, 0, 0, 0, 0, 0, 0, 0, 0, 0, 0, 0, 0, 0, 0, 0, 0, 0, 0, 0, 0, 0, 0, 0, 0, 0, 0, 0, 0, 0, 0, 0, 0, 0, 0, 0, 0, 0, 0, 0, 0, 0, 0, 0, 0, 0, 0, 0, 0, 0, 0, 0, 0, 0, 0, 0, 0, 0, 0, 0, 0, 0, 0, 0, 0, 0, 0, 0, 0, 0, 0, 0, 0, 0, 0, 0, 0, 0, 0, 0, 0, 0, 0, 0, 0, 0, 0, 0, 0, 0, 0, 0, 0, 0, 0, 0, 0, 0, 0, 0, 0, 0, 0, 0, 0, 0, 0, 0, 0, 0, 0, 0, 0, 0, 0, 0, 0, 0, 0, 0, 0, 0, 0, 0, 0, 0, 0, 0, 0, 0, 0, 0, 0, 0, 0, 0, 0, 0, 0, 0, 0, 0, 0, 0, 0, 0, 0, 0, 0, 0, 0, 0, 0, 0, 0, 0, 0, 0, 0, 0, 0, 0, 0, 0, 0, 0, 0, 0, 0, 0, 0, 0, 0, 0, 0, 0, 0, 0, 0, 0, 0, 0, 0, 0, 0, 0, 0, 0, 0, 0, 0, 0, 0, 0, 0, 0, 0, 0, 0, 0, 0, 0, 0, 0, 0, 0, 0, 0, 0, 0, 0, 0, 0, 0, 0, 0, 0, 0, 0, 0, 0, 0, 0, 0, 0, 0, 0, 0, 0, 0, 0, 0, 0, 0, 0, 0, 0, 0, 0, 0, 0, 0, 0, 0, 0, 0, 0, 0, 0, 0, 0, 0, 0, 0, 0, 0, 0, 0, 0, 0, 0, 0, 0, 0, 0, 0, 0, 0, 0, 0, 0, 0, 0, 0, 0, 0, 0, 0, 0, 0, 0, 0, 0, 0, 0, 0, 0, 0, 0, 0, 0, 0, 0, 0, 0, 0, 0, 0, 0, 0, 0, 0, 0, 0, 0, 0, 0, 0, 0, 0, 0, 0, 0, 0, 0, 0, 0, 0, 0, 0, 0, 0, 0, 0, 0, 0, 0, 0, 0, 0, 0, 0, 0, 0, 0, 0, 0, 0, 0, 0, 0, 0, 0, 0, 0, 0, 0, 0, 0, 0, 0, 0, 0, 0, 0, 0, 0, 0, 0, 0, 0, 0, 0, 0, 0, 0, 0, 0, 0, 0, 0, 0, 0, 0, 0, 0, 0, 0, 0, 0, 0, 0, 0, 0, 0, 0, 0, 0, 0, 0, 0, 0, 0, 0, 0, 0, 0, 0, 0, 0, 0, 0, 0, 0, 0, 0, 0, 0, 0, 0, 0, 0, 0, 0, 0, 0, 0, 0, 0, 0, 0, 0, 0, 0, 0, 0, 0, 0, 0, 0, 0, 0, 0, 0, 0, 0, 0, 0, 0, 0, 0, 0, 0, 0, 0, 0, 0, 0, 0, 0, 0, 0, 0, 0, 0, 0, 0, 0, 0, 0, 0, 0, 0, 0, 0, 0, 0, 0, 0, 0, 0, 0, 0, 0, 0, 0, 0, 0, 0, 0, 0, 0, 0, 0, 0, 0, 0, 0, 0, 0, 0, 0, 0, 0, 0, 0, 0, 0, 0, 0, 0, 0, 0, 0, 0, 0, 0, 0, 0, 0, 0, 0, 0, 0, 0, 0, 0, 0, 0, 0, 0, 0, 0, 0, 0, 0, 0, 0, 0, 0, 0, 0, 0, 0, 0, 0, 0, 0, 0, 0, 0, 0, 0, 0, 0, 0, 0, 0, 0, 0, 0, 0, 0, 0, 0, 0, 0, 0, 0, 0, 0, 0, 0, 0, 0, 0, 0, 0, 0, 0, 0, 0, 0, 0, 0, 0, 0, 0, 0, 0, 0, 0, 0, 0, 0, 0, 0, 0, 0, 0, 0, 0, 0, 0, 0, 0, 0, 0, 0, 0, 0, 0, 0, 0, 0, 0, 0, 0, 0, 0, 0, 0, 0, 0, 0, 0, 0, 0, 0, 0, 0, 0, 0, 0, 0, 0, 0, 0, 0, 0, 0, 0, 0, 0, 0, 0, 0, 0, 0, 0, 0, 0, 0, 0, 0, 0, 0, 0, 0, 0, 0, 0, 0, 0, 0, 0, 0, 0, 0, 0, 0, 0, 0, 0, 0, 0, 0, 0, 0, 0, 0, 0, 0, 0, 0, 0, 0, 0, 0, 0, 0, 0, 0, 0, 0, 0, 0, 0, 0, 0, 0, 0, 0, 0, 0, 0, 0, 0, 0, 0, 0, 0, 0, 0, 0, 0, 0, 0, 0, 0, 0, 0, 0, 0, 0, 0, 0, 0, 0, 0, 0, 0, 0, 0, 0, 0, 0, 0, 0, 0, 0, 0, 0, 0, 0, 0, 0, 0, 0, 0, 0, 0, 0, 0, 0, 0, 0, 0, 0, 0, 0, 0, 0, 0, 0, 0, 0, 0, 0, 0, 0, 0, 0, 0, 0, 0, 0, 0, 0, 0, 0, 0, 0, 0, 0, 0, 0, 0, 0, 0, 0, 0, 0, 0, 0, 0, 0, 0, 0, 0, 0, 0, 0, 0, 0, 0, 0, 0, 0, 0, 0, 0, 0, 0, 0, 0, 0, 0, 0, 0, 0, 0, 0, 0, 0, 0, 0, 0, 0, 0, 0, 0, 0, 0, 0, 0, 0, 0, 0, 0, 0, 0, 0, 0, 0, 0, 0, 0, 0, 0, 0, 0, 0, 0, 0, 0, 0, 0, 0, 0, 0, 0, 0, 0, 0, 0, 0, 0, 0, 0, 0, 0, 0, 0, 0, 0, 0, 0, 0, 0, 0, 0, 0, 0, 0, 0, 0, 0, 0, 0, 0, 0, 0, 0, 0, 0, 0, 0, 0, 0, 0, 0, 0, 0, 0, 0, 0, 0, 0, 0, 0, 0, 0, 0, 0, 0, 0, 0, 0, 0, 0, 0, 0, 0, 0, 0, 0, 0, 0, 0, 0, 0, 0, 0, 0, 0, 0, 0, 0, 0, 0, 0, 0, 0, 0, 0, 0, 0, 0, 0, 0, 0, 0, 0, 0, 0, 0, 0, 0, 0, 0, 0, 0, 0, 0, 0, 0, 0, 0, 0, 0, 0, 0, 0, 0, 0, 0, 0, 0, 0, 0, 0, 0, 0, 0, 0, 0, 0, 0, 0, 0, 0, 0, 0, 0, 0, 0, 0, 0, 0, 0, 0, 0, 0, 0, 0, 0, 0, 0, 0, 0, 0, 0, 0, 0, 0, 0, 0, 0, 0, 0, 0, 0, 0, 0, 0, 0, 0, 0, 0, 0, 0, 0, 0, 0, 0, 0, 0, 0, 0, 0, 0, 0, 0, 0, 0, 0, 0, 0, 0, 0, 0, 0, 0, 0, 0, 0, 0, 0, 0, 0, 0, 0, 0, 0, 0, 0, 0, 0, 0, 0, 0, 0, 0, 0, 0, 0, 0, 0, 0, 0, 0, 0, 0, 0, 0, 0, 0, 0, 0, 0, 0, 0, 0, 0, 0, 0, 0, 0, 0, 0, 0, 0, 0, 0, 0, 0, 0, 0, 0, 0, 0, 0, 0, 0, 0, 0, 0, 0, 0, 0, 0, 0, 0, 0, 0, 0, 0, 0, 0, 0, 0, 0, 0, 0, 0, 0, 0, 0, 0, 0, 0, 0, 0, 0, 0, 0, 0, 0, 0, 0, 0, 0, 0, 0, 0, 0, 0, 0, 0, 0, 0, 0, 0, 0, 0, 0, 0, 0, 0, 0, 0, 0, 0, 0, 0, 0, 0, 0, 0, 0, 0, 0, 0, 0, 0, 0, 0, 0, 0, 0, 0, 0, 0, 0, 0, 0, 0, 0, 0, 0, 0, 0, 0, 0, 0, 0, 0, 0, 0, 0, 0, 0, 0, 0, 0, 0, 0, 0, 0, 0, 0, 0, 0, 0, 0, 0, 0, 0, 0, 0, 0, 0, 0, 0, 0, 0, 0, 0, 0, 0, 0, 0, 0, 0, 0, 0, 0, 0, 0, 0, 0, 0, 0, 0, 0, 0, 0, 0, 0, 0, 0, 0, 0, 0, 0, 0, 0, 0, 0, 0, 0, 0, 0, 0, 0, 0, 0, 0, 0, 0, 0, 0, 0, 0, 0, 0, 0, 0, 0, 0, 0, 0, 0, 0, 0, 0, 0, 0, 0, 0, 0, 0, 0, 0, 0, 0, 0, 0, 0, 0, 0, 0, 0, 0, 0, 0, 0, 0, 0, 0, 0, 0, 0, 0, 0, 0, 0, 0, 0, 0, 0, 0, 0, 0, 0, 0, 0, 0, 0, 0, 0, 0, 0, 0, 0, 0, 0, 0, 0, 0, 0, 0, 0, 0, 0, 0, 0, 0, 0, 0, 0, 0, 0, 0, 0, 0, 0, 0, 0, 0, 0, 0, 0, 0, 0, 0, 0, 0, 0, 0, 0, 0, 0, 0, 0, 0, 0, 0, 0, 0, 0, 0, 0, 0, 0, 0, 0, 0, 0, 0, 0, 0, 0, 0, 0, 0, 0, 0, 0, 0, 0, 0, 0, 0, 0, 0, 0, 0, 0, 0, 0, 0, 0, 0, 0, 0, 0, 0, 0, 0, 0, 0, 0, 0, 0, 0, 0, 0, 0, 0, 0, 0, 0, 0, 0, 0, 0, 0, 0, 0, 0, 0, 0, 0, 0, 0, 0, 0, 0, 0, 0, 0, 0, 0, 0, 0, 0, 0, 0, 0, 0, 0, 0, 0, 0, 0, 0, 0, 0, 0, 0, 0, 0, 0, 0, 0, 0, 0, 0, 0, 0, 0, 0, 0, 0, 0, 0, 0, 0, 0, 0, 0, 0, 0, 0, 0, 0, 0, 0, 0, 0, 0, 0, 0, 0, 0, 0, 0, 0, 0, 0, 0, 0, 0, 0, 0, 0, 0, 0, 0, 0, 0, 0, 0, 0, 0, 0, 0, 0, 0, 0, 0, 0, 0, 0, 0, 0, 0, 0, 0, 0, 0, 0, 0, 0, 0, 0, 0, 0, 0, 0, 0, 0, 0, 0, 0, 0, 0, 0, 0, 0, 0, 0, 0, 0, 0, 0, 0, 0, 0, 0, 0, 0, 0, 0, 0, 0, 0, 0, 0, 0, 0, 0, 0, 0, 0, 0, 0, 0, 0, 0, 0, 0, 0, 0, 0, 0, 0, 0, 0, 0, 0, 0, 0, 0, 0, 0, 0, 0, 0, 0, 0, 0, 0, 0, 0, 0, 0, 0, 0, 0, 0, 0, 0, 0, 0, 0, 0, 0, 0, 0, 0, 0, 0, 0, 0, 0, 0, 0, 0, 0, 0, 0, 0, 0, 0, 0, 0, 0, 0, 0, 0, 0, 0, 0, 0, 0, 0, 0, 0, 0, 0, 0, 0, 0, 0, 0, 0, 0, 0, 0, 0, 0, 0, 0, 0, 0, 0, 0, 0, 0, 0, 0, 0, 0, 0, 0, 0, 0, 0, 0, 0, 0, 0, 0, 0, 0, 0, 0, 0, 0, 0, 0, 0, 0, 0, 0, 0, 0, 0, 0, 0, 0, 0, 0, 0, 0, 0, 0, 0, 0, 0, 0, 0, 0, 0, 0, 0, 0, 0, 0, 0, 0, 0, 0, 0, 0, 0, 0, 0, 0, 0, 0, 0, 0, 0, 0, 0, 0, 0, 0, 0, 0, 0, 0, 0, 0, 0, 0, 0, 0, 0, 0, 0, 0, 0, 0, 0, 0, 0, 0, 0, 0, 0, 0, 0, 0, 0, 0, 0, 0, 0, 0, 0, 0, 0, 0, 0, 0, 0, 0, 0, 0, 0, 0, 0, 0, 0, 0, 0, 0, 0, 0, 0, 0, 0, 0, 0, 0, 0, 0, 0, 0, 0, 0, 0, 0, 0, 0, 0, 0, 0, 0, 0, 0, 0, 0, 0, 0, 0, 0, 0, 0, 0, 0, 0, 0, 0, 0, 0, 0, 0, 0, 0, 0, 0, 0, 0, 0, 0, 0, 0, 0, 0, 0, 0, 0, 0, 0, 0, 0, 0, 0, 0, 0, 0, 0, 0, 0, 0, 0, 0, 0, 0, 0, 0, 0, 0, 0, 0, 0, 0, 0, 0, 0, 0, 0, 0, 0, 0, 0, 0, 0, 0, 0, 0, 0, 0, 0, 0, 0, 0, 0, 0, 0, 0, 0, 0, 0, 0, 0, 0, 0, 0, 0, 0, 0, 0, 0, 0, 0, 0, 0, 0, 0, 0, 0, 0, 0, 0, 0, 0, 0, 0, 0, 0, 0, 0, 0, 0, 0, 0, 0, 0, 0, 0, 0, 0, 0, 0, 0, 0, 0, 0, 0, 0, 0, 0, 0, 0, 0, 0, 0, 0, 0, 0, 0, 0, 0, 0, 0, 0, 0, 0, 0, 0, 0, 0, 0, 0, 0, 0, 0, 0, 0, 0, 0, 0, 0, 0, 0, 0, 0, 0, 0, 0, 0, 0, 0, 0, 0, 0, 0, 0, 0, 0, 0, 0, 0, 0, 0, 0, 0, 0, 0, 0, 0, 0, 0, 0, 0, 0, 0, 0, 0, 0, 0, 0, 0, 0, 0, 0, 0, 0, 0, 0, 0, 0, 0, 0, 0, 0, 0, 0, 0, 0, 0, 0, 0, 0, 0, 0, 0, 0, 0, 0, 0, 0, 0, 0, 0, 0, 0, 0, 0, 0, 0, 0, 0, 0, 0, 0, 0, 0, 0, 0, 0, 0, 0, 0, 0, 0, 0, 0, 0, 0, 0, 0, 0, 0, 0, 0, 0, 0, 0, 0, 0, 0, 0, 0, 0, 0, 0, 0, 0, 0, 0, 0, 0, 0, 0, 0, 0, 0, 0, 0, 0, 0, 0, 0, 0, 0, 0, 0, 0, 0, 0, 0, 0, 0, 0, 0, 0, 0, 0, 0, 0, 0, 0, 0, 0, 0, 0, 0, 0, 0, 0, 0, 0, 0, 0, 0, 0, 0, 0, 0, 0, 0, 0, 0, 0, 0, 0, 0, 0, 0, 0, 0, 0, 0, 0, 0, 0, 0, 0, 0, 0, 0, 0, 0, 0, 0, 0, 0, 0, 0, 0, 0, 0, 0, 0, 0, 0, 0, 0, 0, 0, 0, 0, 0, 0, 0, 0, 0, 0, 0, 0, 0, 0, 0, 0, 0, 0, 0, 0, 0, 0, 0, 0, 0, 0, 0, 0, 0, 0, 0, 0, 0, 0, 0, 0, 0, 0, 0, 0, 0, 0, 0, 0, 0, 0, 0, 0, 0, 0, 0, 0, 0, 0, 0, 0, 0, 0, 0, 0, 0, 0, 0, 0, 0, 0, 0, 0, 0, 0, 0, 0, 0, 0, 0, 0, 0, 0, 0, 0, 0, 0, 0, 0, 0, 0, 0, 0, 0, 0, 0, 0, 0, 0, 0, 0, 0, 0, 0, 0, 0, 0, 0, 0, 0, 0, 0, 0, 0, 0, 0, 0, 0, 0, 0, 0, 0, 0, 0, 0, 0, 0, 0, 0, 0, 0, 0, 0, 0, 0, 0, 0, 0, 0, 0, 0, 0, 0, 0, 0, 0, 0, 0, 0, 0, 0, 0, 0, 0, 0, 0, 0, 0, 0, 0, 0, 0, 0, 0, 0, 0, 0, 0, 0, 0, 0, 0, 0, 0, 0, 0, 0, 0, 0, 0, 0, 0, 0, 0, 0, 0, 0, 0, 0, 0, 0, 0, 0, 0, 0, 0, 0, 0, 0, 0, 0, 0, 0, 0, 0, 0, 0, 0, 0, 0, 0, 0, 0, 0, 0, 0, 0, 0, 0, 0, 0, 0, 0, 0, 0, 0, 0, 0, 0, 0, 0, 0, 0, 0, 0, 0, 0, 0, 0, 0, 0, 0, 0, 0, 0, 0, 0, 0, 0, 0, 0, 0, 0, 0, 0, 0, 0, 0, 0, 0, 0, 0, 0, 0, 0, 0, 0, 0, 0, 0, 0, 0, 0, 0, 0, 0, 0, 0, 0, 0, 0, 0, 0, 0, 0, 0, 0, 0, 0, 0, 0, 0, 0, 0, 0, 0, 0, 0, 0, 0, 0, 0, 0, 0, 0, 0, 0, 0, 0, 0, 0, 0, 0, 0, 0, 0, 0, 0, 0, 0, 0, 0, 0, 0, 0, 0, 0, 0, 0, 0, 0, 0, 0, 0, 0, 0, 0, 0, 0, 0, 0, 0, 0, 0, 0, 0, 0, 0, 0, 0, 0, 0, 0, 0, 0, 0, 0, 0, 0, 0, 0, 0, 0, 0, 0, 0, 0, 0, 0, 0, 0, 0, 0, 0, 0, 0, 0, 0, 0, 0, 0, 0, 0, 0, 0, 0, 0, 0, 0, 0, 0, 0, 0, 0, 0, 0, 0, 0, 0, 0, 0, 0, 0, 0, 0, 0, 0, 0, 0, 0, 0, 0, 0, 0, 0, 0, 0, 0, 0, 0, 0, 0, 0, 0, 0, 0, 0, 0, 0, 0, 0, 0, 0, 0, 0, 0, 0, 0, 0, 0, 0, 0, 0, 0, 0, 0, 0, 0, 0, 0, 0, 0, 0, 0, 0, 0, 0, 0, 0, 0, 0, 0, 0, 0, 0, 0, 0, 0, 0, 0, 0, 0, 0, 0, 0, 0, 0, 0, 0, 0, 0, 0, 0, 0, 0, 0, 0, 0, 0, 0, 0, 0, 0, 0, 0, 0, 0, 0, 0, 0, 0, 0, 0, 0, 0, 0, 0, 0, 0, 0, 0, 0, 0, 0, 0, 0, 0, 0, 0, 0, 0, 0, 0, 0, 0, 0, 0, 0, 0, 0, 0, 0, 0, 0, 0, 0, 0, 0, 0, 0, 0, 0, 0, 0, 0, 0, 0, 0, 0, 0, 0, 0, 0, 0, 0, 0, 0, 0, 0, 0, 0, 0, 0, 0, 0, 0, 0, 0, 0, 0, 0, 0, 0, 0, 0, 0, 0, 0, 0, 0, 0, 0, 0, 0, 0, 0, 0, 0, 0, 0, 0, 0, 0, 0, 0, 0, 0, 0, 0, 0, 0, 0, 0, 0, 0, 0, 0, 0, 0, 0, 0, 0, 0, 0, 0, 0, 0, 0, 0, 0, 0, 0, 0, 0, 0, 0, 0, 0, 0, 0, 0, 0, 0, 0, 0, 0, 0, 0, 0, 0, 0, 0, 0, 0, 0, 0, 0, 0, 0, 0, 0, 0, 0, 0, 0, 0, 0, 0, 0, 0, 0, 0, 0, 0, 0, 0, 0, 0, 0, 0, 0, 0, 0, 0, 0, 0, 0, 0, 0, 0, 0, 0, 0, 0, 0, 0, 0, 0, 0, 0, 0, 0, 0, 0, 0, 0, 0, 0, 0, 0, 0, 0, 0, 0, 0, 0, 0, 0, 0, 0, 0, 0, 0, 0, 0, 0, 0, 0, 0, 0, 0, 0, 0, 0, 0, 0, 0, 0, 0, 0, 0, 0, 0, 0, 0, 0, 0, 0, 0, 0, 0, 0, 0, 0, 0, 0, 0, 0, 0, 0, 0, 0, 0, 0, 0, 0, 0, 0, 0, 0, 0, 0, 0, 0, 0, 0, 0, 0, 0, 0, 0, 0, 0, 0, 0, 0, 0, 0, 0, 0, 0, 0, 0, 0, 0, 0, 0, 0, 0, 0, 0, 0, 0, 0, 0, 0, 0, 0, 0, 0, 0, 0, 0, 0, 0, 0, 0, 0, 0, 0, 0, 0, 0, 0, 0, 0, 0, 0, 0, 0, 0, 0, 0, 0, 0, 0, 0, 0, 0, 0, 0, 0, 0, 0, 0, 0, 0, 0, 0, 0, 0, 0, 0, 0, 0, 0, 0, 0, 0, 0, 0, 0, 0, 0, 0, 0, 0, 0, 0, 0, 0, 0, 0, 0, 0, 0, 0, 0, 0, 0, 0, 0, 0, 0, 0, 0, 0, 0, 0, 0, 0, 0, 0, 0, 0, 0, 0, 0, 0, 0, 0, 0, 0, 0, 0, 0, 0, 0, 0, 0, 0, 0, 0, 0, 0, 0, 0, 0, 0, 0, 0, 0, 0, 0, 0, 0, 0, 0, 0, 0, 0, 0, 0, 0, 0, 0, 0, 0, 0, 0, 0, 0, 0, 0, 0, 0, 0, 0, 0, 0, 0, 0, 0, 0, 0, 0, 0, 0, 0, 0, 0, 0, 0, 0, 0, 0, 0, 0, 0, 0, 0, 0, 0, 0, 0, 0, 0, 0, 0, 0, 0, 0, 0, 0, 0, 0, 0, 0, 0, 0, 0, 0, 0, 0, 0, 0, 0, 0, 0, 0, 0, 0, 0, 0, 0, 0, 0, 0, 0, 0, 0, 0, 0, 0, 0, 0, 0, 0, 0, 0, 0, 0, 0, 0, 0, 0, 0, 0, 0, 0, 0, 0, 0, 0, 0, 0, 0, 0, 0, 0, 0, 0, 0, 0, 0, 0, 0, 0, 0, 0, 0, 0, 0, 0, 0, 0, 0, 0, 0, 0, 0, 0, 0, 0, 0, 0, 0, 0, 0, 0, 0, 0, 0, 0, 0, 0, 0, 0, 0, 0, 0, 0, 0, 0, 0, 0, 0, 0, 0, 0, 0, 0, 0, 0, 0, 0, 0, 0, 0, 0, 0, 0, 0, 0, 0, 0, 0, 0, 0, 0, 0, 0, 0, 0, 0, 0, 0, 0, 0, 0, 0, 0, 0, 0, 0, 0, 0, 0, 0, 0, 0, 0, 0, 0, 0, 0, 0, 0, 0, 0, 0, 0, 0, 0, 0, 0, 0, 0, 0, 0, 0, 0, 0, 0, 0, 0, 0, 0, 0, 0, 0, 0, 0, 0, 0, 0, 0, 0, 0, 0, 0, 0, 0, 0, 0, 0, 0, 0, 0, 0, 0, 0, 0, 0, 0, 0, 0, 0, 0, 0, 0, 0, 0, 0, 0, 0, 0, 0, 0, 0, 0, 0, 0, 0, 0, 0, 0, 0, 0, 0, 0, 0, 0, 0, 0, 0, 0, 0, 0, 0, 0, 0, 0, 0, 0, 0, 0, 0, 0, 0, 0, 0, 0, 0, 0, 0, 0, 0, 0, 0, 0, 0, 0, 0, 0, 0, 0, 0, 0, 0, 0, 0, 0, 0, 0, 0, 0, 0, 0, 0, 0, 0, 0, 0, 0, 0, 0, 0, 0, 0, 0, 0, 0, 0, 0, 0, 0, 0, 0, 0, 0, 0, 0, 0, 0, 0, 0, 0, 0, 0, 0, 0, 0, 0, 0, 0, 0, 0, 0, 0, 0, 0, 0, 0, 0, 0, 0, 0, 0, 0, 0, 0, 0, 0, 0, 0, 0, 0, 0, 0, 0, 0, 0, 0, 0, 0, 0, 0, 0, 0, 0, 0, 0, 0, 0, 0, 0, 0, 0, 0, 0, 0, 0, 0, 0, 0, 0, 0, 0, 0, 0, 0, 0, 0, 0, 0, 0, 0, 0, 0, 0, 0, 0, 0, 0, 0, 0, 0, 0, 0, 0, 0, 0, 0, 0, 0, 0, 0, 0, 0, 0, 0, 0, 0, 0, 0, 0, 0, 0, 0, 0, 0, 0, 0, 0, 0, 0, 0, 0, 0, 0, 0, 0, 0, 0, 0, 0, 0, 0, 0, 0, 0, 0, 0, 0, 0, 0, 0, 0, 0, 0, 0, 0, 0, 0, 0, 0, 0, 0, 0, 0, 0, 0, 0, 0, 0, 0, 0, 0, 0, 0, 0, 0, 0, 0, 0, 0, 0, 0, 0, 0, 0, 0, 0, 0, 0, 0, 0, 0, 0, 0, 0, 0, 0, 0, 0, 0, 0, 0, 0, 0, 0, 0, 0, 0, 0, 0, 0, 0, 0, 0, 0, 0, 0, 0, 0, 0, 0, 0, 0, 0, 0, 0, 0, 0, 0, 0, 0, 0, 0, 0, 0, 0, 0, 0, 0, 0, 0, 0, 0, 0, 0, 0, 0, 0, 0, 0, 0, 0, 0, 0, 0, 0, 0, 0, 0, 0, 0, 0, 0, 0, 0, 0, 0, 0, 0, 0, 0, 0, 0, 0, 0, 0, 0, 0, 0, 0, 0, 0, 0, 0, 0, 0, 0, 0, 0, 0, 0, 0, 0, 0, 0, 0, 0, 0, 0, 0, 0, 0, 0, 0, 0, 0, 0, 0, 0, 0, 0, 0, 0, 0, 0, 0, 0, 0, 0, 0, 0, 0, 0, 0, 0, 0, 0, 0, 0, 0, 0, 0, 0, 0, 0, 0, 0, 0, 0, 0, 0, 0, 0, 0, 0, 0, 0, 0, 0, 0, 0, 0, 0, 0, 0, 0, 0, 0, 0, 0, 0, 0, 0, 0, 0, 0, 0, 0, 0, 0, 0, 0, 0, 0, 0, 0, 0, 0, 0, 0, 0, 0, 0, 0, 0, 0, 0, 0, 0, 0, 0, 0, 0, 0, 0, 0, 0, 0, 0, 0, 0, 0, 0, 0, 0, 0, 0, 0, 0, 0, 0, 0, 0, 0, 0, 0, 0, 0, 0, 0, 0, 0, 0, 0, 0, 0, 0, 0, 0, 0, 0, 0, 0, 0, 0, 0, 0, 0, 0, 0, 0, 0, 0, 0, 0, 0, 0, 0, 0, 0, 0, 0, 0, 0, 0, 0, 0, 0, 0, 0, 0, 0, 0, 0, 0, 0, 0, 0, 0, 0, 0, 0, 0, 0, 0, 0, 0, 0, 0, 0, 0, 0, 0, 0, 0, 0, 0, 0, 0, 0, 0, 0, 0, 0, 0, 0, 0, 0, 0, 0, 0, 0, 0, 0, 0, 0, 0, 0, 0, 0, 0, 0, 0, 0, 0, 0, 0, 0, 0, 0, 0, 0, 0, 0, 0, 0, 0, 0, 0, 0, 0, 0, 0, 0, 0, 0, 0, 0, 0, 0, 0, 0, 0, 0, 0, 0, 0, 0, 0, 0, 0, 0, 0, 0, 0, 0, 0, 0, 0, 0, 0, 0, 0, 0, 0, 0, 0, 0, 0, 0, 0, 0, 0, 0, 0, 0, 0, 0, 0, 0, 0, 0, 0, 0, 0, 0, 0, 0, 0, 0, 0, 0, 0, 0, 0, 0, 0, 0, 0, 0, 0, 0, 0, 0, 0, 0, 0, 0, 0, 0, 0, 0, 0, 0, 0, 0, 0, 0, 0, 0, 0, 0, 0, 0, 0, 0, 0, 0, 0, 0, 0, 0, 0, 0, 0, 0, 0, 0, 0, 0, 0, 0, 0, 0, 0, 0, 0, 0, 0, 0, 0, 0, 0, 0, 0, 0, 0, 0, 0, 0, 0, 0, 0, 0, 0, 0, 0, 0, 0, 0, 0, 0, 0, 0, 0, 0, 0, 0, 0, 0, 0, 0, 0, 0, 0, 0, 0, 0, 0, 0, 0, 0, 0, 0, 0, 0, 0, 0, 0, 0, 0, 0, 0, 0, 0, 0, 0, 0, 0, 0, 0, 0, 0, 0, 0, 0, 0, 0, 0, 0, 0, 0, 0, 0, 0, 0, 0, 0, 0, 0, 0, 0, 0, 0, 0, 0, 0, 0, 0, 0, 0, 0, 0, 0, 0, 0, 0, 0, 0, 0, 0, 0, 0, 0, 0, 0, 0, 0, 0, 0, 0, 0, 0, 0, 0, 0, 0, 0, 0, 0, 0, 0, 0, 0, 0, 0, 0, 0, 0, 0, 0, 0, 0, 0, 0, 0, 0, 0, 0, 0, 0, 0, 0, 0, 0, 0, 0, 0, 0, 0, 0, 0, 0, 0, 0, 0, 0, 0, 0, 0, 0, 0, 0, 0, 0, 0, 0, 0, 0, 0, 0, 0, 0, 0, 0, 0, 0, 0, 0, 0, 0, 0, 0, 0, 0, 0, 0, 0, 0, 0, 0, 0, 0, 0, 0, 0, 0, 0, 0, 0, 0, 0, 0, 0, 0, 0, 0, 0, 0, 0, 0, 0, 0, 0, 0, 0, 0, 0, 0, 0, 0, 0, 0, 0, 0, 0, 0, 0, 0, 0, 0, 0, 0, 0, 0, 0, 0, 0, 0, 0, 0, 0, 0, 0, 0, 0, 0, 0, 0, 0, 0, 0, 0, 0, 0, 0, 0, 0, 0, 0, 0, 0, 0, 0, 0, 0, 0, 0, 0, 0, 0, 0, 0, 0, 0, 0, 0, 0, 0, 0, 0, 0, 0, 0, 0, 0, 0, 0, 0, 0, 0, 0, 0, 0, 0, 0, 0, 0, 0, 0, 0, 0, 0, 0, 0, 0, 0, 0, 0, 0, 0, 0, 0, 0, 0, 0, 0, 0, 0, 0, 0, 0, 0, 0, 0, 0, 0, 0, 0, 0, 0, 0, 0, 0, 0, 0, 0, 0, 0, 0, 0, 0, 0, 0, 0, 0, 0, 0, 0, 0, 0, 0, 0, 0, 0, 0, 0, 0, 0, 0, 0, 0, 0, 0, 0, 0, 0, 0, 0, 0, 0, 0, 0, 0, 0, 0, 0, 0, 0, 0, 0, 0, 0, 0, 0, 0, 0, 0, 0, 0, 0, 0, 0, 0, 0, 0, 0, 0, 0, 0, 0, 0, 0, 0, 0, 0, 0, 0, 0, 0, 0, 0, 0, 0, 0, 0, 0, 0, 0, 0, 0, 0, 0, 0, 0, 0, 0, 0, 0, 0, 0, 0, 0, 0, 0, 0, 0, 0, 0, 0, 0, 0, 0, 0, 0, 0, 0, 0, 0, 0, 0, 0, 0, 0, 0, 0, 0, 0, 0, 0, 0, 0, 0, 0, 0, 0, 0, 0, 0, 0, 0, 0, 0, 0, 0, 0, 0, 0, 0, 0, 0, 0, 0, 0, 0, 0, 0, 0, 0, 0, 0, 0, 0, 0, 0, 0, 0, 0, 0, 0, 0, 0, 0, 0, 0, 0, 0, 0, 0, 0, 0, 0, 0, 0, 0, 0, 0, 0, 0, 0, 0, 0, 0, 0, 0, 0, 0, 0, 0, 0, 0, 0, 0, 0, 0, 0, 0, 0, 0, 0, 0, 0, 0, 0, 0, 0, 0, 0, 0, 0, 0, 0, 0, 0, 0, 0, 0, 0, 0, 0, 0, 0, 0, 0, 0, 0, 0, 0, 0, 0, 0, 0, 0, 0, 0, 0, 0, 0, 0, 0, 0, 0, 0, 0, 0, 0, 0, 0, 0, 0, 0, 0, 0, 0, 0, 0, 0, 0, 0, 0, 0, 0, 0, 0, 0, 0, 0, 0, 0, 0, 0, 0, 0, 0, 0, 0, 0, 0, 0, 0, 0, 0, 0, 0, 0, 0, 0, 0, 0, 0, 0, 0, 0, 0, 0, 0, 0, 0, 0, 0, 0, 0, 0, 0, 0, 0, 0, 0, 0, 0, 0, 0, 0, 0, 0, 0, 0, 0, 0, 0, 0, 0, 0, 0, 0, 0, 0, 0, 0, 0, 0, 0, 0, 0, 0, 0, 0, 0, 0, 0, 0, 0, 0, 0, 0, 0, 0, 0, 0, 0, 0, 0, 0, 0, 0, 0, 0, 0, 0, 0, 0, 0, 0, 0, 0, 0, 0, 0, 0, 0, 0, 0, 0, 0, 0, 0, 0, 0, 0, 0, 0, 0, 0, 0, 0, 0, 0, 0, 0, 0, 0, 0, 0, 0, 0, 0, 0, 0, 0, 0, 0, 0, 0, 0, 0, 0, 0, 0, 0, 0, 0, 0, 0, 0, 0, 0, 0, 0, 0, 0, 0, 0, 0, 0, 0, 0, 0, 0, 0, 0, 0, 0, 0, 0, 0, 0, 0, 0, 0, 0, 0, 0, 0, 0, 0, 0, 0, 0, 0, 0, 0, 0, 0, 0, 0, 0, 0, 0, 0, 0, 0, 0, 0, 0, 0, 0, 0, 0, 0, 0, 0, 0, 0, 0, 0, 0, 0, 0, 0, 0, 0, 0, 0, 0, 0, 0, 0, 0, 0, 0, 0, 0, 0, 0, 0, 0, 0, 0, 0, 0, 0, 0, 0, 0, 0, 0, 0, 0, 0, 0, 0, 0, 0, 0, 0, 0, 0, 0, 0, 0, 0, 0, 0, 0, 0, 0, 0, 0, 0, 0, 0, 0, 0, 0, 0, 0, 0, 0, 0, 0, 0, 0, 0, 0, 0, 0, 0, 0, 0, 0, 0, 0, 0, 0, 0, 0, 0, 0, 0, 0, 0, 0, 0, 0, 0, 0, 0, 0, 0, 0, 0, 0, 0, 0, 0, 0, 0, 0, 0, 0, 0, 0, 0, 0, 0, 0, 0, 0, 0, 0, 0, 0, 0, 0, 0, 0, 0, 0, 0, 0, 0, 0, 0, 0, 0, 0, 0, 0, 0, 0, 0, 0, 0, 0, 0, 0, 0, 0, 0, 0, 0, 0, 0, 0, 0, 0, 0, 0, 0, 0, 0, 0, 0, 0, 0, 0, 0, 0, 0, 0, 0, 0, 0, 0, 0, 0, 0, 0, 0, 0, 0, 0, 0, 0, 0, 0, 0, 0, 0, 0, 0, 0, 0, 0, 0, 0, 0, 0, 0, 0, 0, 0, 0, 0, 0, 0, 0, 0, 0, 0, 0, 0, 0, 0, 0, 0, 0, 0, 0, 0, 0, 0, 0, 0, 0, 0, 0, 0, 0, 0, 0, 0, 0, 0, 0, 0, 0, 0, 0, 0, 0, 0, 0, 0, 0, 0, 0, 0, 0, 0, 0, 0, 0, 0, 0, 0, 0, 0, 0, 0, 0, 0, 0, 0, 0, 0, 0, 0, 0, 0, 0, 0, 0, 0, 0, 0, 0, 0, 0, 0, 0, 0, 0, 0, 0, 0, 0, 0, 0, 0, 0, 0, 0, 0, 0, 0, 0, 0, 0, 0, 0, 0, 0, 0, 0, 0, 0, 0, 0, 0, 0, 0, 0, 0, 0, 0, 0, 0, 0, 0, 0, 0, 0, 0, 0, 0, 0, 0, 0, 0, 0, 0, 0, 0, 0, 0, 0, 0, 0, 0, 0, 0, 0, 0, 0, 0, 0, 0, 0, 0, 0, 0, 0, 0, 0, 0, 0, 0, 0, 0, 0, 0, 0, 0, 0, 0, 0, 0, 0, 0, 0, 0, 0, 0, 0, 0, 0, 0, 0, 0, 0, 0, 0, 0, 0, 0, 0, 0, 0, 0, 0, 0, 0, 0, 0, 0, 0, 0, 0, 0, 0, 0, 0, 0, 0, 0, 0, 0, 0, 0, 0, 0, 0, 0, 0, 0, 0, 0, 0, 0, 0, 0, 0, 0, 0, 0, 0, 0, 0, 0, 0, 0, 0, 0, 0, 0, 0, 0, 0, 0, 0, 0, 0, 0, 0, 0, 0, 0, 0, 0, 0, 0, 0, 0, 0, 0, 0, 0, 0, 0, 0, 0, 0, 0, 0, 0, 0, 0, 0, 0, 0, 0, 0, 0, 0, 0, 0, 0, 0, 0, 0, 0, 0, 0, 0, 0, 0, 0, 0, 0, 0, 0, 0, 0, 0, 0, 0, 0, 0, 0, 0, 0, 0, 0, 0, 0, 0, 0, 0, 0, 0, 0, 0, 0, 0, 0, 0, 0, 0, 0, 0, 0, 0, 0, 0, 0, 0, 0, 0, 0, 0, 0, 0, 0, 0, 0, 0, 0, 0, 0, 0, 0, 0, 0, 0, 0, 0, 0, 0, 0, 0, 0, 0, 0, 0, 0, 0, 0, 0, 0, 0, 0, 0, 0, 0, 0, 0, 0, 0, 0, 0, 0, 0, 0, 0, 0, 0, 0, 0, 0, 0, 0, 0, 0, 0, 0, 0, 0, 0, 0, 0, 0, 0, 0, 0, 0, 0, 0, 0, 0, 0, 0, 0, 0, 0, 0, 0, 0, 0, 0, 0, 0, 0, 0, 0, 0, 0, 0, 0, 0, 0, 0, 0, 0, 0, 0, 0, 0, 0, 0, 0, 0, 0, 0, 0, 0, 0, 0, 0, 0, 0, 0, 0, 0, 0, 0, 0, 0, 0, 0, 0, 0, 0, 0, 0, 0, 0, 0, 0, 0, 0, 0, 0, 0, 0, 0, 0, 0, 0, 0, 0, 0, 0, 0, 0, 0, 0, 0, 0, 0, 0, 0, 0, 0, 0, 0, 0, 0, 0, 0, 0, 0, 0, 0, 0, 0, 0, 0, 0, 0, 0, 0, 0, 0, 0, 0, 0, 0, 0, 0, 0, 0, 0, 0, 0, 0, 0, 0, 0, 0, 0, 0, 0, 0, 0, 0, 0, 0, 0, 0, 0, 0, 0, 0, 0, 0, 0, 0, 0, 0, 0, 0, 0, 0, 0, 0, 0, 0, 0, 0, 0, 0, 0, 0, 0, 0, 0, 0, 0, 0, 0, 0, 0, 0, 0, 0, 0, 0, 0, 0, 0, 0, 0, 0, 0, 0, 0, 0, 0, 0, 0, 0, 0, 0, 0, 0, 0, 0, 0, 0, 0, 0, 0, 0, 0, 0, 0, 0, 0, 0, 0, 0, 0, 0, 0, 0, 0, 0, 0, 0, 0, 0, 0, 0, 0, 0, 0, 0, 0, 0, 0, 0, 0, 0, 0, 0, 0, 0, 0, 0, 0, 0, 0, 0, 0, 0, 0, 0, 0, 0, 0, 0, 0, 0, 0, 0, 0, 0, 0, 0, 0, 0, 0, 0, 0, 0, 0, 0, 0, 0, 0, 0, 0, 0, 0, 0, 0, 0, 0, 0, 0, 0, 0, 0, 0, 0, 0, 0, 0, 0, 0, 0, 0, 0, 0, 0, 0, 0, 0, 0, 0, 0, 0, 0, 0, 0, 0, 0, 0, 0, 0, 0, 0, 0, 0, 0, 0, 0, 0, 0, 0, 0, 0, 0, 0, 0, 0, 0, 0, 0, 0, 0, 0, 0, 0, 0, 0, 0, 0, 0, 0, 0, 0, 0, 0, 0, 0, 0, 0, 0, 0, 0, 0, 0, 0, 0, 0, 0, 0, 0, 0, 0, 0, 0, 0, 0, 0, 0, 0, 0, 0, 0, 0, 0, 0, 0, 0, 0, 0, 0, 0, 0, 0, 0, 0, 0, 0, 0, 0, 0, 0, 0, 0, 0, 0, 0, 0, 0, 0, 0, 0, 0, 0, 0, 0, 0, 0, 0, 0, 0, 0, 0, 0, 0, 0, 0, 0, 0, 0, 0, 0, 0, 0, 0, 0, 0, 0, 0, 0, 0, 0, 0, 0, 0, 0, 0, 0, 0, 0, 0, 0, 0, 0, 0, 0, 0, 0, 0, 0, 0, 0, 0, 0, 0, 0, 0, 0, 0, 0, 0, 0, 0, 0, 0, 0, 0, 0, 0, 0, 0, 0, 0, 0, 0, 0, 0, 0, 0, 0, 0, 0, 0, 0, 0, 0, 0, 0, 0, 0, 0, 0, 0, 0, 0, 0, 0, 0, 0, 0, 0, 0, 0, 0, 0, 0, 0, 0, 0, 0, 0, 0, 0, 0, 0, 0, 0, 0, 0, 0, 0, 0, 0, 0, 0, 0, 0, 0, 0, 0, 0, 0, 0, 0, 0, 0, 0, 0, 0, 0, 0, 0, 0, 0, 0, 0, 0, 0, 0, 0, 0, 0, 0, 0, 0, 0, 0, 0, 0, 0, 0, 0, 0, 0, 0, 0, 0, 0, 0, 0, 0, 0, 0, 0, 0, 0, 0, 0, 0, 0, 0, 0, 0, 0, 0, 0, 0, 0, 0, 0, 0, 0, 0, 0, 0, 0, 0, 0, 0, 0, 0, 0, 0, 0, 0, 0, 0, 0, 0, 0, 0, 0, 0, 0, 0, 0, 0, 0, 0, 0, 0, 0, 0, 0, 0, 0, 0, 0, 0, 0, 0, 0, 0, 0, 0, 0, 0, 0, 0, 0, 0, 0, 0, 0, 0, 0, 0, 0, 0, 0, 0, 0, 0, 0, 0, 0, 0, 0, 0, 0, 0, 0, 0, 0, 0, 0, 0, 0, 0, 0, 0, 0, 0, 0, 0, 0, 0, 0, 0, 0, 0, 0, 0, 0, 0, 0, 0, 0, 0, 0, 0, 0, 0, 0, 0, 0, 0, 0, 0, 0, 0, 0, 0, 0, 0, 0, 0, 0, 0, 0, 0, 0, 0, 0, 0, 0, 0, 0, 0, 0, 0, 0, 0, 0, 0, 0, 0, 0, 0, 0, 0, 0, 0, 0, 0, 0, 0, 0, 0, 0, 0, 0, 0, 0, 0, 0, 0, 0, 0, 0, 0, 0, 0, 0, 0, 0, 0, 0, 0, 0, 0, 0, 0, 0, 0, 0, 0, 0, 0, 0, 0, 0, 0, 0, 0, 0, 0, 0, 0, 0, 0, 0, 0, 0, 0, 0, 0, 0, 0, 0, 0, 0, 0, 0, 0, 0, 0, 0, 0, 0, 0, 0, 0, 0, 0, 0, 0, 0, 0, 0, 0, 0, 0, 0, 0, 0, 0, 0, 0, 0, 0, 0, 0, 0, 0, 0, 0, 0, 0, 0, 0, 0, 0, 0, 0, 0, 0, 0, 0, 0, 0, 0, 0, 0, 0, 0, 0, 0, 0, 0, 0, 0, 0, 0, 0, 0, 0, 0, 0, 0, 0, 0, 0, 0, 0, 0, 0, 0, 0, 0, 0, 0, 0, 0, 0, 0, 0, 0, 0, 0, 0, 0, 0, 0, 0, 0, 0, 0, 0, 0, 0, 0, 0, 0, 0, 0, 0, 0, 0, 0, 0, 0, 0, 0, 0, 0, 0, 0, 0, 0, 0, 0, 0, 0, 0, 0, 0, 0, 0, 0, 0, 0, 0, 0, 0, 0, 0, 0, 0, 0, 0, 0, 0, 0, 0, 0, 0, 0, 0, 0, 0, 0, 0, 0, 0, 0, 0, 0, 0, 0, 0, 0, 0, 0, 0, 0, 0, 0, 0, 0, 0, 0, 0, 0, 0, 0, 0, 0, 0, 0, 0, 0, 0, 0, 0, 0, 0, 0, 0, 0, 0, 0, 0, 0, 0, 0, 0, 0, 0, 0, 0, 0, 0, 0, 0, 0, 0, 0, 0, 0, 0, 0, 0, 0, 0, 0, 0, 0, 0, 0, 0, 0, 0, 0, 0, 0, 0, 0, 0, 0, 0, 0, 0, 0, 0, 0, 0, 0, 0, 0, 0, 0, 0, 0, 0, 0, 0, 0, 0, 0, 0, 0, 0, 0, 0, 0, 0, 0, 0, 0, 0, 0, 0, 0, 0, 0, 0, 0, 0, 0, 0, 0, 0, 0, 0, 0, 0, 0, 0, 0, 0, 0, 0, 0, 0, 0, 0, 0, 0, 0, 0, 0, 0, 0, 0, 0, 0, 0, 0, 0, 0, 0, 0, 0, 0, 0, 0, 0, 0, 0, 0, 0, 0, 0, 0, 0, 0, 0, 0, 0, 0, 0, 0, 0, 0, 0, 0, 0, 0, 0, 0, 0, 0, 0, 0, 0, 0, 0, 0, 0, 0, 0, 0, 0, 0, 0, 0, 0, 0, 0, 0, 0, 0, 0, 0, 0, 0, 0, 0, 0, 0, 0, 0, 0, 0, 0, 0, 0, 0, 0, 0, 0, 0, 0, 0, 0, 0, 0, 0, 0, 0, 0, 0, 0, 0, 0, 0, 0, 0, 0, 0, 0, 0, 0, 0, 0, 0, 0, 0, 0, 0, 0, 0, 0, 0, 0, 0, 0, 0, 0, 0, 0, 0, 0, 0, 0, 0, 0, 0, 0, 0, 0, 0, 0, 0, 0, 0, 0, 0, 0, 0, 0, 0, 0, 0, 0, 0, 0, 0, 0, 0, 0, 0, 0, 0, 0, 0, 0, 0, 0, 0, 0, 0, 0, 0, 0, 0, 0, 0, 0, 0, 0, 0, 0, 0, 0, 0, 0, 0, 0, 0, 0, 0, 0, 0, 0, 0, 0, 0, 0, 0, 0, 0, 0, 0, 0, 0, 0, 0, 0, 0, 0, 0, 0, 0, 0, 0, 0, 0, 0, 0, 0, 0, 0, 0, 0, 0, 0, 0, 0, 0, 0, 0, 0, 0, 0, 0, 0, 0, 0, 0, 0, 0, 0, 0, 0, 0, 0, 0, 0, 0, 0, 0, 0, 0, 0, 0, 0, 0, 0, 0, 0, 0, 0, 0, 0, 0, 0, 0, 0, 0, 0, 0, 0, 0, 0, 0, 0, 0, 0, 0, 0, 0, 0, 0, 0, 0, 0, 0, 0, 0, 0, 0, 0, 0, 0, 0, 0, 0, 0, 0, 0, 0, 0, 0, 0, 0, 0, 0, 0, 0, 0, 0, 0, 0, 0, 0, 0, 0, 0, 0, 0, 0, 0, 0, 0, 0, 0, 0, 0, 0, 0, 0, 0, 0, 0, 0, 0, 0, 0, 0, 0, 0, 0, 0, 0, 0, 0, 0, 0, 0, 0, 0, 0, 0, 0, 0, 0, 0, 0, 0, 0, 0, 0, 0, 0, 0, 0, 0, 0, 0, 0, 0, 0, 0, 0, 0, 0, 0, 0, 0, 0, 0, 0, 0, 0, 0, 0, 0, 0, 0, 0, 0, 0, 0, 0, 0, 0, 0, 0, 0, 0, 0, 0, 0, 0, 0, 0, 0, 0, 0, 0, 0, 0, 0, 0, 0, 0, 0, 0, 0, 0, 0, 0, 0, 0, 0, 0, 0, 0, 0, 0, 0, 0, 0, 0, 0, 0, 0, 0, 0, 0, 0, 0, 0, 0, 0, 0, 0, 0, 0, 0, 0, 0, 0, 0, 0, 0, 0, 0, 0, 0, 0, 0, 0, 0, 0, 0, 0, 0, 0, 0, 0, 0, 0, 0, 0, 0, 0, 0, 0, 0, 0, 0, 0, 0, 0, 0, 0, 0, 0, 0, 0, 0, 0, 0, 0, 0, 0, 0, 0, 0, 0, 0, 0, 0, 0, 0, 0, 0, 0, 0, 0, 0, 0, 0, 0, 0, 0, 0, 0, 0, 0, 0, 0, 0, 0, 0, 0, 0, 0, 0, 0, 0, 0, 0, 0, 0, 0, 0, 0, 0, 0, 0, 0, 0, 0, 0, 0, 0, 0, 0, 0, 0, 0, 0, 0, 0, 0, 0, 0, 0, 0, 0, 0, 0, 0, 0, 0, 0, 0, 0, 0, 0, 0, 0, 0, 0, 0, 0, 0, 0, 0, 0, 0, 0, 0, 0, 0, 0, 0, 0, 0, 0, 0, 0, 0, 0, 0, 0, 0, 0, 0, 0, 0, 0, 0, 0, 0, 0, 0, 0, 0, 0, 0, 0, 0, 0, 0, 0, 0, 0, 0, 0, 0, 0, 0, 0, 0, 0, 0, 0, 0, 0, 0, 0, 0, 0, 0, 0, 0, 0, 0, 0, 0, 0, 0, 0, 0, 0, 0, 0, 0, 0, 0, 0, 0, 0, 0, 0, 0, 0, 0, 0, 0, 0, 0, 0, 0, 0, 0, 0, 0, 0, 0, 0, 0, 0, 0, 0, 0, 0, 0, 0, 0, 0, 0, 0, 0, 0, 0, 0, 0, 0, 0, 0, 0, 0, 0, 0, 0, 0, 0, 0, 0, 0, 0, 0, 0, 0, 0, 0, 0, 0, 0, 0, 0, 0, 0, 0, 0, 0, 0, 0, 0, 0, 0, 0, 0, 0, 0, 0, 0, 0, 0, 0, 0, 0, 0, 0, 0, 0, 0, 0, 0, 0, 0, 0, 0, 0, 0, 0, 0, 0, 0, 0, 0, 0, 0, 0, 0, 0, 0, 0, 0, 0, 0, 0, 0, 0, 0, 0, 0, 0, 0, 0, 0, 0, 0, 0, 0, 0, 0, 0, 0, 0, 0, 0, 0, 0, 0, 0, 0, 0, 0, 0, 0, 0, 0, 0, 0, 0, 0, 0, 0, 0, 0, 0, 0, 0, 0, 0, 0, 0, 0, 0, 0, 0, 0, 0, 0, 0, 0, 0, 0, 0, 0, 0, 0, 0, 0, 0, 0, 0, 0, 0, 0, 0, 0, 0, 0, 0, 0, 0, 0, 0, 0, 0, 0, 0, 0, 0, 0, 0, 0, 0, 0, 0, 0, 0, 0, 0, 0, 0, 0, 0, 0, 0, 0, 0, 0, 0, 0, 0, 0, 0, 0, 0, 0, 0, 0, 0, 0, 0, 0, 0, 0, 0, 0, 0, 0, 0, 0, 0, 0, 0, 0, 0, 0, 0, 0, 0, 0, 0, 0, 0, 0, 0, 0, 0, 0, 0, 0, 0, 0, 0, 0, 0, 0, 0, 0, 0, 0, 0, 0, 0, 0, 0, 0, 0, 0, 0, 0, 0, 0, 0, 0, 0, 0, 0, 0, 0, 0, 0, 0, 0, 0, 0, 0, 0, 0, 0, 0, 0, 0, 0, 0, 0, 0, 0, 0, 0, 0, 0, 0, 0, 0, 0, 0, 0, 0, 0, 0, 0, 0, 0, 0, 0, 0, 0, 0, 0, 0, 0, 0, 0, 0, 0, 0, 0, 0, 0, 0, 0, 0, 0, 0, 0, 0, 0, 0, 0, 0, 0, 0, 0, 0, 0, 0, 0, 0, 0, 0, 0, 0, 0, 0, 0, 0, 0, 0, 0, 0, 0, 0, 0, 0, 0, 0, 0, 0, 0, 0, 0, 0, 0, 0, 0, 0, 0, 0, 0, 0, 0, 0, 0, 0, 0, 0, 0, 0, 0, 0, 0, 0, 0, 0, 0, 0, 0, 0, 0, 0, 0, 0, 0, 0, 0, 0, 0, 0, 0, 0, 0, 0, 0, 0, 0, 0, 0, 0, 0, 0, 0, 0, 0, 0, 0, 0, 0, 0, 0, 0, 0, 0, 0, 0, 0, 0, 0, 0, 0, 0, 0, 0, 0, 0, 0, 0, 0, 0, 0, 0, 0, 0, 0, 0, 0, 0, 0, 0, 0, 0, 0, 0, 0, 0, 0, 0, 0, 0, 0, 0, 0, 0, 0, 0, 0, 0, 0, 0, 0, 0, 0, 0, 0, 0, 0, 0, 0, 0, 0, 0, 0, 0, 0, 0, 0, 0, 0, 0, 0, 0, 0, 0, 0, 0, 0, 0, 0, 0, 0, 0, 0, 0, 0, 0, 0, 0, 0, 0, 0, 0, 0, 0, 0, 0, 0, 0, 0, 0, 0, 0, 0, 0, 0, 0, 0, 0, 0, 0, 0, 0, 0, 0, 0, 0, 0, 0, 0, 0, 0, 0, 0, 0, 0, 0, 0, 0, 0, 0, 0, 0, 0, 0, 0, 0, 0, 0, 0, 0, 0, 0, 0, 0, 0, 0, 0, 0, 0, 0, 0, 0, 0, 0, 0, 0, 0, 0, 0, 0, 0, 0, 0, 0, 0, 0, 0, 0, 0, 0, 0, 0, 0, 0, 0, 0, 0, 0, 0, 0, 0, 0, 0, 0, 0, 0, 0, 0, 0, 0, 0, 0, 0, 0, 0, 0, 0, 0, 0, 0, 0, 0, 0, 0, 0, 0, 0, 0, 0, 0, 0, 0, 0, 0, 0, 0, 0, 0, 0, 0, 0, 0, 0, 0, 0, 0, 0, 0, 0, 0, 0, 0, 0, 0, 0, 0, 0, 0, 0, 0, 0, 0, 0, 0, 0, 0, 0, 0, 0, 0, 0, 0, 0, 0, 0, 0, 0, 0, 0, 0, 0, 0, 0, 0, 0, 0, 0, 0, 0, 0, 0, 0, 0, 0, 0, 0, 0, 0, 0, 0, 0, 0, 0, 0, 0, 0, 0, 0, 0, 0, 0, 0, 0, 0, 0, 0, 0, 0, 0, 0, 0, 0, 0, 0, 0, 0, 0, 0, 0, 0, 0, 0, 0, 0, 0, 0, 0, 0, 0, 0, 0, 0, 0, 0, 0, 0, 0, 0, 0, 0, 0, 0, 0, 0, 0, 0, 0, 0, 0, 0, 0, 0, 0, 0, 0, 0, 0, 0, 0, 0, 0, 0, 0, 0, 0, 0, 0, 0, 0, 0, 0, 0, 0, 0, 0, 0, 0, 0, 0, 0, 0, 0, 0, 0, 0, 0, 0, 0, 0, 0, 0, 0, 0, 0, 0, 0, 0, 0, 0, 0, 0, 0, 0, 0, 0, 0, 0, 0, 0, 0, 0, 0, 0, 0, 0, 0, 0, 0, 0, 0, 0, 0, 0, 0, 0, 0, 0, 0, 0, 0, 0, 0, 0, 0, 0, 0, 0, 0, 0, 0, 0, 0, 0, 0, 0, 0, 0, 0, 0, 0, 0, 0, 0, 0, 0, 0, 0, 0, 0, 0, 0, 0, 0, 0, 0, 0, 0, 0, 0, 0, 0, 0, 0, 0, 0, 0, 0, 0, 0, 0, 0, 0, 0, 0, 0, 0, 0, 0, 0, 0, 0, 0, 0, 0, 0, 0, 0, 0, 0, 0, 0, 0, 0, 0, 0, 0, 0, 0, 0, 0, 0, 0, 0, 0, 0, 0, 0, 0, 0, 0, 0, 0, 0, 0, 0, 0, 0, 0, 0, 0, 0, 0, 0, 0, 0, 0, 0, 0, 0, 0, 0, 0, 0, 0, 0, 0, 0, 0, 0, 0, 0, 0, 0, 0, 0, 0, 0, 0, 0, 0, 0, 0, 0, 0, 0, 0, 0, 0, 0, 0, 0, 0, 0, 0, 0, 0, 0, 0, 0, 0, 0, 0, 0, 0, 0, 0, 0, 0, 0, 0, 0, 0, 0, 0, 0, 0, 0, 0, 0, 0, 0, 0, 0, 0, 0, 0, 0, 0, 0, 0, 0, 0, 0, 0, 0, 0, 0, 0, 0, 0, 0, 0, 0, 0, 0, 0, 0, 0, 0, 0, 0, 0, 0, 0, 0, 0, 0, 0, 0, 0, 0, 0, 0, 0, 0, 0, 0, 0, 0, 0, 0, 0, 0, 0, 0, 0, 0, 0, 0, 0, 0, 0, 0, 0, 0, 0, 0, 0, 0, 0, 0, 0, 0, 0, 0, 0, 0, 0, 0, 0, 0, 0, 0, 0, 0, 0, 0, 0, 0, 0, 0, 0, 0, 0, 0, 0, 0, 0, 0, 0, 0, 0, 0, 0, 0, 0, 0, 0, 0, 0, 0, 0, 0, 0, 0, 0, 0, 0, 0, 0, 0, 0, 0, 0, 0, 0, 0, 0, 0, 0, 0, 0, 0, 0, 0, 0, 0, 0, 0, 0, 0, 0, 0, 0, 0, 0, 0, 0, 0, 0, 0, 0, 0, 0, 0, 0, 0, 0, 0, 0, 0, 0, 0, 0, 0, 0, 0, 0, 0, 0, 0, 0, 0, 0, 0, 0, 0, 0, 0, 0, 0, 0, 0, 0, 0, 0, 0, 0, 0, 0, 0, 0, 0, 0, 0, 0, 0, 0, 0, 0, 0, 0, 0, 0, 0, 0, 0, 0, 0, 0, 0, 0, 0, 0, 0, 0, 0, 0, 0, 0, 0, 0, 0, 0, 0, 0, 0, 0, 0, 0, 0, 0, 0, 0, 0, 0, 0, 0, 0, 0, 0, 0, 0, 0, 0, 0, 0, 0, 0, 0, 0, 0, 0, 0, 0, 0, 0, 0, 0, 0, 0, 0, 0, 0, 0, 0, 0, 0, 0, 0, 0, 0, 0, 0, 0, 0, 0, 0, 0, 0, 0, 0, 0, 0, 0, 0, 0, 0, 0, 0, 0, 0, 0, 0, 0, 0, 0, 0, 0, 0, 0, 0, 0, 0, 0, 0, 0, 0, 0, 0, 0, 0, 0, 0, 0, 0, 0, 0, 0, 0, 0, 0, 0, 0, 0, 0, 0, 0, 0, 0, 0, 0, 0, 0, 0, 0, 0, 0, 0, 0, 0, 0, 0, 0, 0, 0, 0, 0, 0, 0, 0, 0, 0, 0, 0, 0, 0, 0, 0, 0, 0, 0, 0, 0, 0, 0, 0, 0, 0, 0, 0, 0, 0, 0, 0, 0, 0, 0, 0, 0, 0, 0, 0, 0, 0, 0, 0, 0, 0, 0, 0, 0, 0, 0, 0, 0, 0, 0, 0, 0, 0, 0, 0, 0, 0, 0, 0, 0, 0, 0, 0, 0, 0, 0, 0, 0, 0, 0, 0, 0, 0, 0, 0, 0, 0, 0, 0, 0, 0, 0, 0, 0, 0, 0, 0, 0, 0, 0, 0, 0, 0, 0, 0, 0, 0, 0, 0, 0, 0, 0, 0, 0, 0, 0, 0, 0, 0, 0, 0, 0, 0, 0, 0, 0, 0, 0, 0, 0, 0, 0, 0, 0, 0, 0, 0, 0, 0, 0, 0, 0, 0, 0, 0, 0, 0, 0, 0, 0, 0, 0, 0, 0, 0, 0, 0, 0, 0, 0, 0, 0, 0, 0, 0, 0, 0, 0, 0, 0, 0, 0, 0, 0, 0, 0, 0, 0, 0, 0, 0, 0, 0, 0, 0, 0, 0, 0, 0, 0, 0, 0, 0, 0, 0, 0, 0, 0, 0, 0, 0, 0, 0, 0, 0, 0, 0, 0, 0, 0, 0, 0, 0, 0, 0, 0, 0, 0, 0, 0, 0, 0, 0, 0, 0, 0, 0, 0, 0, 0, 0, 0, 0, 0, 0, 0, 0, 0, 0, 0, 0, 0, 0, 0, 0, 0, 0, 0, 0, 0, 0, 0, 0, 0, 0, 0, 0, 0, 0, 0, 0, 0, 0, 0, 0, 0, 0, 0, 0, 0, 0, 0, 0, 0, 0, 0, 0, 0, 0, 0, 0, 0, 0, 0, 0, 0, 0, 0, 0, 0, 0, 0, 0, 0, 0, 0, 0, 0, 0, 0, 0, 0, 0, 0, 0, 0, 0, 0, 0, 0, 0, 0, 0, 0, 0, 0, 0, 0, 0, 0, 0, 0, 0, 0, 0, 0, 0, 0, 0, 0, 0, 0, 0, 0, 0, 0, 0, 0, 0, 0, 0, 0, 0, 0, 0, 0, 0, 0, 0, 0, 0, 0, 0, 0, 0, 0, 0, 0, 0, 0, 0, 0, 0, 0, 0, 0, 0, 0, 0, 0, 0, 0, 0, 0, 0, 0, 0, 0, 0, 0, 0, 0, 0, 0, 0, 0, 0, 0, 0, 0, 0, 0, 0, 0, 0, 0, 0, 0, 0, 0, 0, 0, 0, 0, 0, 0, 0, 0, 0, 0, 0, 0, 0, 0, 0, 0, 0, 0, 0, 0, 0, 0, 0, 0, 0, 0, 0, 0, 0, 0, 0, 0, 0, 0, 0, 0, 0, 0, 0, 0, 0, 0, 0, 0, 0, 0, 0, 0, 0, 0, 0, 0, 0, 0, 0, 0, 0, 0, 0, 0, 0, 0, 0, 0, 0, 0, 0, 0, 0, 0, 0, 0, 0, 0, 0, 0, 0, 0, 0, 0, 0, 0, 0, 0, 0, 0, 0, 0, 0, 0, 0, 0, 0, 0, 0, 0, 0, 0, 0, 0, 0, 0, 0, 0, 0, 0, 0, 0, 0, 0, 0, 0, 0, 0, 0, 0, 0, 0, 0, 0, 0, 0, 0, 0, 0, 0, 0, 0, 0, 0, 0, 0, 0, 0, 0, 0, 0, 0, 0, 0, 0, 0, 0, 0, 0, 0, 0, 0, 0, 0, 0, 0, 0, 0, 0, 0, 0, 0, 0, 0, 0, 0, 0, 0, 0, 0, 0, 0, 0, 0, 0, 0, 0, 0, 0, 0, 0, 0, 0, 0, 0, 0, 0, 0, 0, 0, 0, 0, 0, 0, 0, 0, 0, 0, 0, 0, 0, 0, 0, 0, 0, 0, 0, 0, 0, 0, 0, 0, 0, 0, 0, 0, 0, 0, 0, 0, 0, 0, 0, 0, 0, 0, 0, 0, 0, 0, 0, 0, 0, 0, 0, 0, 0, 0, 0, 0, 0, 0, 0, 0, 0, 0, 0, 0, 0, 0, 0, 0, 0, 0, 0, 0, 0, 0, 0, 0, 0, 0, 0, 0, 0, 0, 0, 0, 0, 0, 0, 0, 0, 0, 0, 0, 0, 0, 0, 0, 0, 0, 0, 0, 0, 0, 0, 0, 0, 0, 0, 0, 0, 0, 0, 0, 0, 0, 0, 0, 0, 0, 0, 0, 0, 0, 0, 0, 0, 0, 0, 0, 0, 0, 0, 0, 0, 0, 0, 0, 0, 0, 0, 0, 0, 0, 0, 0, 0, 0, 0, 0, 0, 0, 0, 0, 0, 0, 0, 0, 0, 0, 0, 0, 0, 0, 0, 0, 0, 0, 0, 0, 0, 0, 0, 0, 0, 0, 0, 0, 0, 0, 0, 0, 0, 0, 0, 0, 0, 0, 0, 0, 0, 0, 0, 0, 0, 0, 0, 0, 0, 0, 0, 0, 0, 0, 0, 0, 0, 0, 0, 0, 0, 0, 0, 0, 0, 0, 0, 0, 0, 0, 0, 0, 0, 0, 0, 0, 0, 0, 0, 0, 0, 0, 0, 0, 0, 0, 0, 0, 0, 0, 0, 0, 0, 0, 0, 0, 0, 0, 0, 0, 0, 0, 0, 0, 0, 0, 0, 0, 0, 0, 0, 0, 0, 0, 0, 0, 0, 0, 0, 0, 0, 0, 0, 0, 0, 0, 0, 0, 0, 0, 0, 0, 0, 0, 0, 0, 0, 0, 0, 0, 0, 0, 0, 0, 0, 0, 0, 0, 0, 0, 0, 0, 0, 0, 0, 0, 0, 0, 0, 0, 0, 0, 0, 0, 0, 0, 0, 0, 0, 0, 0, 0, 0, 0, 0, 0, 0, 0, 0, 0, 0, 0, 0, 0, 0, 0, 0, 0, 0, 0, 0, 0, 0, 0, 0, 0, 0, 0, 0, 0, 0, 0, 0, 0, 0, 0, 0, 0, 0, 0, 0, 0, 0, 0, 0, 0, 0, 0, 0, 0, 0, 0, 0, 0, 0, 0, 0, 0, 0, 0, 0, 0, 0, 0, 0, 0, 0, 0, 0, 0, 0, 0, 0, 0, 0, 0, 0, 0, 0, 0, 0, 0, 0, 0, 0, 0, 0, 0, 0, 0, 0, 0, 0, 0, 0, 0, 0, 0, 0, 0, 0, 0, 0, 0, 0, 0, 0, 0, 0, 0, 0, 0, 0, 0, 0, 0, 0, 0, 0, 0, 0, 0, 0, 0, 0, 0, 0, 0, 0, 0, 0, 0, 0, 0, 0, 0, 0, 0, 0, 0, 0, 0, 0, 0, 0, 0, 0, 0, 0, 0, 0, 0, 0, 0, 0, 0, 0, 0, 0, 0, 0, 0, 0, 0, 0, 0, 0, 0, 0, 0, 0, 0, 0, 0, 0, 0, 0, 0, 0, 0, 0, 0, 0, 0, 0, 0, 0, 0, 0, 0, 0, 0, 0, 0, 0, 0, 0, 0, 0, 0, 0, 0, 0, 0, 0, 0, 0, 0, 0, 0, 0, 0, 0, 0, 0, 0, 0, 0, 0, 0, 0, 0, 0, 0, 0, 0, 0, 0, 0, 0, 0, 0, 0, 0, 0, 0, 0, 0, 0, 0, 0, 0, 0, 0, 0, 0, 0, 0, 0, 0, 0, 0, 0, 0, 0, 0, 0, 0, 0, 0, 0, 0, 0, 0, 0, 0, 0, 0, 0, 0, 0, 0, 0, 0, 0, 0, 0, 0, 0, 0, 0, 0, 0, 0, 0, 0, 0, 0, 0, 0, 0, 0, 0, 0, 0, 0, 0, 0, 0, 0, 0, 0, 0, 0, 0, 0, 0, 0, 0, 0, 0, 0, 0, 0, 0, 0, 0, 0, 0, 0, 0, 0]\n",
            "4\n"
          ],
          "name": "stdout"
        }
      ]
    },
    {
      "cell_type": "markdown",
      "metadata": {
        "id": "Nn4UER2SL96P"
      },
      "source": [
        "Now, vectorize the whole dataset. "
      ]
    },
    {
      "cell_type": "code",
      "metadata": {
        "id": "gUU0n_zsMvfv"
      },
      "source": [
        "### Answer starts here ###\n",
        "X_train_vect = []\n",
        "data = np.array(X_train)\n",
        "for reviews in data:\n",
        "  X_train_vect.append(vectorize(reviews, vocabulary))\n",
        "### Answer ends here ###"
      ],
      "execution_count": null,
      "outputs": []
    },
    {
      "cell_type": "code",
      "metadata": {
        "id": "N4U6rj0PQUjE"
      },
      "source": [
        "for i in range(5):\n",
        "  print_review(X_train_vect[i], y_train[i])"
      ],
      "execution_count": 1,
      "outputs": []
    },
    {
      "cell_type": "markdown",
      "metadata": {
        "id": "hzNo-5oNRXz6"
      },
      "source": [
        "For convenience, we will write a function called `preprocess_sample_point` which takes as input a single raw review and ouputs its binary bag-of-words representation."
      ]
    },
    {
      "cell_type": "code",
      "metadata": {
        "id": "BO9Ge_lwMwEP"
      },
      "source": [
        "def preprocess_sample_point(review, vocab):\n",
        "  return vectorize(clean(review), vocab)"
      ],
      "execution_count": null,
      "outputs": []
    },
    {
      "cell_type": "code",
      "metadata": {
        "id": "4-Wg-6UKrH8t"
      },
      "source": [
        "vectorized_review = preprocess_sample_point(\n",
        "    'The movie was not bad, it was really good!', vocabulary)\n",
        "print(sum(vectorized_review))\n",
        "print(vectorized_review)"
      ],
      "execution_count": null,
      "outputs": []
    },
    {
      "cell_type": "markdown",
      "metadata": {
        "id": "co54Ubd5QJDN"
      },
      "source": [
        "### Question 2.3 Preparing the test set\n",
        "\n",
        "Now that we have defined a cleaning function and extracted the features from the train set, we are ready to preprocess the test set. Implement the `preprocess` function below such that it:\n",
        "\n",
        "1. Loads the raw data from a csv file \n",
        "2. Cleans and vectorizes the reviews\n",
        "3. Converts the scores to `int`\n",
        "4. Returns the data into a  `(X_test, y_test)` tuple"
      ]
    },
    {
      "cell_type": "code",
      "metadata": {
        "id": "TBoumQUSMvXD"
      },
      "source": [
        "def preprocess(csv_filename, vocab):\n",
        "  ### Answer starts here ###\n",
        "  with open(csv_filename) as csv_file:\n",
        "    csv_reader = csv.reader(csv_file)\n",
        "    colnames = next(csv_reader)  # skip column names\n",
        "    data = list(csv_reader)\n",
        "  \n",
        "  X = []\n",
        "  y = []\n",
        "  for review, score in data:\n",
        "    X.append(vectorize(clean(review), vocab))\n",
        "    y.append(int(score))\n",
        "\n",
        "  return (X, y)\n",
        "  ### Answer ends here ###"
      ],
      "execution_count": null,
      "outputs": []
    },
    {
      "cell_type": "code",
      "metadata": {
        "id": "t84s9ir_ekgA",
        "colab": {
          "base_uri": "https://localhost:8080/",
          "height": 208
        },
        "outputId": "b1213db2-aef6-4e84-8ff9-4c1e8ac92cdf"
      },
      "source": [
        "!wget https://raw.githubusercontent.com/McGillAISociety/BootcampAssignmentDatasets/master/data/assignment2/test_reviews.csv"
      ],
      "execution_count": null,
      "outputs": [
        {
          "output_type": "stream",
          "text": [
            "--2020-10-18 18:15:33--  https://raw.githubusercontent.com/McGillAISociety/BootcampAssignmentDatasets/master/data/assignment2/test_reviews.csv\n",
            "Resolving raw.githubusercontent.com (raw.githubusercontent.com)... 151.101.0.133, 151.101.64.133, 151.101.128.133, ...\n",
            "Connecting to raw.githubusercontent.com (raw.githubusercontent.com)|151.101.0.133|:443... connected.\n",
            "HTTP request sent, awaiting response... 200 OK\n",
            "Length: 32551850 (31M) [text/plain]\n",
            "Saving to: ‘test_reviews.csv’\n",
            "\n",
            "test_reviews.csv    100%[===================>]  31.04M   118MB/s    in 0.3s    \n",
            "\n",
            "2020-10-18 18:15:35 (118 MB/s) - ‘test_reviews.csv’ saved [32551850/32551850]\n",
            "\n"
          ],
          "name": "stdout"
        }
      ]
    },
    {
      "cell_type": "code",
      "metadata": {
        "id": "FYdinHq9UYWU"
      },
      "source": [
        "X_test, y_test = preprocess('test_reviews.csv', vocabulary)"
      ],
      "execution_count": null,
      "outputs": []
    },
    {
      "cell_type": "code",
      "metadata": {
        "id": "RGKPj6iozEtS"
      },
      "source": [
        "for i in range(5):\n",
        "  print_review(X_test[i], y_test[i])"
      ],
      "execution_count": null,
      "outputs": []
    },
    {
      "cell_type": "markdown",
      "metadata": {
        "id": "hEIhyms7N3oo"
      },
      "source": [
        "\n",
        "##3. Naive Bayes\n",
        "Later in this assignment, we will use pre-existing implementations of two types of models: random forests and support vector machines. However, we will start first by implementing from sratch a third type of classifier: naive Bayes classifers. Unfortunately, Naives Bayes performs poorly on this dataset and you should expect accuracies around ~40%. Regardless, implementing it from scratch will be a good learning experience. \n",
        "\n",
        "Naive Bayes classifiers are part of a larger family of classifiers which are called 'probabilistic classifiers': not only do they try to predict classes given features, but they also estimate probability distributions over a set of classes.\n",
        "\n",
        "First, let's will go over some definitions:\n",
        "\n",
        "**Definition:** A *prior probability* is the likelihood of an event given no further assumptions. For instance, the probability that it's raining is relatively low.\n",
        "\n",
        "**Definiton:** A *posterior probability* or *conditional probability* is the likelihood of an event given that some other event has occurred. For instance, the probability that it's raining given that there are clouds is higher than if we don't make that assumption.\n",
        "\n",
        "Now we will go over some motivation:\n",
        "\n",
        "For the purpose of argument, imagine we had access to the probability distribution $\\Pr$. That is, we know how likely features and classes are. For example, $\\Pr(x_1 = 1)$ is the probability that the most common word, i.e. \"the\", is in a random movie review. Presumably, this probability is relatively high. As a second example, $\\Pr(y = 1)$ is the probability that a random movie review is 'good'. In our case, this would be somewhere close to 0.67.\n",
        "\n",
        "Since we hypothetically have access to the whole probability distribution, we also know conditional probabilities. For instance, we would know $\\Pr(y = 0 \\; \\vert \\; x_1 = 0)$, which is the probability that a random review is 'bad', given that it does not contain the word \"the\".\n",
        "\n",
        "Given a probability distribution, we can find an optimal classifier which simply picks the class which maximizes the probability that we will see that class given the observed features, in other words our classifier $f: \\B^n \\to \\B$ is given by:\n",
        "\n",
        "$$ f(x_1, \\ldots, x_n) = \\argmax_{c \\in \\B} \\Pr(y = c \\given x_1, \\ldots, x_n ).$$\n",
        "\n",
        "Where $\\argmax$ returns the element in $\\B$ which maximizes the expression to its right, and $\\B$ is the set with two elements, $\\{0, 1\\}$. For example, we have\n",
        "$$ \\argmax_{x \\in \\R} (x - x^2) = \\frac 1 2, $$\n",
        "since $\\frac 1 2$ maximizes the expression $x - x^2$.\n",
        "\n",
        "It would be great if we had access to the probability distribution $\\Pr$, but unfortunately we don't in almost every case. This means we wish to try to estimate it given some samples, i.e. the training data.\n",
        "\n",
        "However, we run into another issue: estimating the probability distribution is computionally expensive. Therefore, we assume that the different features are independent from one another. This is called the *naive conditional independence assumption*. In other words, we assume that\n",
        "\n",
        "$$ \\forall i \\in \\{1, \\ldots, n\\} : \\Pr (x_i \\given y, x_1, \\ldots, x_{i-1}, x_{i+1}, \\ldots, x_n) = \\Pr(x_i \\given y).$$\n",
        "\n",
        "Using Bayes' Theorem, we can simplify the conditional independence assumption to:\n",
        "\n",
        "$$\\Pr(y \\given x_1, \\ldots, x_n) = \\frac{\\Pr(y) \\prod_{i=1}^n \\Pr(x_i \\given y)}{\\Pr(x_1, \\ldots, x_n)}.$$\n",
        "\n",
        "However, we can observe that the denominator is constant for a given input, so it's not actually necesarry to estimate it if all we want is to find the class with the maximum posterior probability. In other words,\n",
        "\n",
        "$$ \\Pr(y \\given x_1, \\ldots, x_n) \\propto \\Pr(y) \\prod_{i=1}^n \\Pr(x_i \\given y), $$\n",
        "\n",
        "so, our classification rule becomes\n",
        "\n",
        "$$ f(x_1, \\ldots, x_n) = \\argmax_{y \\in \\B} \\Pr(y) \\prod _{i=1}^n \\Pr(x_i \\given y).$$\n",
        "\n",
        "Where $\\propto$ means \"proportional to\" and  $\\prod_{i = 1}^n g(i)$ is like summation $\\left(\\sum_{i=1}^n g(i)\\right)$, except that addition is replaced with multiplication. For example,\n",
        "\n",
        "$$\\prod_{i = 1}^5 i^2 = 1^2 \\cdot 2^2 \\cdot 3^2 \\cdot 4^2 \\cdot 5^2.$$\n",
        "\n",
        "**Note**: To estimate prior and conditional probabilities, we use the ratios of occurence counts found in the dataset. For example, to estimate $\\Pr(x_1 = 0 \\; \\vert \\; y = 0)$, we have to calculate the number of instances of class zero for which $x_1 = 0$ and divide them by the number of instances of class 0.\n",
        "\n",
        "**Note**: The naive independence assumption is usually false in practice for most features. Therefore, the resulting estimated probability distribution is usually a bad approximation of the true distribution. However, the resulting classifier often has a good performance, depending on the dataset."
      ]
    },
    {
      "cell_type": "markdown",
      "metadata": {
        "id": "fN-dse1NBQnk"
      },
      "source": [
        "### Quesiton 3.1 Estimating the Probability Distribution\n",
        "\n",
        "It would be expensive to re-estimate prior and posterior probabilities every time, so we should save probabilities in memory.\n",
        "\n",
        "Thus, you will need to save\n",
        "1. $\\Pr(y)$ for each $y \\in \\B$, and\n",
        "2. $\\Pr(x_i = u \\; \\vert \\; y)$ for each $ i \\in \\{1, \\ldots, n\\}$, $u \\in \\mathbb{B}$ and $y \\in \\mathbb{B}$.\n",
        "\n",
        "Remember that you are *estimating* the probabilities using the training set only."
      ]
    },
    {
      "cell_type": "code",
      "metadata": {
        "id": "9-KrWs3DER_R"
      },
      "source": [
        "### Answer starts here ###\n",
        "y_instneg1 = y_train.count(-1)  \n",
        "y_inst1 = y_train.count(1) \n",
        "pr_yneg1 = y_instneg1/len(y_train) #pr(y=-1)\n",
        "pr_y1 = 1 - pr_yneg1               #pr(y=1)\n",
        "\n",
        "post_x1_y1 = []                    #pr(x=1:y=1) for x_i\n",
        "post_x1_yneg1 = []                 #pr(x=1:y=-1)\n",
        "post_x0_y1 = []                    #pr(x=0:y=1)\n",
        "post_x0_yneg1 = []                 #pr(x=0:y=-1)\n",
        "\n",
        "for x in range(num_features):      #loop num_features times\n",
        "\n",
        "  inst1_1 = 0                     #save count for each conditional probabilty\n",
        "  inst1_neg1 = 0\n",
        "  inst0_1 = 0\n",
        "  inst0_neg1 = 0\n",
        "  \n",
        "  for index, vector in enumerate(X_train_vect):\n",
        "    if vector[x] == 1:\n",
        "      if y_train[index] == 1:\n",
        "        inst1_1 += 1\n",
        "      else:\n",
        "        inst1_neg1 += 1\n",
        "    else:\n",
        "      if y_train[index] == 1:\n",
        "        inst0_1 += 1\n",
        "      else:\n",
        "        inst0_neg1 += 1\n",
        "\n",
        "  post_x1_y1.append(inst1_1/y_inst1)\n",
        "  post_x1_yneg1.append(inst1_neg1/y_instneg1)\n",
        "  post_x0_y1.append(inst0_1/y_inst1)\n",
        "  post_x0_yneg1.append(inst0_neg1/y_instneg1)\n",
        "\n",
        "### Answer ends here ###"
      ],
      "execution_count": null,
      "outputs": []
    },
    {
      "cell_type": "markdown",
      "metadata": {
        "id": "wfCjr-JrEJya"
      },
      "source": [
        "### Question 3.2 Creating the Naive Bayes Classifier\n",
        "\n",
        "Create a function called `naive_bayes` which will take as input a list of features $x_1, \\ldots, x_n$ and outputs the class with the largest posterior probability given the input features."
      ]
    },
    {
      "cell_type": "code",
      "metadata": {
        "id": "sfKW9cZs4x-N"
      },
      "source": [
        "def naive_bayes(vec):\n",
        "  ### Answer starts here ###\n",
        " \n",
        "  pi1 = 1 #product of conditional probabilities where where y=1\n",
        "  pi_neg1 = 1 #product of conditional probabilities where y=-1\n",
        "  \n",
        "  for index, x in enumerate(vec):\n",
        "    if x == 1:\n",
        "      pi1 *= post_x1_y1[index]\n",
        "      pi_neg1 *= post_x1_yneg1[index]\n",
        "    else:\n",
        "      pi1 *= post_x0_y1[index]\n",
        "      pi_neg1 *= post_x0_yneg1[index]\n",
        "  \n",
        "  #multiply by prior\n",
        "  post1 = pi1*pr_y1 \n",
        "  postneg1 = pi_neg1*pr_yneg1\n",
        "\n",
        "  if post1 > postneg1:\n",
        "    return 1\n",
        "  else:\n",
        "    return -1\n",
        "\n",
        "  ### Answer ends here ###"
      ],
      "execution_count": null,
      "outputs": []
    },
    {
      "cell_type": "markdown",
      "metadata": {
        "id": "l1iGVZtkE5fF"
      },
      "source": [
        "### Question 3.3 Measuring Performance\n",
        "\n",
        "Using the naive Bayes classifier, predict the classes for each sample point in the training set as well as the test set and print accuracies.\n",
        "\n",
        "**Note:** You should get train and test accuracies of about 80-85%.\n",
        "\n",
        "**Hint:** You can use the `accuracy_score` function provided by `sklearn.metrics`"
      ]
    },
    {
      "cell_type": "code",
      "metadata": {
        "id": "7SjmIjYPSW10",
        "colab": {
          "base_uri": "https://localhost:8080/",
          "height": 52
        },
        "outputId": "9e0680d8-fb24-4656-aa72-0413ff432cd7"
      },
      "source": [
        "### Answer starts here ###\n",
        "\n",
        "#Class prediction for training set and test set respectively\n",
        "train_pred = [naive_bayes(vec) for vec in X_train_vect]\n",
        "test_pred = [naive_bayes(vec) for vec in X_test]\n",
        "\n",
        "print(\"The accuracy score for the training set is: \", sklearn.metrics.accuracy_score(y_train, train_pred))\n",
        "print(\"The accuracy score for the test set is: \", sklearn.metrics.accuracy_score(y_test, test_pred))\n",
        "### Answer ends here ###"
      ],
      "execution_count": null,
      "outputs": [
        {
          "output_type": "stream",
          "text": [
            "The accuracy score for the training set is:  0.8219528781151246\n",
            "The accuracy score for the test set is:  0.8022320892835714\n"
          ],
          "name": "stdout"
        }
      ]
    },
    {
      "cell_type": "code",
      "metadata": {
        "id": "s2ZbGmYj2WnZ",
        "colab": {
          "base_uri": "https://localhost:8080/",
          "height": 52
        },
        "outputId": "1aa48d63-a9bb-48c8-a233-c08de84d59d4"
      },
      "source": [
        "print(naive_bayes(preprocess_sample_point(\n",
        "    'Terrible. Horrible. Boring. This movie is bad', vocabulary)))\n",
        "\n",
        "print(naive_bayes(preprocess_sample_point(\n",
        "    'This movie was pretty good', vocabulary)))"
      ],
      "execution_count": null,
      "outputs": [
        {
          "output_type": "stream",
          "text": [
            "-1\n",
            "1\n"
          ],
          "name": "stdout"
        }
      ]
    },
    {
      "cell_type": "markdown",
      "metadata": {
        "id": "D-azU55RKk-s"
      },
      "source": [
        "## 4. Support Vector Machines\n",
        "\n",
        "Quick recap of SVM: A support vector classifier tries to find the best separating hyperplane through the data. If the data is linearly separable, it finds a hyperplane that maximizes the margin. If it isn't, the classifier tries to minimize the cost associated with misclassifying points.\n",
        "\n"
      ]
    },
    {
      "cell_type": "markdown",
      "metadata": {
        "id": "YKLBuWjmAKoJ"
      },
      "source": [
        "### Question 4.1 Creating a Support Vector Classifier\n",
        "Using `scikit-learn`, create a support vector classifier for our review data.\n",
        "\n",
        "1. Use `scikit-learn` to create a linear support vector classifer (name it `svm_clf`)\n",
        "2. Fit the model to our training set\n",
        "3. Print training accuracy\n",
        "4. Print test accuracy"
      ]
    },
    {
      "cell_type": "code",
      "metadata": {
        "id": "11h5qZgArCLb",
        "colab": {
          "base_uri": "https://localhost:8080/",
          "height": 86
        },
        "outputId": "47188602-6f29-451f-d2df-5bca12621b1b"
      },
      "source": [
        "### Answer starts here ###\n",
        "svm_clf = svm.LinearSVC(max_iter=5000)\n",
        "svm_clf.fit(X_train_vect, y_train)\n",
        "### Answer ends here ###"
      ],
      "execution_count": null,
      "outputs": [
        {
          "output_type": "execute_result",
          "data": {
            "text/plain": [
              "LinearSVC(C=1.0, class_weight=None, dual=True, fit_intercept=True,\n",
              "          intercept_scaling=1, loss='squared_hinge', max_iter=5000,\n",
              "          multi_class='ovr', penalty='l2', random_state=None, tol=0.0001,\n",
              "          verbose=0)"
            ]
          },
          "metadata": {
            "tags": []
          },
          "execution_count": 28
        }
      ]
    },
    {
      "cell_type": "code",
      "metadata": {
        "id": "IZm1bBVPqi00",
        "colab": {
          "base_uri": "https://localhost:8080/",
          "height": 52
        },
        "outputId": "8068b557-29e7-4406-c231-1f383b481b9f"
      },
      "source": [
        "\n",
        "train_pred = svm_clf.predict(X_train_vect)\n",
        "test_pred = svm_clf.predict(X_test)\n",
        "\n",
        "print(\"The training accuracy is: \", sklearn.metrics.accuracy_score(y_train, train_pred))\n",
        "print(\"The test accuracy is: \", sklearn.metrics.accuracy_score(y_test, test_pred))"
      ],
      "execution_count": null,
      "outputs": [
        {
          "output_type": "stream",
          "text": [
            "The training accuracy is:  0.999919996799872\n",
            "The test accuracy is:  0.8371934877395096\n"
          ],
          "name": "stdout"
        }
      ]
    },
    {
      "cell_type": "code",
      "metadata": {
        "id": "SRk2DxHptzmE",
        "colab": {
          "base_uri": "https://localhost:8080/",
          "height": 52
        },
        "outputId": "d16c6299-b22a-43ec-9da7-c9a245bf420a"
      },
      "source": [
        "print(svm_clf.predict([preprocess_sample_point(\n",
        "    'Boring. Such a bad movie. It was terrible and predictable', vocabulary)]))\n",
        "\n",
        "print(svm_clf.predict([preprocess_sample_point(\n",
        "    'I really liked this movie, it\\'s great!', vocabulary)]))"
      ],
      "execution_count": null,
      "outputs": [
        {
          "output_type": "stream",
          "text": [
            "[-1]\n",
            "[1]\n"
          ],
          "name": "stdout"
        }
      ]
    },
    {
      "cell_type": "markdown",
      "metadata": {
        "id": "z_9sFSUNKscM"
      },
      "source": [
        "## 5. Random Forests\n",
        "\n",
        "Random forests are a type of ensemble classifier, i.e. they are made up of a number of 'weak' learners where the final classification is a combination of the classifications of each learner. \n",
        "\n"
      ]
    },
    {
      "cell_type": "markdown",
      "metadata": {
        "id": "Myn-42J9ACsH"
      },
      "source": [
        "### Question 5.1 Creating a Random Forest Classifier\n",
        "Using `scikit-learn`, create a radom forest classifier for our review data.\n",
        "\n",
        "1. Use `scikit-learn` to create a random forest classifier (name it `rfc`)\n",
        "2. Fit the model to our training set\n",
        "3. Print training accuracy\n",
        "4. Print test accuracy\n",
        "\n",
        "\n",
        "\n",
        "Be sure to check the [documentation](http://scikit-learn.org/stable/modules/generated/sklearn.ensemble.RandomForestClassifier.html). Try to play around with the hyperparameters to see if you can get higher accuracy. Specifically, try finding good values for `n_estimators`, `min_samples_split`, `max_depth` and `max_features`. Try to get accuracies close to the SVM's!"
      ]
    },
    {
      "cell_type": "code",
      "metadata": {
        "id": "Ddm3xZiNZkXu",
        "colab": {
          "base_uri": "https://localhost:8080/",
          "height": 52
        },
        "outputId": "aab401ce-1499-47df-9535-26ba006bede0"
      },
      "source": [
        "### Answer starts here ###\n",
        "\n",
        "rfc = RandomForestClassifier(n_estimators=100, min_samples_split=16)\n",
        "rfc.fit(X_train_vect, y_train)\n",
        "train_pred = rfc.predict(X_train_vect)\n",
        "test_pred = rfc.predict(X_test)\n",
        "\n",
        "print(\"This is the training accuracy: \", sklearn.metrics.accuracy_score(y_train, train_pred))\n",
        "print(\"This is the test accuracy: \", sklearn.metrics.accuracy_score(y_test, test_pred))\n",
        "\n",
        "### Answer ends here ###"
      ],
      "execution_count": null,
      "outputs": [
        {
          "output_type": "stream",
          "text": [
            "This is the training accuracy:  0.998519940797632\n",
            "This is the test accuracy:  0.8456338253530141\n"
          ],
          "name": "stdout"
        }
      ]
    },
    {
      "cell_type": "code",
      "metadata": {
        "id": "dpgvYCSjcj2M",
        "colab": {
          "base_uri": "https://localhost:8080/",
          "height": 156
        },
        "outputId": "04fc424b-78c8-44f9-fbc3-ff918e3a847a"
      },
      "source": [
        "print(rfc.get_params)"
      ],
      "execution_count": null,
      "outputs": [
        {
          "output_type": "stream",
          "text": [
            "<bound method BaseEstimator.get_params of RandomForestClassifier(bootstrap=True, ccp_alpha=0.0, class_weight=None,\n",
            "                       criterion='gini', max_depth=None, max_features='auto',\n",
            "                       max_leaf_nodes=None, max_samples=None,\n",
            "                       min_impurity_decrease=0.0, min_impurity_split=None,\n",
            "                       min_samples_leaf=1, min_samples_split=16,\n",
            "                       min_weight_fraction_leaf=0.0, n_estimators=100,\n",
            "                       n_jobs=None, oob_score=False, random_state=None,\n",
            "                       verbose=0, warm_start=False)>\n"
          ],
          "name": "stdout"
        }
      ]
    },
    {
      "cell_type": "code",
      "metadata": {
        "id": "hPcnt6mI2g5e",
        "colab": {
          "base_uri": "https://localhost:8080/",
          "height": 52
        },
        "outputId": "bc93f1ee-4c10-4ef0-e129-984aed39b24b"
      },
      "source": [
        "print(rfc.predict([preprocess_sample_point(\n",
        "    'Boring. This movie is terrible', vocabulary)]))\n",
        "\n",
        "print(rfc.predict([preprocess_sample_point(\n",
        "    'This movie was pretty good', vocabulary)]))"
      ],
      "execution_count": null,
      "outputs": [
        {
          "output_type": "stream",
          "text": [
            "[-1]\n",
            "[1]\n"
          ],
          "name": "stdout"
        }
      ]
    },
    {
      "cell_type": "markdown",
      "metadata": {
        "id": "1LAqa9be_3vR"
      },
      "source": [
        "### Question 5.2 Manual hyperparameter tuning\n",
        "\n",
        "Tell us about your hyperparamter tuning in a few sentences! What was your approach? Which paramters did you try changing? Were you able to improve your accuracies? (no right answer, just tell us what you experiemented with!)\n",
        "\n",
        "#############\n",
        "\n",
        "I was getting an accuracy of 1.0 on the training set. So that was an indicator that the model is overfitting.\n",
        "\n",
        "I first tried to decrease n_estimators=75 and set max_features=None. That ran for 20 minutes after which I had to stop the code from running because it didn't seem to terminate.\n",
        "\n",
        "I then set n_estimators=50 and n_estimators=25 which didn't change the training and test accuracy that much.\n",
        "\n",
        "I know from class that n_estimators=100 is optimal for this dataset since $\\sqrt{10000}=100$. So I started increasing the min_samples_split which decresed training accuracy and increased test accuracy a little.\n",
        "\n",
        "#############"
      ]
    },
    {
      "cell_type": "markdown",
      "metadata": {
        "id": "TP4D-1PjSVfA"
      },
      "source": [
        "## 6. [Optional] Tuning hyperparameters with GridSearchCV\n",
        "In this **optional** section, we will explore how to exhaustively tune the hyperparameters of a new classifier using `sklearn's` [GridSearchCV](https://scikit-learn.org/stable/modules/generated/sklearn.model_selection.GridSearchCV.html)."
      ]
    },
    {
      "cell_type": "markdown",
      "metadata": {
        "id": "C144CYOeYPca"
      },
      "source": [
        "### Question 6.1 Creating an Adaboost classifier\n",
        "In this section, we will be tuning the hyperparameters of an `adaboost` model. \n",
        "\n",
        "As its `sklearn` [documentation](https://scikit-learn.org/stable/modules/generated/sklearn.ensemble.AdaBoostClassifier.html) mentions, this classifier \"begins by fitting a classifier on the original dataset and then fits additional copies of the classifier on the same dataset but where the weights of incorrectly classified instances are adjusted such that subsequent classifiers focus more on difficult cases.\" \n",
        "\n",
        "For this question, simply create an instance of the classifer and name it `abc`."
      ]
    },
    {
      "cell_type": "code",
      "metadata": {
        "id": "rhuzkrzfZitf"
      },
      "source": [
        "### Answer starts here ###\n",
        "abc = AdaBoostClassifier()\n",
        "### Answer ends here ###"
      ],
      "execution_count": null,
      "outputs": []
    },
    {
      "cell_type": "markdown",
      "metadata": {
        "id": "rnIbpGe-Z52z"
      },
      "source": [
        "### Question 6.2 Finding the best parameters\n",
        "In order to use GridSearchCV, we need to provide it with a classifier (here, `abc`) and lists of different values for the hyperparameters we want to tune. GridSearchCV will run a fit using each possible parameter and get crossvalidation scores. \n",
        "\n",
        "For this question, use the GridSearchCV documentation to:\n",
        "1. Create a dict of parameters to tune with their respective list of values\n",
        "2. Create an instance of GridSearchCV with `abc` as the estimator and the following arguments: `cv=5, refit=False, verbose=3`\n",
        "3. Print the resulting scores and determine which parameters are best!\n"
      ]
    },
    {
      "cell_type": "code",
      "metadata": {
        "id": "1CZJsxsqa1bC"
      },
      "source": [
        "### Answer starts here ###\n",
        "grid = {}\n",
        "grid['n_estimators'] = [10, 25, 50, 100]\n",
        "grid['learning_rate'] = [0.001, 0.01, 0.1, 1.0]\n",
        "grid_search = GridSearchCV(abc, grid, cv=5, refit='False', verbose=3)\n",
        "grid_search_result = grid_search.fit(X_train_vect, y_train)\n",
        "### Answer ends here ###\n",
        "#Note this takes forever to run (257.7minutes on Collab). I left it as is because that is how I did it but I wouldn't do this again..."
      ],
      "execution_count": null,
      "outputs": []
    },
    {
      "cell_type": "markdown",
      "metadata": {
        "id": "W6CdJGpjcK2r"
      },
      "source": [
        "### Question 6.3 Final result with best parameters\n",
        "Using the best parameters found in the previous question, reinstantiate an `adaboost` classifier, fit it to the train data, and print the the accuracy score on the test set. "
      ]
    },
    {
      "cell_type": "code",
      "metadata": {
        "id": "acx0uXvpeycS",
        "colab": {
          "base_uri": "https://localhost:8080/",
          "height": 69
        },
        "outputId": "1501e39e-9ce7-4328-8647-21570eb8e579"
      },
      "source": [
        "### Answer starts here ####\n",
        "best = grid_search_result.best_params_\n",
        "print(\"The best parameters were : \", best)\n",
        "best_abc = AdaBoostClassifier(n_estimators=100, learning_rate=1.0)\n",
        "best_abc.fit(X_train_vect, y_train)\n",
        "print(\"The training accuracy is: \", best_abc.score(X_train_vect, y_train))\n",
        "print(\"The test accuracy is: \", best_abc.score(X_test, y_test))\n",
        "### Answer ends here ####"
      ],
      "execution_count": null,
      "outputs": [
        {
          "output_type": "stream",
          "text": [
            "The best parameters were :  {'learning_rate': 1.0, 'n_estimators': 100}\n",
            "The training accuracy is:  0.8317932717308693\n",
            "The test accuracy is:  0.8279531181247249\n"
          ],
          "name": "stdout"
        }
      ]
    },
    {
      "cell_type": "markdown",
      "metadata": {
        "id": "aOsnRc2Q6ytj"
      },
      "source": [
        "## 7. Recap and conclusion\n",
        "Congratulations on reaching the end of Assignment 2! We hope you enjoyed it. \n",
        "\n",
        "Here's a recap of tasks and concepts explored in this assignment:\n",
        "\n",
        "\n",
        "1.   **Preprocessing**\n",
        "*   Cleaning train data: removing punctuation and HTML tags\n",
        "*   Basic feature engineering: vectorizing data, bag-of-words representation \n",
        "*   Using learned vocabulary to preprocess test data\n",
        "\n",
        "Preprocessing and data representation are very important in Natural Language Processing (NLP) projects. For more advanced preprocessing techniques, we highly recommend checking online the concepts of **stemming**, **n-gramming**, **stopwords removal**!\n",
        "\n",
        "2.   **Naive Bayes**\n",
        "*   Naive Bayes: recap of theory\n",
        "*   Implementing model from scratch\n",
        "\n",
        "Find out more about Naive Bayes implementations in `sklearn`: [GaussianNB](http://scikit-learn.org/stable/modules/generated/sklearn.naive_bayes.GaussianNB.html), [MultinomialNB](http://scikit-learn.org/stable/modules/generated/sklearn.naive_bayes.MultinomialNB.html), and more!\n",
        "\n",
        "3.   **Support Vector Machine**\n",
        "*   SVM: brief recap of theory and testing\n",
        "*   First introduction to `sklearn`: using already implemented models to classify data\n",
        "\n",
        "4.   **Random Forests**\n",
        "*   Random Forests: brief recap of theory and testing\n",
        "*   Introduction to hyperparameter tuning\n",
        "\n",
        "The default parameters are not always good enough! Find out more about how to tune hyperparameters in `sklearn` [here](https://scikit-learn.org/stable/modules/grid_search.html) or do the optional section 6 of this assignment. \n",
        "\n",
        "5.   **Tuning Adaboost with GridSearchCV**\n",
        "*   Adaboost: bried recap of theory and testing \n",
        "*   Tuning hyperparameters using GridSearchCV"
      ]
    },
    {
      "cell_type": "markdown",
      "metadata": {
        "id": "J7okgCQqFnxm"
      },
      "source": [
        "## 8. Submission\n",
        "\n",
        "To submit your work, please download as a .py file and upload it to its respective okpy assignment."
      ]
    }
  ]
}